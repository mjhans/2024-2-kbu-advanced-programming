{
 "cells": [
  {
   "cell_type": "markdown",
   "metadata": {},
   "source": [
    "# Overview\n",
    "\n",
    "파이썬의 데이터 타입에 대해서 살펴본다\n",
    "\n",
    "부울(Boolean) : True, False\n",
    "\n",
    "정수(Integer) : 숫자, 42, -1, 10,000,000\n",
    "\n",
    "실수(float) : 소수, 복소수 같은 것들\n",
    "\n",
    "- 3.14, 1.0e8(e8은 10의 8제곱)\n",
    "\n",
    "2장에서 언급한 literal 값 "
   ]
  },
  {
   "cell_type": "code",
   "execution_count": null,
   "metadata": {},
   "outputs": [],
   "source": [
    "print(1.0e2)"
   ]
  },
  {
   "cell_type": "markdown",
   "metadata": {},
   "source": [
    "# Booleans\n",
    "\n",
    "- True와 False값만 갖는 데이터 타입\n",
    "\n",
    "- True와 False 모두 예약어이다.\n",
    "\n",
    "- 파이썬의 특수함수 bool() 은 모든 데이터 타입에 대해서  boolean으로 변환\n",
    "\n",
    "- 0 또는 none 이아닌 값은 모두 True로 반환\n",
    "    - 문자열은 0이 아니므로 모두 True로 반환\n",
    "\n",
    "- if 문에서 조건 처리 할때 조건식이 결과를 bool이 아닌 값이 나오는지여부로 결정할수 있다 "
   ]
  },
  {
   "cell_type": "code",
   "execution_count": null,
   "metadata": {},
   "outputs": [],
   "source": [
    "print(bool(True), type(bool(True)))\n",
    "print(bool(1), type(bool(1)))\n",
    "\n",
    "print(bool(0), type(bool(0)))\n",
    "print(bool(None), type(bool(None)))\n",
    "\n",
    "print(bool('0'), type(bool('0')))\n",
    "print(bool('None'), type(bool('None')))\n"
   ]
  },
  {
   "cell_type": "markdown",
   "metadata": {},
   "source": [
    "# Integers\n",
    "\n",
    "정수는 분수나 소수가 없는 부호 있는 숫자\n",
    "\n",
    "십진수외 다른 진법의 표시도 가능\n",
    "\n",
    "## literal integer\n",
    "\n",
    "0으로 시작하지 않는 연속된 숫자를 리터럴 정수로 간주\n",
    "\n",
    "- 양수(positive Integer) : 숫자 앞에 기호가 없거나 +기호를 붙인다.\n",
    "\n",
    "- 음수(negative Integer) : - 기호를 숫자 앞에 붙인다.\n",
    "\n",
    "```python\n",
    "+1234\n",
    "1234\n",
    "-1234\n",
    "```"
   ]
  },
  {
   "cell_type": "code",
   "execution_count": null,
   "metadata": {},
   "outputs": [],
   "source": [
    "print(5, type(5))\n",
    "print(0, type(0))\n",
    "print(50, type(50))\n"
   ]
  },
  {
   "cell_type": "code",
   "execution_count": null,
   "metadata": {},
   "outputs": [],
   "source": [
    "# 0을 앞에 쓸수 없다\n",
    "05"
   ]
  },
  {
   "cell_type": "code",
   "execution_count": null,
   "metadata": {},
   "outputs": [],
   "source": [
    "#양수(positive Integer) : 숫자 앞에 기호가 없거나 +기호를 붙인다.\n",
    "1234\n",
    "# 음수(negative Integer) : - 기호를 숫자 앞에 붙인다.\n",
    "-1234"
   ]
  },
  {
   "cell_type": "markdown",
   "metadata": {},
   "source": [
    "## 숫자의 가독성\n",
    "\n",
    "천단위 쉼표 : 23,000,000\n",
    "\n",
    "파이썬에 쉼표를 쓸 경우 Tuple이라는 데이터 형태로 변환\n",
    "\n",
    "쉼표 대신 _ 사용\n",
    "\n",
    "- `숫자의 첫시작을 _ 로 할경우 변수로 인식`"
   ]
  },
  {
   "cell_type": "code",
   "execution_count": null,
   "metadata": {},
   "outputs": [],
   "source": [
    "num = 23,000,000\n",
    "print(num, type(num))\n",
    "\n",
    "num = 23_000_000\n",
    "print(num, type(num))\n",
    "\n",
    "million = 1,000,000\n",
    "print(million, type(million))\n",
    "\n",
    "million = 1_000_000\n",
    "print(million, type(million))\n",
    "\n",
    "million = 10_00_00_0\n",
    "print(million, type(million))"
   ]
  },
  {
   "cell_type": "code",
   "execution_count": null,
   "metadata": {},
   "outputs": [],
   "source": [
    "# 숫자의 첫시작을 _ 로 할경우 변수로 인식\n",
    "_1000 = 1000\n",
    "print(_1000)"
   ]
  },
  {
   "cell_type": "markdown",
   "metadata": {},
   "source": [
    "## 정수(산술) 연산자\n",
    "\n",
    "| Operator | Description                   | Example | Result |\n",
    "|----------|-------------------------------|---------|--------|\n",
    "| +        | Addition                      | 5 + 8   | 13     |\n",
    "| -        | Subtraction                   | 90 - 10 | 80     |\n",
    "| *        | Multiplication                | 4 * 7   | 28     |\n",
    "| /        | Floating-point division       | 7 / 2   | 3.5    |\n",
    "| //       | Integer (truncating) division | 7 // 2  | 3      |\n",
    "| %        | Modulus (remainder)           | 7 % 3   | 1      |\n",
    "| **       | Exponentiation                | 3 ** 4  | 81     |"
   ]
  },
  {
   "cell_type": "markdown",
   "metadata": {},
   "source": [
    "### 덧셈, 뺄셈, 곱셈, 거듭제곱"
   ]
  },
  {
   "cell_type": "code",
   "execution_count": null,
   "metadata": {},
   "outputs": [],
   "source": [
    "# 덧셈과 뺄셈, 곱셈, 거듭제곱\n",
    "print(5 - 4)\n",
    "print(5 + 4)\n",
    "print(5 + 4 + 3 + 2 + 1)\n",
    "print(5 - 4 - 3 - 2 - 1)\n",
    "print(5 * 4)\n",
    "print(5 ** 4)"
   ]
  },
  {
   "cell_type": "markdown",
   "metadata": {},
   "source": [
    "### 나눗셈\n",
    "\n",
    "`/` : 나눗셈의 결과가 부동 소수점으로 반환\n",
    "\n",
    "`//` : 나누기의 몫(quotient)만 반환 (소수점 이하 버림)\n",
    "\n",
    "`%` : 나누기 결과 후 나머지 값(remainder)만 반환\n",
    "\n",
    "0으로 나누면 에러 발생 (4 / 0)\n",
    "\n",
    "divmod 함수 사용시 몫(정수)과 나머지(정수)를 Tuple로 반환받는다."
   ]
  },
  {
   "cell_type": "code",
   "execution_count": null,
   "metadata": {},
   "outputs": [],
   "source": [
    "div = 5 / 4\n",
    "print(div, type(div))\n",
    "div = 5 // 4\n",
    "print(div, type(div))\n",
    "remainder = 5 % 4\n",
    "print(remainder, type(remainder))\n",
    "\n",
    "div = divmod(5, 4)\n",
    "print(div, type(div))"
   ]
  },
  {
   "cell_type": "code",
   "execution_count": null,
   "metadata": {},
   "outputs": [],
   "source": [
    "5 / 0"
   ]
  },
  {
   "cell_type": "markdown",
   "metadata": {},
   "source": [
    "### 정수와 변수(Integers and Variables)\n",
    "\n",
    "- 할당 연산자 : = 앞에 산술 연산자를 결합해서 연산과 동시에 할당 가능"
   ]
  },
  {
   "cell_type": "code",
   "execution_count": null,
   "metadata": {},
   "outputs": [],
   "source": [
    "a = 95\n",
    "\n",
    "# a 변수의 값은 변하지 않는다.\n",
    "print(a)\n",
    "a - 3\n",
    "print(a)"
   ]
  },
  {
   "cell_type": "code",
   "execution_count": null,
   "metadata": {},
   "outputs": [],
   "source": [
    "# a의 값을 3을 뺀 값으로 변경하려면 다음과 같이 해야한다.\n",
    "a = a - 3\n",
    "print(a)"
   ]
  },
  {
   "cell_type": "code",
   "execution_count": null,
   "metadata": {},
   "outputs": [],
   "source": [
    "# 할당 연산자를 이용해서 코드를 간단하게 만들수 있다.\n",
    "a = 95\n",
    "a -= 3\n",
    "print(a)\n",
    "a += 3\n",
    "print(a)\n",
    "a *= 3\n",
    "print(a)\n",
    "a /= 2\n",
    "print(a)"
   ]
  },
  {
   "cell_type": "markdown",
   "metadata": {},
   "source": [
    "## 연산 순서\n",
    "\n",
    "```python\n",
    "5 + 4 * 3 = 27? , 17?\n",
    "```\n",
    "\n",
    "- 연산 순서\n",
    "\n",
    "|    | Operator                                     | Description and examples                                                    |\n",
    "|----|----------------------------------------------|-----------------------------------------------------------------------------|\n",
    "| 1  | [v, …], {v1, …}, {k1:v1, …}, (…)             | List/set/dict/generator creation or comprehension, parenthesized expression |\n",
    "| 2  | seq[n], seq[n:m], func(args…), obj.attr      | Index, slice, function call, attribute reference                            |\n",
    "| 3  | **                                           | Exponentiation                                                              |\n",
    "| 4  | +n, –n, ~n                                   | Positive, negative, bitwise not                                             |\n",
    "| 5  | *, /, //, %                                  | Multiplication, float division, int division, remainder                     |\n",
    "| 6  | +, -                                         | Addition, subtraction                                                       |\n",
    "| 7  | <<, >>                                       | Bitwise left, right shifts                                                  |\n",
    "| 8  | &                                            | Bitwise and                                                                 |\n",
    "| 9  | |                                            | Bitwise or                                                                  |\n",
    "| 10 | in, not in, is, is not, <, <=, >, >=, !=, == | Membership and equality tests                                               |\n",
    "| 11 | not x                                        | Boolean (logical) not                                                       |\n",
    "| 12 | and                                          | Boolean and                                                                 |\n",
    "| 13 | or                                           | Boolean or                                                                  |\n",
    "| 14 | if … else                                    | Conditional expression                                                      |\n",
    "| 15 | lambda …                                     | lambda expression                                                           |\n",
    "\n",
    "\n",
    "먼저 연산할 것을 괄호로 묶어주면 된다"
   ]
  },
  {
   "cell_type": "code",
   "execution_count": null,
   "metadata": {},
   "outputs": [],
   "source": [
    "print(5 + 4 * 3)\n",
    "print((5 + 4) * 3)\n",
    "\n",
    "print(-5 ** 2)\n",
    "print((-5) ** 2)"
   ]
  },
  {
   "cell_type": "markdown",
   "metadata": {},
   "source": [
    "# 진수(Bases)\n",
    "\n",
    "인간이 10진수를 쓰게 된 이유가 손가락이 10개여서 라는 설이 있다\n",
    "\n",
    "파이썬은 3가지 리터럴 정수 표현가능\n",
    "- 2진수 (binary) : 0b, 0B\n",
    "- 8진수 (Octal) : 0o, 0O\n",
    "- 16진수 (Hex) : 0x, 0X"
   ]
  },
  {
   "cell_type": "code",
   "execution_count": null,
   "metadata": {},
   "outputs": [],
   "source": [
    "# 다른 진수로 된 값을 10진수로 표현하기\n",
    "\n",
    "print(10, type(10))\n",
    "print(0b10, type(0b10)) # 2진수\n",
    "print(0o10, type(0o10)) # 8진수\n",
    "print(0x10, type(0x10)) # 16진수\n",
    "\n",
    "# 10진수를 다른 진수로 표현하기, 반환값이 문자열\n",
    "print(bin(10), type(bin(10)))\n",
    "print(oct(10), type(oct(10)))\n",
    "print(hex(10), type(hex(10)))\n",
    "\n"
   ]
  },
  {
   "cell_type": "markdown",
   "metadata": {},
   "source": [
    "## 진법 계산은 어디에 쓰이는가?\n",
    "\n",
    "- 대학원 시절, 프로토콜 변환 작업 인계받음\n",
    "\n",
    "시스템 구조 : 서로다른 프로토콜을 하나의 단일 프로토콜로 변경\n",
    "\n",
    "![시스템 구조](images/ch03_1_1.png)\n",
    "\n",
    "프로토콜 명세서 : 비트 단위로 연산 필요한 구조, 헤더값이 3bit로 정해진다.\n",
    "\n",
    "![프로토콜 명세](images/ch03_1_2.png)\n",
    "\n",
    "진법 계산이 아닌 문자열 처리를 하다보니 코드가 엄청 길어지기 시작하면서 거의 사용불가\n",
    "\n",
    "![진법](images/ch03_1_3.png)\n",
    "\n",
    "프로토콜별로 C++ 구조체를 정의하고, 해당 구조체에 맞는 변환 함수를 작성하는 형태로 구성\n",
    "\n",
    "![작업1](images/ch03_1_4.png)\n",
    "\n",
    "![작업2](images/ch03_1_5.png)\n",
    "\n",
    "\n",
    "\n"
   ]
  },
  {
   "cell_type": "markdown",
   "metadata": {},
   "source": [
    "## 타입 변환 (Type Conversions)\n",
    "\n",
    "int() : 데이터 타입을 정수 타입으로 변환\n",
    "\n",
    "bool() 정수를 boolean으로 변환\n",
    "\n",
    "문자열로 된 숫자도 숫자로 변경\n",
    "\n",
    "정수로 이루어진 문자열이 아닌 경우 에러 발생\n"
   ]
  },
  {
   "cell_type": "code",
   "execution_count": 4,
   "metadata": {},
   "outputs": [
    {
     "name": "stdout",
     "output_type": "stream",
     "text": [
      "1000 <class 'int'>\n",
      "-23 <class 'int'>\n",
      "1000 <class 'int'>\n"
     ]
    }
   ],
   "source": [
    "i = int('1000')\n",
    "print(i, type(i))\n",
    "\n",
    "i = int('-23')\n",
    "print(i, type(i))\n",
    "\n",
    "i = int('1_00_0')\n",
    "print(i, type(i))"
   ]
  },
  {
   "cell_type": "code",
   "execution_count": 11,
   "metadata": {},
   "outputs": [
    {
     "name": "stdout",
     "output_type": "stream",
     "text": [
      "2\n",
      "8\n",
      "255\n",
      "19\n"
     ]
    }
   ],
   "source": [
    "# int 함수 두번째 인자는 진법이다. \n",
    "print(int('10', 2)) # 2진수 -> 10진수\n",
    "print(int('10', 8)) # 8진수 -> 10진수\n",
    "print(int('FF', 16)) # 16진수 -> 10진수\n",
    "print(int('J', 31)) # 31진수 -> 10진수"
   ]
  },
  {
   "cell_type": "markdown",
   "metadata": {},
   "source": [
    "## Int의 크기(How Big Is an int?)\n",
    "\n",
    "| Python Version | Data Type | System Architecture | Maximum Value                           |\n",
    "|----------------|-----------|---------------------|-----------------------------------------|\n",
    "| Python 2       | int       | 32-bit              | (2^31 - 1) or 2,147,483,647             |\n",
    "| Python 2       | int       | 64-bit              | (2^63 - 1) or 9,223,372,036,854,775,807 |\n",
    "| Python 2       | long      | 32-bit              | Constrained only by available memory    |\n",
    "| Python 2       | long      | 64-bit              | Constrained only by available memory    |\n",
    "| Python 3       | int       | 32-bit              | Constrained only by available memory    |\n",
    "| Python 3       | int       | 64-bit              | Constrained only by available memory    |\n",
    "\n",
    "\n",
    "python3 에는 Long이 없고 가능한 메모리 크기 만큼, 할당 가능하다\n",
    "\n",
    "10 ** 100 ( googol ) 의 값도 가능하다"
   ]
  },
  {
   "cell_type": "code",
   "execution_count": 12,
   "metadata": {},
   "outputs": [
    {
     "name": "stdout",
     "output_type": "stream",
     "text": [
      "10000000000000000000000000000000000000000000000000000000000000000000000000000000000000000000000000000 <class 'int'>\n"
     ]
    }
   ],
   "source": [
    "googol = 10 ** 100\n",
    "print(googol, type(googol))"
   ]
  },
  {
   "cell_type": "markdown",
   "metadata": {},
   "source": [
    "# Float"
   ]
  },
  {
   "cell_type": "code",
   "execution_count": null,
   "metadata": {},
   "outputs": [],
   "source": []
  },
  {
   "cell_type": "markdown",
   "metadata": {},
   "source": []
  }
 ],
 "metadata": {
  "kernelspec": {
   "display_name": "python-class",
   "language": "python",
   "name": "python3"
  },
  "language_info": {
   "codemirror_mode": {
    "name": "ipython",
    "version": 3
   },
   "file_extension": ".py",
   "mimetype": "text/x-python",
   "name": "python",
   "nbconvert_exporter": "python",
   "pygments_lexer": "ipython3",
   "version": "3.11.8"
  }
 },
 "nbformat": 4,
 "nbformat_minor": 2
}
