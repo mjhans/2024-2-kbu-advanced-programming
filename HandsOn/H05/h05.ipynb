{
 "cells": [
  {
   "cell_type": "markdown",
   "metadata": {},
   "source": [
    "# 문제\n",
    "\n",
    "Loerm.txt 파일을 read해서 단어별 카운트를 하라\n",
    "\n",
    "* 단어의 기준 : 공백(1빈칸)\n",
    "\n",
    "힌트\n",
    "\n",
    "* Dict 자료형을 사용하거나\n",
    "\n",
    "* Counter 콜렉션 사용 : https://docs.python.org/3.11/library/collections.html#collections.Counter\n"
   ]
  },
  {
   "cell_type": "markdown",
   "metadata": {},
   "source": [
    "![결과](./result.png)"
   ]
  },
  {
   "cell_type": "markdown",
   "metadata": {},
   "source": []
  }
 ],
 "metadata": {
  "language_info": {
   "name": "python"
  }
 },
 "nbformat": 4,
 "nbformat_minor": 2
}
