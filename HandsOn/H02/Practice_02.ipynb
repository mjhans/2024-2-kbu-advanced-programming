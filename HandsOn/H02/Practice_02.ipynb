{
 "cells": [
  {
   "cell_type": "markdown",
   "metadata": {},
   "source": [
    "## Palindrome 체크하기\n",
    "\n",
    "- 입력받은 값이 palindrome인지 아닌지 확인하는 프로그램\n",
    "    - 팰린드롬 : 앞으로 읽어도, 뒤로 읽어도 같은단어 (기러기, 토마토, racecar)\n",
    "- 파일 이름 : palindrome_checker.py\n",
    "\n",
    "\n",
    "## Even Or Odd\n",
    "\n",
    "- 입력받은 값이 짝수 또는 홀수인지 알려주는 프로그램\n",
    "- 파일 이름 : even_or_odd_checker.py\n",
    "\n",
    "## 윤년(leap year) 확인하기\n",
    "\n",
    "윤년 : 1년이 366일이 되는 해, 2월 29일이 있는 연도\n",
    "\n",
    "윤년의 규칙\n",
    "\n",
    "```python\n",
    "4로 나누어떨어지는 해는 윤년으로 한다. (2016년, 2020년, 2024년 등등)\n",
    "4와 100으로 나누어떨어지는 해는 평년으로 한다. (1900년, 2100년, 2200년)\n",
    "4, 100, 400으로 나누어떨어지는 해는 윤년으로 한다. (2000년, 2400년)\n",
    "```\n",
    "\n",
    "- 연도를 입력받아 윤년인지 아닌지 확인한다.\n",
    "- 파일 이름 : leap_year_checker.py\n",
    "\n",
    "## 2단~9단까지 구구단을 출력하시오\n",
    "- 파일 이름 : mul.py\n",
    "  \n",
    "## 정수 N을 입력 받고, 1~N사이의 숫자 중 짝수를 출력하고, 짝수의 합을 구해라\n",
    "- input함수를 이용해서 정수를 입력받는다.\n",
    "- 파일 이름 : even_sum.py"
   ]
  },
  {
   "cell_type": "code",
   "execution_count": null,
   "metadata": {},
   "outputs": [],
   "source": []
  }
 ],
 "metadata": {
  "kernelspec": {
   "display_name": "Python 3 (ipykernel)",
   "language": "python",
   "name": "python3"
  },
  "language_info": {
   "codemirror_mode": {
    "name": "ipython",
    "version": 3
   },
   "file_extension": ".py",
   "mimetype": "text/x-python",
   "name": "python",
   "nbconvert_exporter": "python",
   "pygments_lexer": "ipython3",
   "version": "3.11.8"
  }
 },
 "nbformat": 4,
 "nbformat_minor": 4
}
