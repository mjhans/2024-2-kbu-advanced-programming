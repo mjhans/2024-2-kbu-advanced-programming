{
 "cells": [
  {
   "cell_type": "markdown",
   "metadata": {},
   "source": [
    "# RESTful API Client 만들기\n",
    "\n",
    "## RESTful API\n",
    "\n",
    "REST는 Representational State Transfer라는 용어의 약자로서 2000년도에 로이 필딩 (Roy Fielding)의 박사학위 논문에서 최초로 소개되었습니다. \n",
    "\n",
    "로이 필딩은 HTTP의 주요 저자 중 한 사람으로 그 당시 웹(HTTP) 설계의 우수성에 비해 제대로 사용되어지지 못하는 모습에 안타까워하며 웹의 장점을 최대한 활용할 수 있는 아키텍처로써 REST를 발표했다고 합니다.\n",
    "\n",
    "API는 Application Programming Interface\n",
    "\n",
    "- 다른 소프트웨어와 통신하기 위해 따라야 하는 규칙\n",
    "- 함수나 모듈을 쓸때 호출하는 방식이 있다.\n",
    "- API라고 이야기 할때 무조건 REST를 이야기 하진 않지만, 마이크로 서비스 아키텍쳐의 등장으로 많은 부분에서 REST를 의미하기도 함\n",
    "- OPEN API라고 불리는 것들이 RESTful API로 되어 있다\n",
    "\n",
    "웹 어플리케이션 상에 존재하는 모든 리소스에 고유의 URI를 부여하고\n",
    "\n",
    "HTTP Method (GET, POST, DELETE, PUT등)를 이용해서 리소스에 명령어 전송\n",
    "\n",
    "```bash\n",
    "\n",
    "curl -X GET \"http://localhost:8000/hello?age=30\"\n",
    "\n",
    "curl -d \"key1=value1&key2=value2\" \\\n",
    "-H \"Content-Type: application/x-www-form-urlencoded\" \\\n",
    "-X POST http://localhost:8000/data\n",
    "\n",
    "```"
   ]
  },
  {
   "cell_type": "markdown",
   "metadata": {
    "vscode": {
     "languageId": "bat"
    }
   },
   "source": [
    "# Request 모듈을 이용한 Client 만들기\n",
    "\n",
    "* 다양한 종의 강아지 사진을 저장하고, 보여주는 웹페이지 \n",
    "\n",
    "* [https://dog.ceo/dog-api/](https://dog.ceo/dog-api/)\n",
    "\n",
    "* [문서](https://dog.ceo/dog-api/documentation/)\n"
   ]
  },
  {
   "cell_type": "markdown",
   "metadata": {},
   "source": [
    "## 해볼 것\n",
    "\n",
    "- 개의 모든 종 이름을 얻고, 리스트로 저장하기\n",
    "\n",
    "- 개의 종 이름별로 사진 주소를 리스트로 만들고, 종이름을 키로 만들어서 dict형태로 저장하기\n",
    "\n",
    "- 저장된 dict를 모두 순회하면서 주소 출력하기\n",
    "\n",
    "![result](./images/result.png)\n",
    "\n"
   ]
  },
  {
   "cell_type": "code",
   "execution_count": null,
   "metadata": {},
   "outputs": [],
   "source": []
  },
  {
   "cell_type": "code",
   "execution_count": null,
   "metadata": {},
   "outputs": [],
   "source": []
  }
 ],
 "metadata": {
  "kernelspec": {
   "display_name": "Python 3 (ipykernel)",
   "language": "python",
   "name": "python3"
  },
  "language_info": {
   "codemirror_mode": {
    "name": "ipython",
    "version": 3
   },
   "file_extension": ".py",
   "mimetype": "text/x-python",
   "name": "python",
   "nbconvert_exporter": "python",
   "pygments_lexer": "ipython3",
   "version": "3.11.8"
  }
 },
 "nbformat": 4,
 "nbformat_minor": 4
}
