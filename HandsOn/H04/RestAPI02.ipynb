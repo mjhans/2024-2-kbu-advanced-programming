{
 "cells": [
  {
   "cell_type": "markdown",
   "metadata": {
    "vscode": {
     "languageId": "bat"
    }
   },
   "source": [
    "# Request 모듈을 이용한 Client 만들기\n",
    "\n",
    "* 다양한 종의 강아지 사진을 저장하고, 보여주는 웹페이지 \n",
    "\n",
    "* [https://dog.ceo/dog-api/](https://dog.ceo/dog-api/)\n",
    "\n",
    "* [문서](https://dog.ceo/dog-api/documentation/)\n"
   ]
  },
  {
   "cell_type": "markdown",
   "metadata": {},
   "source": [
    "## 해볼 것\n",
    "\n",
    "* 이전에 만든 소스코드를 활용해서 함수로 만들수 있는 부분 만들기 \n",
    "\n"
   ]
  },
  {
   "cell_type": "code",
   "execution_count": null,
   "metadata": {},
   "outputs": [],
   "source": []
  },
  {
   "cell_type": "code",
   "execution_count": null,
   "metadata": {},
   "outputs": [],
   "source": []
  }
 ],
 "metadata": {
  "kernelspec": {
   "display_name": "Python 3 (ipykernel)",
   "language": "python",
   "name": "python3"
  },
  "language_info": {
   "codemirror_mode": {
    "name": "ipython",
    "version": 3
   },
   "file_extension": ".py",
   "mimetype": "text/x-python",
   "name": "python",
   "nbconvert_exporter": "python",
   "pygments_lexer": "ipython3",
   "version": "3.11.8"
  }
 },
 "nbformat": 4,
 "nbformat_minor": 4
}
