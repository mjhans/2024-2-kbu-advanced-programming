{
 "cells": [
  {
   "cell_type": "markdown",
   "id": "9c146a88",
   "metadata": {},
   "source": [
    "# Python Data is Object\n"
   ]
  },
  {
   "cell_type": "markdown",
   "id": "cc7a611e",
   "metadata": {},
   "source": []
  },
  {
   "cell_type": "markdown",
   "id": "9e479f57",
   "metadata": {},
   "source": []
  },
  {
   "cell_type": "markdown",
   "id": "afeaa869-78c7-430b-9384-73ed100f267a",
   "metadata": {},
   "source": [
    "# Types\n",
    "\n",
    "| **Name**                    | **Type**  | **Mutable?** | **Examples**                                          |\n",
    "|-----------------------------|-----------|--------------|-------------------------------------------------------|\n",
    "| Boolean                     | bool      | no           | True, False                                           |\n",
    "| Integer                     | int       | no           | 47, 25000, 25_000                                     |\n",
    "| Floating point (부동소수점) | float     | no           | 3.14, 2.7e5                                           |\n",
    "| Complex (복소수)            | complex   | no           | 3j, 5 + 9j                                            |\n",
    "| Text string                 | str       | no           | 'alas', \"alack\", '''a verse attack'''                 |\n",
    "| List                        | list      | yes          | ['Winken', 'Blinken', 'Nod']                          |\n",
    "| Tuple                       | tuple     | no           | (2, 4, 8)                                             |\n",
    "| Bytes                       | bytes     | no           | b'ab\\xff'                                             |\n",
    "| ByteArray                   | bytearray | yes          | bytearray(...)                                        |\n",
    "| Set                         | set       | yes          | set([3, 5, 7])                                        |\n",
    "| Frozen set                  | frozenset | no           | frozenset(['Elsa', 'Otto'])                           |\n",
    "| Dictionary                  | dict      | yes          | {'game': 'bingo', 'dog': 'dingo', 'drummer': 'Ringo'} |"
   ]
  },
  {
   "cell_type": "markdown",
   "id": "b272670a",
   "metadata": {},
   "source": [
    "# Mutability\n",
    "\n",
    "파이썬 객체안의 값은 변경할수 있지만, 타입을 변경할수 없다\n",
    "\n",
    "7 → “가” 이렇게는 안된다. \n",
    "\n",
    "7 → 5는 가능"
   ]
  },
  {
   "cell_type": "code",
   "execution_count": null,
   "id": "66561b93",
   "metadata": {},
   "outputs": [],
   "source": [
    "1 + \"1\" # TypeError in Python\n",
    "1 + \"1\"# // \"11\" in JavaScript"
   ]
  },
  {
   "cell_type": "code",
   "execution_count": null,
   "id": "8d63888d",
   "metadata": {},
   "outputs": [],
   "source": []
  }
 ],
 "metadata": {
  "kernelspec": {
   "display_name": "Python 3 (ipykernel)",
   "language": "python",
   "name": "python3"
  },
  "language_info": {
   "codemirror_mode": {
    "name": "ipython",
    "version": 3
   },
   "file_extension": ".py",
   "mimetype": "text/x-python",
   "name": "python",
   "nbconvert_exporter": "python",
   "pygments_lexer": "ipython3",
   "version": "3.11.9"
  }
 },
 "nbformat": 4,
 "nbformat_minor": 5
}
