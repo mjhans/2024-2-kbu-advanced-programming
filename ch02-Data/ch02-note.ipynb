{
 "cells": [
  {
   "cell_type": "markdown",
   "id": "9c146a88",
   "metadata": {},
   "source": [
    "# 컴퓨터의 구조\n",
    "\n",
    "* 이 챕터는 한빛 미디어 혼공 스터디의 자료를 발췌했습니다.\n",
    "* [원문](https://hongong.hanbit.co.kr/%EC%BB%B4%ED%93%A8%ED%84%B0%EC%9D%98-4%EA%B0%80%EC%A7%80-%ED%95%B5%EC%8B%AC-%EB%B6%80%ED%92%88cpu-%EB%A9%94%EB%AA%A8%EB%A6%AC-%EB%B3%B4%EC%A1%B0%EA%B8%B0%EC%96%B5%EC%9E%A5/)\n",
    "\n",
    "\n",
    "## 메인보드\n",
    "[![메인보드 구조](https://hongong.hanbit.co.kr/wp-content/uploads/2022/09/%EC%BB%B4%ED%93%A8%ED%84%B0%EC%9D%98-%EA%B5%AC%EC%A1%B0.png)](https://hongong.hanbit.co.kr/%EC%BB%B4%ED%93%A8%ED%84%B0%EC%9D%98-4%EA%B0%80%EC%A7%80-%ED%95%B5%EC%8B%AC-%EB%B6%80%ED%92%88cpu-%EB%A9%94%EB%AA%A8%EB%A6%AC-%EB%B3%B4%EC%A1%B0%EA%B8%B0%EC%96%B5%EC%9E%A5/)\n",
    "\n",
    "* ① 가장 큰 사각형은 메인보드입니다.\n",
    "* ② 메인보드 안에 시스템 버스(양방향 수직 화살표)가 있습니다.\n",
    "* ③ CPU 내부에는 ALU(산술논리연산장치), 제어장치와 여러 레지스터가 있습니다. CPU는 메인보드 내 시스템 버스와 연결되어 있습니다.\n",
    "* ④ 메모리는 메인보드 내 시스템 버스와 연결되어 있습니다.\n",
    "* ⑤보조기억장치는 메인보드 내 시스템 버스와 연결되어 있습니다.\n",
    "* ⑥ 모니터, 키보드, 마우스 등은 메인보드 내 시스템 버스와 연결되어 있고, 이들을 입출력장치라고 부릅니다.\n",
    "\n",
    "## Memory\n",
    "\n",
    "* 주 기억 장치, 휘발성\n",
    "* 컴퓨터가 명령을 처리하기 위해서는 명령어와 데이터가 모두 메모리에 저장되어 있어야 한다\n",
    "* 빠른 검색을 위해서 메모리에는 고유의 주소가 있고, 그 주소를 **번지**라고 부른다\n",
    "  \n",
    "[![메모리](https://hongong.hanbit.co.kr/wp-content/uploads/2022/09/%EB%A9%94%EB%AA%A8%EB%A6%AC_%EB%8D%B0%EC%9D%B4%ED%84%B0-%EC%A0%80%EC%9E%A5.png)](https://hongong.hanbit.co.kr/%EC%BB%B4%ED%93%A8%ED%84%B0%EC%9D%98-4%EA%B0%80%EC%A7%80-%ED%95%B5%EC%8B%AC-%EB%B6%80%ED%92%88cpu-%EB%A9%94%EB%AA%A8%EB%A6%AC-%EB%B3%B4%EC%A1%B0%EA%B8%B0%EC%96%B5%EC%9E%A5/)\n",
    "\n",
    "\n",
    "* 메모리를 생각할때는 긴 선반으로 생각하면 편하다.\n",
    "* 선반의 각 슬롯을 1byte라고 생각하고 0부터 운영체제에서 정해진 수 만큼의 슬롯을 갖게 된다\n",
    "\n",
    "![memory](https://img1.daumcdn.net/thumb/R1280x0/?scode=mtistory2&fname=https%3A%2F%2Fblog.kakaocdn.net%2Fdn%2FmQaS1%2FbtqUYfomQwa%2FHY44kytEk9DJB8vAmbRDpK%2Fimg.png)\n",
    "\n",
    "\n",
    "## CPU (central processing unit)\n",
    "* 중앙 처리 장치, 연산을 담당\n",
    "* 메모리에 저장된 값을 읽고, 해석하고 실행\n",
    "* 레지스터, 제어장치, ALU로 구성\n",
    "\n",
    "\n",
    "- **제어장치에서 1번지에 저장된 명령어를 읽는다** \n",
    "\n",
    "- ![CPU01](https://hongong.hanbit.co.kr/wp-content/uploads/2022/09/%EB%A9%94%EB%AA%A8%EB%A6%AC-%EC%9D%BD%EA%B8%B0-%EC%A0%9C%EC%96%B4-%EC%8B%A0%ED%98%B8.png)\n",
    "\n",
    "\n",
    "\n",
    "- **메모리는 1번지의 명령어를 CPU에 전달하면, 이 명령어는 CPU내부의 레지스터에 저장한다.**\n",
    "\n",
    "- **제어장치는 읽어들인 명령어를 해석해서 3,4번지의 데이터가 필요하다고 판단**\n",
    "\n",
    "- **제어장치는 3,4번지의 데이터를 읽기위해 메모리에 메모리 읽기 신호를 보낸다**\n",
    "\n",
    "- ![CPU02](https://hongong.hanbit.co.kr/wp-content/uploads/2022/09/%EB%A9%94%EB%AA%A8%EB%A6%AC-%EC%9D%BD%EA%B8%B0-%EC%A0%9C%EC%96%B4-%EC%8B%A0%ED%98%B8-2-1.png)\n",
    "\n",
    "\n",
    "- **CPU는 3,4번지의 데이터를 전달받고, 레지스터에 저장**\n",
    "\n",
    "- **ALU에서 읽어들인 데이터로 연산**\n",
    "\n",
    "- **계산의 결과값은 레지스터에 저장한뒤 1번지의 명령어의 실행 완료**\n",
    "\n",
    "- ![CPU03](https://hongong.hanbit.co.kr/wp-content/uploads/2022/09/%EB%A9%94%EB%AA%A8%EB%A6%AC-%EC%9D%BD%EA%B8%B0-%EC%A0%9C%EC%96%B4-%EC%8B%A0%ED%98%B8-3.png)\n",
    "\n",
    "\n",
    "- **2번지의 명령어 실행**\n",
    "\n",
    "- ![CPU04](https://hongong.hanbit.co.kr/wp-content/uploads/2022/09/%EB%A9%94%EB%AA%A8%EB%A6%AC-%EC%9D%BD%EA%B8%B0-%EC%A0%9C%EC%96%B4-%EC%8B%A0%ED%98%B8-4.png)\n",
    "\n",
    "- **레지스터에서 명령어 읽어서 실행**\n",
    "  \n",
    "- ![CPU05](https://hongong.hanbit.co.kr/wp-content/uploads/2022/09/%EB%A9%94%EB%AA%A8%EB%A6%AC-%EC%9D%BD%EA%B8%B0-%EC%A0%9C%EC%96%B4-%EC%8B%A0%ED%98%B8-5.png)\n",
    "\n",
    "- **계산결과값 저장**\n",
    "\n",
    "- **저장위치는 비어있는 번지에 저장**\n",
    "\n",
    "- ![CPU06](https://hongong.hanbit.co.kr/wp-content/uploads/2022/09/%EB%A9%94%EB%AA%A8%EB%A6%AC-%EC%93%B0%EA%B8%B0-%EC%A0%9C%EC%96%B4-%EC%8B%A0%ED%98%B8.png)\n",
    "\n",
    "\n",
    "## GPU와 CPU\n",
    "\n",
    "- GPU 연산의 장점은 행렬과 같은 계산을 빨리 해주는 것이다.\n",
    "- 그러나 GPU에 연산을 할당하는것, GPU가 들고 있는 메모리에 데이터를 넣어주는것도 해야 하는 작업이다.\n",
    "- 여러장의 GPU의 카드에 굉장히 큰 데이터 셋을 넣을 경우 데이터를 데이터가 분산되서 들어가기 때문에 항상 고려해야 한다.\n",
    "- CPU 연산이 중간에 있을 경우, 속도 저하가 굉장히 심해진다\n",
    "\n",
    "![GPU](https://velog.velcdn.com/images%2Fckstn0777%2Fpost%2F71e05021-6c8d-463e-afe0-3278c1529758%2Fimage.png)\n",
    "\n"
   ]
  },
  {
   "cell_type": "markdown",
   "id": "cc7a611e",
   "metadata": {},
   "source": [
    "# Python Data is Object\n",
    "\n",
    "- 데이터의 값을 객체(Object)로 정의해서 메모리에 저장\n",
    "- 정수의 크기가 일반적으로 8byte지만, 객체로 저장되어 더 큰 값을 갖게 된다.\n",
    "\n",
    "![pyobj](images/ch02_2_1.png)\n",
    "\n",
    "\n",
    "- 파이선에서 객체는 아래의 4개항목을 필수로 포함하는 덩어리이다.\n",
    "    - 타입정의 : `type`  함수\n",
    "    - 다른 객체와 구별하기 위한 고유 ID. : `id` 함수\n",
    "    - 타입과 연관된 값\n",
    "    - 객체의 사용빈도를 추적하는 참조 횟수(reference count) : `sys.getrefcount()`\n",
    "\n",
    "\n",
    "- CPython의 객체 구조\n",
    "    - [구조체 정의](https://github.com/python/cpython/blob/main/Include/pytypedefs.h#L18)\n",
    "    - [구현 코드](https://github.com/python/cpython/blob/main/Include/object.h#L140-L152)\n",
    "\n",
    "---\n",
    "```C\n",
    "// 3.10 까지\n",
    "typedef struct _object {\n",
    "    _PyObject_HEAD_EXTRA\n",
    "    Py_ssize_t ob_refcnt;\n",
    "    struct _typeobject *ob_type;\n",
    "} PyObject;\n",
    "\n",
    "// 3.12\n",
    "struct _object {\n",
    "    _PyObject_HEAD_EXTRA\n",
    "\n",
    "#if (defined(__GNUC__) || defined(__clang__)) \\\n",
    "        && !(defined __STDC_VERSION__ && __STDC_VERSION__ >= 201112L)\n",
    "    // On C99 and older, anonymous union is a GCC and clang extension\n",
    "    __extension__\n",
    "#endif\n",
    "#ifdef _MSC_VER\n",
    "    // Ignore MSC warning C4201: \"nonstandard extension used:\n",
    "    // nameless struct/union\"\n",
    "    __pragma(warning(push))\n",
    "    __pragma(warning(disable: 4201))\n",
    "#endif\n",
    "    union {\n",
    "       Py_ssize_t ob_refcnt;\n",
    "#if SIZEOF_VOID_P > 4\n",
    "       PY_UINT32_T ob_refcnt_split[2];\n",
    "#endif\n",
    "    };\n",
    "#ifdef _MSC_VER\n",
    "    __pragma(warning(pop))\n",
    "#endif\n",
    "\n",
    "    PyTypeObject *ob_type;\n",
    "};\n",
    "\n",
    "//현재\n",
    "struct _object {\n",
    "    // ob_tid stores the thread id (or zero). It is also used by the GC and the\n",
    "    // trashcan mechanism as a linked list pointer and by the GC to store the\n",
    "    // computed \"gc_refs\" refcount.\n",
    "    uintptr_t ob_tid;\n",
    "    uint16_t _padding;\n",
    "    PyMutex ob_mutex;           // per-object lock\n",
    "    uint8_t ob_gc_bits;         // gc-related state\n",
    "    uint32_t ob_ref_local;      // local reference count\n",
    "    Py_ssize_t ob_ref_shared;   // shared (atomic) reference count\n",
    "    PyTypeObject *ob_type;\n",
    "};\n",
    "\n",
    "```\n",
    "---\n"
   ]
  },
  {
   "cell_type": "code",
   "execution_count": 7,
   "id": "8a4691aa-c42a-4b36-b800-35dea497d11f",
   "metadata": {},
   "outputs": [
    {
     "name": "stdout",
     "output_type": "stream",
     "text": [
      "type(a) = <class 'int'>\n",
      "id(a) = 4323226064\n",
      "a = 7\n",
      "sys.getrefcount(a) = 1000000264\n"
     ]
    }
   ],
   "source": [
    "import sys\n",
    "a = 7\n",
    "print(f\"{type(a) = }\")\n",
    "print(f\"{id(a) = }\")\n",
    "print(f\"{a = }\")\n",
    "print(f\"{sys.getrefcount(a) = }\")"
   ]
  },
  {
   "cell_type": "markdown",
   "id": "afeaa869-78c7-430b-9384-73ed100f267a",
   "metadata": {},
   "source": [
    "# Types\n",
    "\n",
    "| **Name**                    | **Type**  | **Mutable?** | **Examples**                                          |\n",
    "|-----------------------------|-----------|--------------|-------------------------------------------------------|\n",
    "| Boolean                     | bool      | no           | True, False                                           |\n",
    "| Integer                     | int       | no           | 47, 25000, 25_000                                     |\n",
    "| Floating point (부동소수점) | float     | no           | 3.14, 2.7e5                                           |\n",
    "| Complex (복소수)            | complex   | no           | 3j, 5 + 9j                                            |\n",
    "| Text string                 | str       | no           | 'alas', \"alack\", '''a verse attack'''                 |\n",
    "| List                        | list      | yes          | ['Winken', 'Blinken', 'Nod']                          |\n",
    "| Tuple                       | tuple     | no           | (2, 4, 8)                                             |\n",
    "| Bytes                       | bytes     | no           | b'ab\\xff'                                             |\n",
    "| ByteArray                   | bytearray | yes          | bytearray(...)                                        |\n",
    "| Set                         | set       | yes          | set([3, 5, 7])                                        |\n",
    "| Frozen set                  | frozenset | no           | frozenset(['Elsa', 'Otto'])                           |\n",
    "| Dictionary                  | dict      | yes          | {'game': 'bingo', 'dog': 'dingo', 'drummer': 'Ringo'} |"
   ]
  },
  {
   "cell_type": "markdown",
   "id": "b272670a",
   "metadata": {},
   "source": [
    "# Mutability\n",
    "\n",
    "파이썬 객체안의 값은 변경할수 있지만, 타입을 변경할수 없다\n",
    "\n",
    "7 → “가” 이렇게는 안된다. \n",
    "\n",
    "7 → 5는 가능\n",
    "\n",
    "---\n",
    "```python\n",
    "1 + \"1\" # TypeError in Python\n",
    "```\n",
    "\n",
    "```javascript\n",
    "1 + \"1\" // \"11\" in JavaScript\n",
    "```\n",
    "---\n",
    "![ch02-2-2](images/ch02_2_2.png)"
   ]
  },
  {
   "cell_type": "markdown",
   "id": "033f1713-624a-4ae3-b9dc-c93907792996",
   "metadata": {},
   "source": [
    "# Literal과 Variables "
   ]
  },
  {
   "cell_type": "markdown",
   "id": "31f05649-315f-4416-b4ab-2497c3453ac6",
   "metadata": {},
   "source": [
    "## Literal Values\n",
    "\n",
    "Python에서 리터럴(literal)은 코드 내에서 고정된 값\n",
    "\n",
    "프로그램 실행 중에 값이 변하지 않는 상수\n",
    "\n",
    "다음은 주요 리터럴의 예시:\n",
    "\n",
    "- **숫자 리터럴**: 정수 `42`, 실수 `3.14`\n",
    "- **문자열 리터럴**: `'Hello'`, `\"Python\"`\n",
    "- **불리언 리터럴**: `True`, `False`\n",
    "- **특수 리터럴**: `None`"
   ]
  },
  {
   "cell_type": "markdown",
   "id": "cf8ea7a1-9dc4-4fcf-9b05-52d79fa80d44",
   "metadata": {},
   "source": [
    "## Variables\n",
    "\n",
    "변수(variable)는 리터럴 값을 저장하고 참조하는 데 사용\n",
    "\n",
    "변수를 사용하면 프로그램에서 값에 이름을 부여할 수 있고, 이 값을 나중에 참조하거나 수정\n",
    "\n",
    "자바 / C 와 다른점 : 데이터 타입 이 없다, 변수 선언이 없다\n"
   ]
  },
  {
   "cell_type": "code",
   "execution_count": 8,
   "id": "e84627d5-54bf-4f37-9aec-4a5e326edb51",
   "metadata": {},
   "outputs": [],
   "source": [
    "x = 42      # 정수 리터럴을 변수 x에 할당\n",
    "name = \"Alice\"  # 문자열 리터럴을 변수 name에 할당\n",
    "is_valid = True  # 불리언 리터럴을 변수 is_valid에 할당"
   ]
  },
  {
   "cell_type": "markdown",
   "id": "072b7bad-c7ba-4d63-ad41-40a1b1c95041",
   "metadata": {},
   "source": [
    "변수 선언시 제약 조건\n",
    "\n",
    "- They can contain only these characters\n",
    "    - Lowercase letters (`a` through `z`)\n",
    "    - Uppercase letters (`A` through `Z`)\n",
    "    - Digits (`0` through `9`)\n",
    "    - Underscore (`_`)\n",
    "- Case-Sensitive : things, Things, THIngs 를 모두 다른 것으로 인식"
   ]
  },
  {
   "cell_type": "code",
   "execution_count": 13,
   "id": "d10f0c55-368a-485c-bc59-b5b2639e9ccf",
   "metadata": {},
   "outputs": [
    {
     "name": "stdout",
     "output_type": "stream",
     "text": [
      "Things=4, THINGS=5, things=7\n"
     ]
    }
   ],
   "source": [
    "Things = 4\n",
    "THINGS = 5\n",
    "things = 7\n",
    "print(f\"{Things=}, {THINGS=}, {things=}\")"
   ]
  },
  {
   "cell_type": "markdown",
   "id": "87f29d56-8c26-44d0-ab60-edb93cb34e78",
   "metadata": {},
   "source": [
    "- They must begin with a letter or an underscore, not a digit.\n",
    "- Names that begin with an underscore are treated specially\n",
    "    - 관례적으로 _ 는 함수/클래스의 내부 변수로 쓴다\n",
    "    - __로 정의된 python 변수값들이 있다\n",
    "- They cannot be one of Python’s reserved words (also known as keywords)."
   ]
  },
  {
   "cell_type": "code",
   "execution_count": 15,
   "id": "bec53c3b-dcda-4703-92a2-39e5fe7e7c5b",
   "metadata": {},
   "outputs": [
    {
     "name": "stdout",
     "output_type": "stream",
     "text": [
      "\n",
      "Here is a list of the Python keywords.  Enter any keyword to get more help.\n",
      "\n",
      "False               class               from                or\n",
      "None                continue            global              pass\n",
      "True                def                 if                  raise\n",
      "and                 del                 import              return\n",
      "as                  elif                in                  try\n",
      "assert              else                is                  while\n",
      "async               except              lambda              with\n",
      "await               finally             nonlocal            yield\n",
      "break               for                 not                 \n",
      "\n"
     ]
    }
   ],
   "source": [
    "help('keywords')"
   ]
  },
  {
   "cell_type": "markdown",
   "id": "d5ebc623-ceda-4236-906e-159a59d86c27",
   "metadata": {},
   "source": [
    "These are valid names:\n",
    "\n",
    "- **`a`**\n",
    "- **`a1`**\n",
    "- **`a_b_c___95`**\n",
    "- **`_abc`**\n",
    "- **`_1a`**\n",
    "\n",
    "These names, however, are not valid:\n",
    "\n",
    "- **`1`**\n",
    "- **`1a`**\n",
    "- **`1_`**\n",
    "- **`name!`**\n",
    "- **`another-name`**"
   ]
  },
  {
   "cell_type": "markdown",
   "id": "7e0f3273-80ef-4005-b783-ca60f85ef2b3",
   "metadata": {},
   "source": [
    "## Literal과 Variables\n",
    "\n",
    "- 리터럴 값은 변하지 않는 고정된 값\n",
    "- 변수는 이러한 리터럴 값을 저장하는 데 사용\n",
    "- 예를 들어, `x = 42`는 리터럴 값 `42`를 변수 `x`에 할당 ->`x`를 통해 `42`를 참조할 수 있습니다."
   ]
  },
  {
   "cell_type": "code",
   "execution_count": 20,
   "id": "f2fddd8f-2eee-41e3-9388-da6484f8d487",
   "metadata": {},
   "outputs": [
    {
     "name": "stdout",
     "output_type": "stream",
     "text": [
      "원의 반지름 : 5, 원의 넓이 : 78.5\n"
     ]
    }
   ],
   "source": [
    "# 원의 넓이\n",
    "radius = 5\n",
    "area = 3.14 * radius ** 2  # 여기서 3.14는 리터럴 값이고, radius는 변수입니다.\n",
    "print(f\"원의 반지름 : {radius}, 원의 넓이 : {area}\")"
   ]
  },
  {
   "cell_type": "markdown",
   "id": "1f0b4a99-8932-4755-82ee-41610bdb78c1",
   "metadata": {},
   "source": [
    "# Assignment\n",
    "\n",
    "= 기호사용\n",
    "\n",
    "```text\n",
    "x = 5\n",
    "y = x + 12\n",
    "```\n",
    "\n",
    "수학에서는 방정식이지만, \n",
    "\n",
    "프로그램에서는 x 변수에 5를 할당하고, y변수에 x + 5의 결과를 할당한다"
   ]
  },
  {
   "cell_type": "code",
   "execution_count": 23,
   "id": "9052e7a5-eda8-48e2-b0cf-b75d9b30909b",
   "metadata": {},
   "outputs": [],
   "source": [
    "x = 5\n",
    "y = x + 12 # 이부분이 먼저 나올경우 x가 없다는 메시지가 나온다"
   ]
  },
  {
   "cell_type": "code",
   "execution_count": 24,
   "id": "47d222b7-63b1-4483-a910-17f852b04250",
   "metadata": {},
   "outputs": [
    {
     "ename": "NameError",
     "evalue": "name 'p' is not defined",
     "output_type": "error",
     "traceback": [
      "\u001b[0;31m---------------------------------------------------------------------------\u001b[0m",
      "\u001b[0;31mNameError\u001b[0m                                 Traceback (most recent call last)",
      "Cell \u001b[0;32mIn[24], line 2\u001b[0m\n\u001b[1;32m      1\u001b[0m \u001b[38;5;66;03m# jupyter + 인터프리터 언어의 특성상 지금까지 실행한 변수는 모두 정의되어 있다\u001b[39;00m\n\u001b[0;32m----> 2\u001b[0m u \u001b[38;5;241m=\u001b[39m \u001b[43mp\u001b[49m \u001b[38;5;241m+\u001b[39m \u001b[38;5;241m3\u001b[39m\n",
      "\u001b[0;31mNameError\u001b[0m: name 'p' is not defined"
     ]
    }
   ],
   "source": [
    "# jupyter + 인터프리터 언어의 특성상 지금까지 실행한 변수는 모두 정의되어 있다\n",
    "u = p + 3"
   ]
  },
  {
   "cell_type": "markdown",
   "id": "5b8bb463-fb9e-420f-8e62-c5cd1f2657f3",
   "metadata": {},
   "source": [
    "# Variables Are Names, Not Places\n",
    "\n",
    "언어마다 다르긴 하지만, 파이썬에서 변수는 단지 이름일 뿐이다. (variables are just names.) \n"
   ]
  },
  {
   "cell_type": "code",
   "execution_count": 25,
   "id": "e9e853af-ebea-470f-910a-025bb39cec89",
   "metadata": {},
   "outputs": [
    {
     "ename": "NameError",
     "evalue": "name 'thisisvraiable' is not defined",
     "output_type": "error",
     "traceback": [
      "\u001b[0;31m---------------------------------------------------------------------------\u001b[0m",
      "\u001b[0;31mNameError\u001b[0m                                 Traceback (most recent call last)",
      "Cell \u001b[0;32mIn[25], line 3\u001b[0m\n\u001b[1;32m      1\u001b[0m \u001b[38;5;66;03m# 변수의 철자가 틀리면 아무것도 참조 하지 않아 예외 발생\u001b[39;00m\n\u001b[1;32m      2\u001b[0m thisisvariable \u001b[38;5;241m=\u001b[39m \u001b[38;5;241m10\u001b[39m\n\u001b[0;32m----> 3\u001b[0m \u001b[43mthisisvraiable\u001b[49m\n",
      "\u001b[0;31mNameError\u001b[0m: name 'thisisvraiable' is not defined"
     ]
    }
   ],
   "source": [
    "# 변수의 철자가 틀리면 아무것도 참조 하지 않아 예외 발생\n",
    "# 프로그램 실행중에 에러 발생\n",
    "thisisvariable = 10\n",
    "thisisvraiable"
   ]
  },
  {
   "cell_type": "markdown",
   "id": "1d62bbe6-7004-402b-b211-946048159f24",
   "metadata": {},
   "source": [
    "변수 하나에 값을 할당하고, 그 변수를 다른 변수에 할당하는 경우\n",
    "\n",
    "![변수 상자](images/ch02_2_3.png)"
   ]
  },
  {
   "cell_type": "code",
   "execution_count": 29,
   "id": "22f41975-6ea4-4a13-99bf-20873334f180",
   "metadata": {},
   "outputs": [
    {
     "name": "stdout",
     "output_type": "stream",
     "text": [
      "a=7, 4323226064\n",
      "b=7, 4323226064\n"
     ]
    }
   ],
   "source": [
    "a = 7\n",
    "print(f\"{a=}, {id(a)}\")\n",
    "b = a\n",
    "print(f\"{b=}, {id(b)}\")"
   ]
  },
  {
   "cell_type": "code",
   "execution_count": 34,
   "id": "2057625d-9961-44ba-b91f-c0804552104b",
   "metadata": {},
   "outputs": [
    {
     "name": "stdout",
     "output_type": "stream",
     "text": [
      "<class 'int'>\n",
      "True\n",
      "True\n",
      "<class 'int'> <class 'int'>\n",
      "<class 'float'>\n",
      "<class 'str'>\n"
     ]
    }
   ],
   "source": [
    "# 변수와 리터럴의 타입을 알고 싶다면 type함수를 사용\n",
    "print(type(7))\n",
    "print(type(7) == int)\n",
    "print(isinstance(7, int))\n",
    "a = 7\n",
    "b = a\n",
    "print(type(a), type(b))\n",
    "print(type(99.9))\n",
    "print(type('abc'))"
   ]
  },
  {
   "cell_type": "code",
   "execution_count": 35,
   "id": "7681c2d7-c140-4a79-9303-7303d28bbe4d",
   "metadata": {},
   "outputs": [
    {
     "name": "stdout",
     "output_type": "stream",
     "text": [
      "-7\n"
     ]
    }
   ],
   "source": [
    "# 우리는 이제 이 코드를 이해할 수 있다.\n",
    "y = 5\n",
    "x = y - 12\n",
    "print(x)"
   ]
  },
  {
   "cell_type": "markdown",
   "id": "317e73ba-fc54-4654-93da-6c13b409017d",
   "metadata": {},
   "source": [
    "# Assigning to Multiple Names\n",
    "\n",
    "두개 이상의 변수이름에 동시에 값 할당 가능"
   ]
  },
  {
   "cell_type": "code",
   "execution_count": 37,
   "id": "ec7519e5-7587-431f-8dab-70c92931e7dc",
   "metadata": {},
   "outputs": [
    {
     "name": "stdout",
     "output_type": "stream",
     "text": [
      "two = 2, deux = 2, zwei = 2\n",
      "id(two) = 4323225904, id(deux) = 4323225904, id(zwei) = 4323225904\n"
     ]
    }
   ],
   "source": [
    "two = deux = zwei = 2\n",
    "print(f\"{two = }, {deux = }, {zwei = }\")\n",
    "print(f\"{id(two) = }, {id(deux) = }, {id(zwei) = }\")"
   ]
  },
  {
   "cell_type": "markdown",
   "id": "bc71368e-64b7-4ed8-8c65-4a6b68ed53aa",
   "metadata": {},
   "source": [
    "# Reassigning a Name\n",
    "\n",
    "변수이름은 객체를 가리키고 있다. 같은 변수 이름에 다른 값(객체)을 할당하면 그 변수는 새로운 객체를 가리키고있고, 기존의 객체는 reference count를 감소시킨다\n",
    "reference count가 0이 되면, Python 내부에서 Garbage Collector가 동작하여 메모리에서 삭제\n",
    "\n",
    "![ch02_2_4](images/ch02_2_4.png)\n"
   ]
  },
  {
   "cell_type": "code",
   "execution_count": 38,
   "id": "bf1a787f-2a8d-4eba-8859-9dfe9c47f52e",
   "metadata": {},
   "outputs": [],
   "source": [
    "a = 7\n",
    "a = 8"
   ]
  },
  {
   "cell_type": "markdown",
   "id": "cd7ce5f6-c346-4b6c-a664-d6b420af6b6d",
   "metadata": {},
   "source": [
    "# Copying\n",
    "\n",
    "\n",
    "![ch02_2_5](images/ch02_2_5.png)\n",
    "\n",
    "![ch02_2_6](images/ch02_2_6.png)"
   ]
  },
  {
   "cell_type": "code",
   "execution_count": 42,
   "id": "e571ae8a-2204-46b9-8b43-2cc30af2dc31",
   "metadata": {},
   "outputs": [
    {
     "name": "stdout",
     "output_type": "stream",
     "text": [
      "[2, 5, 5]\n"
     ]
    }
   ],
   "source": [
    "x = 5\n",
    "y = x\n",
    "x = 29\n",
    "# 정수 처럼 불변값은 문제가 없지만, 리스트와 같은 가변 객체의 경우 문제가 생긴다\n",
    "a = [2, 3, 5]\n",
    "b = a\n",
    "\n",
    "a[1] = 5\n",
    "print(a)\n",
    "# print(b) ???"
   ]
  },
  {
   "cell_type": "markdown",
   "id": "016253cc-cd47-47de-990a-0b0c5a6f8521",
   "metadata": {},
   "source": [
    "# Choose Good Variable Names\n",
    "\n",
    "* a와 x 같은 것 보다 변수의 의미를 명확히 나타내는 단어로 정의\n",
    "* 간결함과 명확성의 균형 유지\n",
    "  * u_name ⇒ user_name\n",
    "  * cur_date ⇒ current_date\n",
    "  * total ⇒ total_amount\n",
    "  * n ⇒ number of\n",
    "* 변수이름을 나열하는 방법\n",
    "    * 파이썬은 Snake Case가 일반적이다.\n",
    "    * [https://yangbox.tistory.com/65](https://yangbox.tistory.com/65)"
   ]
  },
  {
   "cell_type": "markdown",
   "id": "8157c7a4-d433-4695-abc0-a969b5ff4f3c",
   "metadata": {},
   "source": [
    "# References\n",
    "\n",
    "[https://st-lab.tistory.com/198](https://st-lab.tistory.com/198)\n",
    "\n",
    "[https://hongong.hanbit.co.kr/컴퓨터의-4가지-핵심-부품cpu-메모리-보조기억장/](https://hongong.hanbit.co.kr/%EC%BB%B4%ED%93%A8%ED%84%B0%EC%9D%98-4%EA%B0%80%EC%A7%80-%ED%95%B5%EC%8B%AC-%EB%B6%80%ED%92%88cpu-%EB%A9%94%EB%AA%A8%EB%A6%AC-%EB%B3%B4%EC%A1%B0%EA%B8%B0%EC%96%B5%EC%9E%A5/)\n",
    "\n",
    "[https://velog.io/@ckstn0777/컴퓨터구조-CPU와-GPU](https://velog.io/@ckstn0777/%EC%BB%B4%ED%93%A8%ED%84%B0%EA%B5%AC%EC%A1%B0-CPU%EC%99%80-GPU)\n",
    "\n",
    "[https://medium.com/@pxmpkeen/about-pyobjects-7fbb996e9ba2](https://medium.com/@pxmpkeen/about-pyobjects-7fbb996e9ba2)\n",
    "\n",
    "[https://dev.to/icncsx/python-is-strongly-dynamically-typed-what-does-that-mean-5810](https://dev.to/icncsx/python-is-strongly-dynamically-typed-what-does-that-mean-5810)"
   ]
  },
  {
   "cell_type": "code",
   "execution_count": null,
   "id": "a8a704e3-3b6b-48da-ab8d-69aa4a4ef9b7",
   "metadata": {},
   "outputs": [],
   "source": []
  }
 ],
 "metadata": {
  "kernelspec": {
   "display_name": "Python 3 (ipykernel)",
   "language": "python",
   "name": "python3"
  },
  "language_info": {
   "codemirror_mode": {
    "name": "ipython",
    "version": 3
   },
   "file_extension": ".py",
   "mimetype": "text/x-python",
   "name": "python",
   "nbconvert_exporter": "python",
   "pygments_lexer": "ipython3",
   "version": "3.11.8"
  }
 },
 "nbformat": 4,
 "nbformat_minor": 5
}
