{
 "cells": [
  {
   "cell_type": "markdown",
   "metadata": {},
   "source": [
    "# Overview\n",
    "\n",
    "* 프로그래밍중 꽤 많은 부분은 사용자의 입력이 문자열로 입력되고, 그 문자열을 적절한 자료형으로 변경하거나, 문자열 자체를 핸들링을 많이 하게 된다. \n",
    "  * 주민등록번호나 이메일 주소\n",
    "  * 문자열 중에 시스템을 공격하는 코드는 없는가?\n",
    "    * sql 인젝션 공격\n",
    "      * [https://namu.wiki/w/SQL injection](https://namu.wiki/w/SQL%20injection)\n",
    "      * [https://noirstar.tistory.com/264](https://noirstar.tistory.com/264)\n",
    "\n",
    "## 시퀀스(Sequence)와 Collections\n",
    "\n",
    "* Collections : 여러개의 요소를 갖는 데이터 타입\n",
    "  * 종류 : list, set, tuple, dict\n",
    "* Sequence : 순서가 존재하는 데이터 타입\n",
    "* 문자열은 우리가 처음 접하는 Python Sequence이다. \n",
    "  * 인덱스로 접근 가능\n",
    "  * flat sequence, container sequence로 구분\n",
    "    * flat : string, byte 등과 같이 데이터 형이 같은 형태\n",
    "    * container : 객체의 참조값이 들어갈수 있다 (tuple, list등)\n",
    "\n",
    "# 문자열 만들기\n",
    "## 따옴표\n",
    "\n",
    "* 따옴표를 이용해서 만든다. \n",
    "\n",
    "* ‘과 “ 어느것을 써도 무방하나, 짝을 맞춰야 한다\n",
    "\n",
    "```python\n",
    "str1 = 'Finger Snap'\n",
    "print(str1, type(str1))\n",
    "\n",
    "str2 = \"Bomb\"\n",
    "print(str2, type(str2))\n",
    "```\n",
    "\n",
    "‘, “ 둘다 사용하는 이유\n",
    "\n",
    "```python\n",
    "print(\"'Nay!' said the naysayer. 'Neigh?' said the horse.\")\n",
    "# 문자열 안에 \", ' 기호를 표기하기 위함\n",
    "# \\를 붙여도 제대로 동작한다\n",
    "print('\\'Nay!\\' said the naysayer. \\'Neigh?\\' said the horse.')\n",
    "```"
   ]
  },
  {
   "cell_type": "code",
   "execution_count": 1,
   "metadata": {},
   "outputs": [
    {
     "name": "stdout",
     "output_type": "stream",
     "text": [
      "'Nay!' said the naysayer. 'Neigh?' said the horse.\n",
      "'Nay!' said the naysayer. 'Neigh?' said the horse.\n"
     ]
    }
   ],
   "source": [
    "print(\"'Nay!' said the naysayer. 'Neigh?' said the horse.\")\n",
    "# 문자열 안에 \", ' 기호를 표기하기 위함\n",
    "# \\를 붙여도 제대로 동작한다\n",
    "print('\\'Nay!\\' said the naysayer. \\'Neigh?\\' said the horse.')"
   ]
  },
  {
   "cell_type": "markdown",
   "metadata": {},
   "source": [
    "## Raw / F / B / U string\n",
    "\n",
    "raw string \n",
    "* 원시 문자열, 따옴표 앞에 r이라는 문자를 붙인다.\n",
    "* Escape 문자를 그대로 출력하거나, html, json같은 문서에서 특수문자나 태그등을 변환하지 않고 그대로 사용 (특히 파일 경로 표기할때)\n",
    "\n",
    "```python\n",
    "plain = 'abc\\nabc'\n",
    "print(f\"{plain}\")\n",
    "raw = r'abc\\nabc'\n",
    "print(raw)\n",
    "```\n",
    "\n",
    "F- string\n",
    "* 파이썬에서 지원하는 문자열 포맷팅의 한 종류,\n",
    "* 문자열 인터폴레이션 (String interpolation)이라고 한다. 다른 언어들도 비슷하게 지원\n",
    "\n",
    "B-string :\n",
    "* byte로 저장되는 문자열\n",
    "```python\n",
    "bstring = b'iamstring'\n",
    "bstring = 'iamstring'.encode('utf-8')\n",
    "\n",
    "```"
   ]
  },
  {
   "cell_type": "markdown",
   "metadata": {},
   "source": [
    "## 멀티라인 문자열\n",
    "\n",
    "* 따옴표 3개를 연속으로 사용한다.\n",
    "\n",
    "```python\n",
    "m_string1 = '''\n",
    "MulitLine\n",
    "String\n",
    "'''\n",
    "\n",
    "m_string2 = \"\"\"\n",
    "MulitLine\n",
    "String\n",
    "\"\"\"\n",
    "```\n",
    "\n",
    "* example\n",
    "\n",
    "```python\n",
    "poem =  '''There was a Young Lady of Norway,\n",
    " Who casually sat in a doorway;\n",
    "\t\t\tWhen the door squeezed her flat,\n",
    " She exclaimed, \"What of that?\"\n",
    "This courageous Young Lady of Norway.'''\n",
    "\n",
    "print(poem)\n",
    "```\n",
    "\n",
    "* 공백문자 출력 부분확인\n",
    "\n",
    "* 짝을 맞추지 않을 경우 에러 발생\n",
    "\n",
    "```python\n",
    "poem = 'There was a young lady of Norway,\n",
    "print(poem)\n",
    "```"
   ]
  },
  {
   "cell_type": "code",
   "execution_count": 4,
   "metadata": {},
   "outputs": [
    {
     "name": "stdout",
     "output_type": "stream",
     "text": [
      "There was a Young Lady of Norway,\n",
      " Who casually sat in a doorway;\n",
      "\t\t\tWhen the door squeezed her flat,\n",
      " She exclaimed, \"What of that?\"\n",
      "This courageous Young Lady of Norway.\n"
     ]
    }
   ],
   "source": [
    "poem =  '''There was a Young Lady of Norway,\n",
    " Who casually sat in a doorway;\n",
    "\t\t\tWhen the door squeezed her flat,\n",
    " She exclaimed, \"What of that?\"\n",
    "This courageous Young Lady of Norway.'''\n",
    "\n",
    "print(poem)"
   ]
  },
  {
   "cell_type": "code",
   "execution_count": 5,
   "metadata": {},
   "outputs": [
    {
     "ename": "SyntaxError",
     "evalue": "unterminated string literal (detected at line 1) (3919337470.py, line 1)",
     "output_type": "error",
     "traceback": [
      "\u001b[0;36m  Cell \u001b[0;32mIn[5], line 1\u001b[0;36m\u001b[0m\n\u001b[0;31m    poem = 'There was a young lady of Norway,\u001b[0m\n\u001b[0m           ^\u001b[0m\n\u001b[0;31mSyntaxError\u001b[0m\u001b[0;31m:\u001b[0m unterminated string literal (detected at line 1)\n"
     ]
    }
   ],
   "source": [
    "poem = 'There was a young lady of Norway,\n",
    "print(poem)"
   ]
  },
  {
   "cell_type": "markdown",
   "metadata": {},
   "source": [
    "## print 함수\n",
    "\n",
    "프린트 함수에 쉼표로 구분하면, 문자열이 나열되며 출력된다.\n",
    "\n",
    "```python\n",
    "print('Give', \"us\", '''some''', \"\"\"space\"\"\")\n",
    "```"
   ]
  },
  {
   "cell_type": "markdown",
   "metadata": {},
   "source": [
    "# Str() 함수\n",
    "\n",
    "숫자나 다른 형태의 데이터를 문자열로 바꾸는 함수\n",
    "\n",
    "format string 형태를 더 많이 쓴다\n",
    "\n",
    "```python\n",
    "print(str(98.6), type(str(98.6)))\n",
    "print(str(1.0e4), type(str(1.0e4)))\n",
    "print(str(True), type(str(True)))\n",
    "```\n",
    "\n",
    "# Escape with \\\n",
    "\n",
    "문자열 안에서 특수기호를 표현하기 위해서 사용\n",
    "\n",
    "문자앞에 \\(back slash) 를 넣어서 쓴다\n",
    "\n",
    "```python\n",
    "\"\\n\" #줄바꿈\n",
    "\"\\t\" # tab\n",
    "\"\\\\\" # 백슬래시(\\)\n",
    "\"\\\"\" # 큰 따옴표(\")\n",
    "\"\\'\" # 작은 따옴표(')\n",
    "```"
   ]
  },
  {
   "cell_type": "code",
   "execution_count": 6,
   "metadata": {},
   "outputs": [
    {
     "name": "stdout",
     "output_type": "stream",
     "text": [
      "A man,\n",
      "A plan,\n",
      "A canal:\n",
      "Panama.\n",
      "\tabc\n",
      "a\tbc\n",
      "ab\tc\n",
      "abc\t\n",
      "[abc\t]\n",
      "\"I did nothing!\" he said. \"Or that other thing.\"\n",
      "The world's largest rubber duck was 54'2\" by 65'7\" by 105'\n"
     ]
    }
   ],
   "source": [
    "palindrome = 'A man,\\nA plan,\\nA canal:\\nPanama.'\n",
    "print(palindrome)\n",
    "# A man,\n",
    "# A plan,\n",
    "# A canal: Panama\n",
    "print('\\tabc')\n",
    "#     abc\n",
    "print('a\\tbc')\n",
    "# a    bc\n",
    "print('ab\\tc')\n",
    "# ab\tc\n",
    "print('abc\\t')\n",
    "# abc\n",
    "print('[abc\\t]')\n",
    "\n",
    "testimony = \"\\\"I did nothing!\\\" he said. \\\"Or that other thing.\\\"\"\n",
    "print(testimony)\n",
    "# \"I did nothing!\" he said. \"Or that other thing.\"\n",
    "\n",
    "fact = \"The world's largest rubber duck was 54'2\\\" by 65'7\\\" by 105'\"\n",
    "print(fact)\n",
    "# The world's largest rubber duck was 54'2\" by 65'7\" by 105'"
   ]
  },
  {
   "cell_type": "markdown",
   "metadata": {},
   "source": [
    "* 원시 문자열은 특수문자가 아닌 실제 공백문자나 줄바꿈은 취소하지 않는다"
   ]
  },
  {
   "cell_type": "code",
   "execution_count": 7,
   "metadata": {},
   "outputs": [
    {
     "name": "stdout",
     "output_type": "stream",
     "text": [
      "Type a \\n to get a new line in a normal string\n",
      "Boys and girls, come out to play.\n",
      " The moon doth shine as bright as day.\n"
     ]
    }
   ],
   "source": [
    "info = r'Type a \\n to get a new line in a normal string'\n",
    "print(info)\n",
    "poem = r'''Boys and girls, come out to play.\n",
    " The moon doth shine as bright as day.'''\n",
    "print(poem)\n",
    "# Boys and girls, come out to play.\n",
    "# The moon doth shine as bright as day."
   ]
  },
  {
   "cell_type": "markdown",
   "metadata": {},
   "source": [
    "# Combine by Using `+`\n",
    "\n",
    "* `+`  문자를 사용해서 문자열 결합 할수 있다. (Concat)"
   ]
  },
  {
   "cell_type": "code",
   "execution_count": 9,
   "metadata": {},
   "outputs": [
    {
     "name": "stdout",
     "output_type": "stream",
     "text": [
      "Release the kraken! No, wait!\n",
      "Release the kraken! No, wait!\n",
      "Release the kraken! No, wait!\n"
     ]
    }
   ],
   "source": [
    "print('Release the kraken! ' + 'No, wait!')\n",
    "str1 = \"Release the kraken!\"\n",
    "str2 = \"No, wait!\"\n",
    "\n",
    "print(str1 + \" \" + str2)\n",
    "\n",
    "# print함수는 여러개의 인수를 받아서 하나의 문자열로 표현가능\n",
    "# 인수와 인수 사이에 공백을 자동으로 추가\n",
    "print(str1, str2)"
   ]
  },
  {
   "cell_type": "markdown",
   "metadata": {},
   "source": [
    "* 리터럴 문자열은 차례로 결합가능"
   ]
  },
  {
   "cell_type": "code",
   "execution_count": 10,
   "metadata": {},
   "outputs": [
    {
     "name": "stdout",
     "output_type": "stream",
     "text": [
      "My word! A gentleman caller!\n"
     ]
    }
   ],
   "source": [
    "str = \"My word! \" \"A gentleman caller!\"\n",
    "print(str)"
   ]
  },
  {
   "cell_type": "markdown",
   "metadata": {},
   "source": [
    "* 괄호로 묶을수 있다"
   ]
  },
  {
   "cell_type": "code",
   "execution_count": 12,
   "metadata": {},
   "outputs": [
    {
     "name": "stdout",
     "output_type": "stream",
     "text": [
      "aeiou\n",
      "True\n"
     ]
    }
   ],
   "source": [
    "vowels = ( 'a'\n",
    "\"e\"\n",
    "'''i'''\n",
    "'o'\n",
    " \"\"\"u\"\"\"\n",
    ")\n",
    "print(vowels)\n",
    "\n",
    "print('a' in vowels)"
   ]
  },
  {
   "cell_type": "markdown",
   "metadata": {},
   "source": [
    "# Duplicate with `*`\n",
    "\n",
    "* `*`  는 문자열을 복사할수 있다."
   ]
  },
  {
   "cell_type": "code",
   "execution_count": 13,
   "metadata": {},
   "outputs": [
    {
     "name": "stdout",
     "output_type": "stream",
     "text": [
      "Na Na Na Na \n",
      "Na Na Na Na \n",
      "Hey Hey Hey \n",
      "Goodbye.\n"
     ]
    }
   ],
   "source": [
    "start = 'Na ' * 4 + '\\n'\n",
    "middle = 'Hey ' * 3 + '\\n'\n",
    "end = 'Goodbye.'\n",
    "print(start + start + middle + end)"
   ]
  },
  {
   "cell_type": "markdown",
   "metadata": {},
   "source": [
    "# Get a Character with []\n",
    "\n",
    "* 길이를 벗어난 문자 인덱스를 호출하면 `index out of range` 에러 발생"
   ]
  },
  {
   "cell_type": "code",
   "execution_count": null,
   "metadata": {},
   "outputs": [],
   "source": [
    "a = \"Life is too short, You need Python\"\n",
    "\n",
    "print(a[1])\n",
    "print(a[1])\n",
    "print(a[4])\n",
    "\n",
    "print(a[100]) # index out of range"
   ]
  },
  {
   "cell_type": "markdown",
   "metadata": {},
   "source": [
    "* 인덱스로 접근해서 값을 변경할수 없다. 변경을 위해서는 replace함수를 쓰거나 슬라이싱을 이용한다"
   ]
  },
  {
   "cell_type": "code",
   "execution_count": null,
   "metadata": {},
   "outputs": [],
   "source": [
    "name = 'Henny'\n",
    "print(name[0]) # print H\n",
    "name[0] = 'P' # strings are immutable\n",
    "\n",
    "name.replace(\"H\", \"P\")\n",
    "print(name)\n",
    "\n",
    "print(\"H\" + name[1:])"
   ]
  },
  {
   "cell_type": "markdown",
   "metadata": {},
   "source": [
    "# **Get a Substring with a Slice**\n",
    "\n",
    "* 슬라이싱이라고 표현\n",
    "\n",
    "* `[ *start* : [*end* [: *step* ]]]` \n",
    "\n",
    "* start, end, step 모두 생략 가능\n",
    "\n",
    "* 생략하면 기본값으로 표시\n",
    "\n",
    "![slice](./images/ch05-1-slice.png)"
   ]
  },
  {
   "cell_type": "code",
   "execution_count": 14,
   "metadata": {},
   "outputs": [
    {
     "name": "stdout",
     "output_type": "stream",
     "text": [
      "a[:] = 'Life is too short, You need Python'\n",
      "a[0:] = 'Life is too short, You need Python'\n",
      "a[:-1] = 'Life is too short, You need Pytho'\n",
      "a[0:4] = 'Life'\n",
      "a[0:10:2] = 'Lf st'\n",
      "a[2::3] = 'fit o,ondyo'\n",
      "a[::2] = 'Lf stosot o edPto'\n",
      "a[::-1] = 'nohtyP deen uoY ,trohs oot si efiL'\n",
      "a[::7] = 'L ouP'\n"
     ]
    }
   ],
   "source": [
    "a = \"Life is too short, You need Python\"\n",
    "\n",
    "print(f\"{a[:] = }\")\n",
    "print(f\"{a[0:] = }\")\n",
    "print(f\"{a[:-1] = }\")\n",
    "\n",
    "print(f\"{a[0:4] = }\")\n",
    "print(f\"{a[0:10:2] = }\")\n",
    "print(f\"{a[2::3] = }\")\n",
    "print(f\"{a[::2] = }\")\n",
    "print(f\"{a[::-1] = }\")\n",
    "print(f\"{a[::7] = }\")\n"
   ]
  },
  {
   "cell_type": "markdown",
   "metadata": {},
   "source": [
    "# Get Length with `len()`\n",
    "\n",
    "* 파이썬 내장 함수\n",
    "* 문자열 뿐 아니라 파이썬의 시퀀스 타입에 사용 가능한 함수"
   ]
  },
  {
   "cell_type": "code",
   "execution_count": 15,
   "metadata": {},
   "outputs": [
    {
     "name": "stdout",
     "output_type": "stream",
     "text": [
      "34\n",
      "0\n"
     ]
    }
   ],
   "source": [
    "a = \"Life is too short, You need Python\"\n",
    "print(len(a))\n",
    "\n",
    "empty = \"\"\n",
    "print(len(empty))"
   ]
  },
  {
   "cell_type": "markdown",
   "metadata": {},
   "source": [
    "# 문자열 함수\n",
    "\n",
    "- len()함수와 다르게 문자열에 특화된 함수가 존재\n",
    "- `string.function(arguments)` 형태로 사용\n",
    "\n",
    "## split()과 join()\n",
    "\n",
    "- split : 문자열을 구분자 단위로 나눠서 list 형태로 결과 제공\n",
    "    - 정규식을 이용하면 여러개의 구분자 사용 가능\n",
    "- join : 구분자 단위로 list of string을 합쳐준다."
   ]
  },
  {
   "cell_type": "code",
   "execution_count": 17,
   "metadata": {},
   "outputs": [
    {
     "name": "stdout",
     "output_type": "stream",
     "text": [
      "['get', 'gloves,get', 'mask,give', 'cat', 'vitamins,call', 'ambulance']\n",
      "['get gloves', 'get mask', 'give cat vitamins', 'call ambulance']\n",
      "get gloves,get mask,give cat vitamins,call ambulance\n",
      "['get gloves', 'get mask', 'give cat vitamins', 'call ambulance']\n",
      "get gloves,get mask,give cat vitamins,call ambulance\n"
     ]
    }
   ],
   "source": [
    "# split\n",
    "tasks = 'get gloves,get mask,give cat vitamins,call ambulance'\n",
    "print(tasks.split()) # 공백문자 단위\n",
    "print(tasks.split(\",\")) # 쉼표 단위\n",
    "print(tasks)\n",
    "\n",
    "\n",
    "# 정규식\n",
    "import re\n",
    "print(re.split(r'[,|\\n]', tasks))\n",
    "print(tasks)\n",
    "\n",
    "# join\n",
    "crypto_list = ['Yeti', 'Bigfoot', 'Loch Ness Monster']\n",
    "crypto_string = ', '.join(crypto_list)"
   ]
  },
  {
   "cell_type": "markdown",
   "metadata": {},
   "source": []
  },
  {
   "cell_type": "markdown",
   "metadata": {},
   "source": [
    "## 그외 문자열 함수\n",
    "\n",
    "- `replace()`\n",
    "- `strip()`\n",
    "- find()\n",
    "- index()\n",
    "- startswith()\n",
    "- endswith()\n",
    "- count()\n",
    "- title()\n",
    "- capitalize()\n",
    "- `upper()`\n",
    "- `lower()`\n",
    "- swapcase()\n",
    "- center()\n",
    "- ljust()\n",
    "- rjust()"
   ]
  },
  {
   "cell_type": "markdown",
   "metadata": {},
   "source": [
    "# Formatting (Format String)\n",
    "\n",
    "`+`  로 문자열 연결이 가능하지만, format string은 간편하게 문자열을 원하는데로 만들수 있다\n",
    "\n",
    "- old style (python 2, 3 모두 지원)\n",
    "- new style(python 2.6 이상에서 지원)\n",
    "- f-string (python 3.6 이상에서 지원, 일부 기능 3.8이상에서 사용)\n",
    "\n",
    "## Old Style\n",
    "\n",
    "- % 로 시작하는 포맷팅은 다른 언어에서 비슷하게 사용 가능\n",
    "\n",
    "```python\n",
    "thing = 9876\n",
    "\n",
    "print('[%d]' % thing)\n",
    "print('[%12d]' % thing)\n",
    "\n",
    "# padding\n",
    "print(str(thing).zfill(8))\n",
    "```\n",
    "\n",
    "- 포맷 코드는 대부분의 언어에서 공통으로 사용\n",
    "\n",
    "| 기호 | 설명 |\n",
    "| --- | --- |\n",
    "| **`%s`** | **string** |\n",
    "| **`%d`** | **decimal integer** |\n",
    "| **`%x`** | **hex integer** |\n",
    "| **`%o`** | **octal integer** |\n",
    "| **`%f`** | **decimal float** |\n",
    "| **`%e`** | **exponential float** |\n",
    "| **`%g`** | **decimal or exponential float** |\n",
    "| **`%%`** | **a literal `%`** |\n",
    "\n",
    "## New Style : `{}.format(data)`\n",
    "\n",
    "```python\n",
    "thing = 'woodchuck'\n",
    "print('{}'.format(thing))\n",
    "\n",
    "place = 'lake'\n",
    "print('The {} is in the {}.'.format(thing, place))\n",
    "\n",
    "# 비추천 : 실제로 사용해 보니 헷갈린다.\n",
    "print('The {1} is in the {0}.'.format(place, thing))\n",
    "\n",
    "# print('The {thing} is in the {place}'.format(thing, place)) error\n",
    "print('The {thing} is in the {place}'.format(thing='duck', place='bathtub'))\n",
    "\n",
    "# dictionary\n",
    "d = {'thing': 'duck', 'place': 'bathtub'}\n",
    "print('The {0[thing]} is in the {0[place]}.'.format(d))\n",
    "```\n",
    "\n",
    "- 문자열 포맷팅 방법\n",
    "    - 처음 시작 - `:`\n",
    "    - 채우기 문자 (padding, 옵션) - 문자열이 최소 너비보다 짧은 경우 이 문자로 채운다 (기본값 공백문자’ ’)\n",
    "    - 선택적 정렬(alignment) 문자 (옵션) - 왼쪽 정렬이 기본, `<` 왼쪽 정렬, `>` 오른쪽 정렬, `^` 가운데 정렬\n",
    "    - 숫자에 대한 부호문자 (옵션)\n",
    "    - 최소 너비 (옵션)\n",
    "    - 최대 문자 (옵션)\n",
    "    - 변환 타입 - old style 표 참고 (대부분이 s)\n",
    "\n",
    "```python\n",
    "thing = 'wraith'\n",
    "place = 'window'\n",
    "\n",
    "print('The {} is at the {}'.format(thing, place))\n",
    "\n",
    "print('The {:10s} is at the {:10s}'.format(thing, place))\n",
    "\n",
    "print('The {:<10s} is at the {:<10s}'.format(thing, place))\n",
    "\n",
    "print('The {:^10s} is at the {:^10s}'.format(thing, place))\n",
    "\n",
    "print('The [{:>10s}] is at the {:>10s}'.format(thing, place))\n",
    "print('The [{:>15s}] is at the {:>10s}'.format(thing, place))\n",
    "\n",
    "print('The [{:!^10s}] is at the {:!^10s}'.format(thing, place))\n",
    "print('The [{:!^15s}] is at the {:!^10s}'.format(thing, place))\n",
    "\n",
    "```\n",
    "\n",
    "## Newest Style : `f-strings`\n",
    "\n",
    "- 문자열 첫 시작에 f 또는 F가 있어야 한다.\n",
    "- 변수 이름이나 식(expressions)를 중괄호(`{}`) 안에 포함해서 값을 갖고 온다\n",
    "- 인터폴레이션 : 언어별로 구현되어 있는데, 파이썬은 fstring이 제일 간결 (스칼라, ruby와 비슷)\n",
    "    - 대부분 f-strings 사용\n",
    "- 주의 사항 : 미리 변수가 선언되어 있어야 하고, 한번 적용되면 변수의 내용을 바꿔도 값이 바뀌지 않는다.\n"
   ]
  },
  {
   "cell_type": "code",
   "execution_count": 18,
   "metadata": {},
   "outputs": [
    {
     "name": "stdout",
     "output_type": "stream",
     "text": [
      "The wereduck is in the werepond\n",
      "things length : 8 \n",
      "place length : 8\n",
      "The             wereduck is in the ......werepond......\n",
      "thing ='wereduck', place ='werepond'\n"
     ]
    }
   ],
   "source": [
    "thing = 'wereduck'\n",
    "place = 'werepond'\n",
    "print(f'The {thing} is in the {place}')\n",
    "\n",
    "# 식 또는 함수 사용 가능\n",
    "print(f'things length : {len(thing)} \\nplace length : {len(place)}')\n",
    "\n",
    "# 문자열 포맷팅\n",
    "print(f'The {thing:>20} is in the {place:.^20}')\n",
    "\n",
    "# 3.8 부터 이름과 값을 쉽게 출력할수 있다.\n",
    "# 변수값을 그대로 출력해서 볼수 있기 때문에 디버깅 용으로 유용하다\n",
    "print(f'{thing =}, {place =}')"
   ]
  },
  {
   "cell_type": "code",
   "execution_count": 19,
   "metadata": {},
   "outputs": [
    {
     "name": "stdout",
     "output_type": "stream",
     "text": [
      ", 0\n",
      ", 0\n",
      ", 0\n",
      "alex, 100\n"
     ]
    }
   ],
   "source": [
    "name = \"\"\n",
    "age = 0\n",
    "\n",
    "temp01 = f\"{name}, {age}\"  # 변수가 뭐라도 선언되어 있어야 한다. 나중에 변수의 내용이 바뀌어도 문자열이 변하지 않는다. \n",
    "temp02 = \"{0}, {1}\" # 문서의 템플릿을 미리 만들고 값을 바꿔 가면서 쓸수 있다.\n",
    "\n",
    "print(temp01)\n",
    "print(temp02.format(name, age))\n",
    "\n",
    "name = \"alex\"\n",
    "age = 100\n",
    "\n",
    "print(temp01)\n",
    "print(temp02.format(name, age))"
   ]
  },
  {
   "cell_type": "markdown",
   "metadata": {},
   "source": [
    "# 더 많은 스트링 함수\n",
    "\n",
    "[https://docs.python.org/3/library/stdtypes.html#string-methods](https://docs.python.org/3/library/stdtypes.html#string-methods)"
   ]
  },
  {
   "cell_type": "markdown",
   "metadata": {},
   "source": []
  }
 ],
 "metadata": {
  "kernelspec": {
   "display_name": "python-class",
   "language": "python",
   "name": "python3"
  },
  "language_info": {
   "codemirror_mode": {
    "name": "ipython",
    "version": 3
   },
   "file_extension": ".py",
   "mimetype": "text/x-python",
   "name": "python",
   "nbconvert_exporter": "python",
   "pygments_lexer": "ipython3",
   "version": "3.11.8"
  }
 },
 "nbformat": 4,
 "nbformat_minor": 2
}
