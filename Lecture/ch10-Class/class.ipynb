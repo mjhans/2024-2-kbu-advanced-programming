{
 "cells": [
  {
   "cell_type": "markdown",
   "metadata": {},
   "source": [
    "# What Are Objects?\n",
    "\n",
    "* 데이터 (변수, attribute)과 코드(함수, method)를 포함하는 자료구조\n",
    "\n",
    "* 파이썬의 모든것은 객체\n",
    "\n",
    "    * 파이썬에서 7이라는 숫자를 사용하면 수치연산을 편하게 해주는 정수 객체를 사용한것\n",
    "\n",
    "    * 8은 또 다른 객체(object)\n",
    "\n",
    "* 클래스는 객체를 정의하는 설계도"
   ]
  },
  {
   "cell_type": "markdown",
   "metadata": {},
   "source": [
    "# Simple Objects\n",
    "\n",
    "## Define a Class with class\n",
    "\n",
    "* class 키워드를 이용해서 정의\n",
    "\n",
    "* 생성은 함수 호출과 동일\n",
    "\n",
    "* class는 객체의 설계도"
   ]
  },
  {
   "cell_type": "code",
   "execution_count": 1,
   "metadata": {},
   "outputs": [],
   "source": [
    "class Cat():\n",
    "\tpass # 아무것도 하지 않는다.\n",
    "\t\n",
    "# 같은 의미\n",
    "class Cat:\n",
    "\tpass\n"
   ]
  },
  {
   "cell_type": "code",
   "execution_count": 2,
   "metadata": {},
   "outputs": [],
   "source": [
    "# 아무것도 하지 않은 Cat 클래스를 만들고 아무것도 하지 않는 cat 객체를 2개 만든다\n",
    "a_cat = Cat()\n",
    "another_cat = Cat()"
   ]
  },
  {
   "cell_type": "code",
   "execution_count": 3,
   "metadata": {},
   "outputs": [
    {
     "ename": "AttributeError",
     "evalue": "'Cat' object has no attribute 'age'",
     "output_type": "error",
     "traceback": [
      "\u001b[0;31m---------------------------------------------------------------------------\u001b[0m",
      "\u001b[0;31mAttributeError\u001b[0m                            Traceback (most recent call last)",
      "Cell \u001b[0;32mIn[3], line 1\u001b[0m\n\u001b[0;32m----> 1\u001b[0m \u001b[38;5;28mprint\u001b[39m(\u001b[38;5;124mf\u001b[39m\u001b[38;5;124m\"\u001b[39m\u001b[38;5;132;01m{\u001b[39;00m\u001b[43ma_cat\u001b[49m\u001b[38;5;241;43m.\u001b[39;49m\u001b[43mage\u001b[49m\u001b[38;5;132;01m}\u001b[39;00m\u001b[38;5;124m, \u001b[39m\u001b[38;5;132;01m{\u001b[39;00ma_cat\u001b[38;5;241m.\u001b[39mname\u001b[38;5;132;01m}\u001b[39;00m\u001b[38;5;124m, \u001b[39m\u001b[38;5;132;01m{\u001b[39;00ma_cat\u001b[38;5;241m.\u001b[39mnemesis\u001b[38;5;132;01m}\u001b[39;00m\u001b[38;5;124m\"\u001b[39m)\n",
      "\u001b[0;31mAttributeError\u001b[0m: 'Cat' object has no attribute 'age'"
     ]
    }
   ],
   "source": [
    "print(f\"{a_cat.age}, {a_cat.name}, {a_cat.nemesis}\")"
   ]
  },
  {
   "cell_type": "markdown",
   "metadata": {},
   "source": [
    "## Attributes\n",
    "\n",
    "* 클래스 / 객체 내부 변수\n",
    "\n",
    "* 객체 / 클래스가 생성되는 동안이나 이후에 속성을 할당 가능"
   ]
  },
  {
   "cell_type": "code",
   "execution_count": 4,
   "metadata": {},
   "outputs": [],
   "source": [
    "# 객체가 생성된 이후 속성을 추가\n",
    "a_cat.age = 3\n",
    "a_cat.name = \"Mr. Fuzzybuttons\"\n",
    "a_cat.nemesis = another_cat"
   ]
  },
  {
   "cell_type": "code",
   "execution_count": 5,
   "metadata": {},
   "outputs": [
    {
     "name": "stdout",
     "output_type": "stream",
     "text": [
      "3, Mr. Fuzzybuttons, <__main__.Cat object at 0x108fa6710>\n"
     ]
    }
   ],
   "source": [
    "print(f\"{a_cat.age}, {a_cat.name}, {a_cat.nemesis}\")"
   ]
  },
  {
   "cell_type": "code",
   "execution_count": 6,
   "metadata": {},
   "outputs": [
    {
     "ename": "AttributeError",
     "evalue": "'Cat' object has no attribute 'name'",
     "output_type": "error",
     "traceback": [
      "\u001b[0;31m---------------------------------------------------------------------------\u001b[0m",
      "\u001b[0;31mAttributeError\u001b[0m                            Traceback (most recent call last)",
      "Cell \u001b[0;32mIn[6], line 1\u001b[0m\n\u001b[0;32m----> 1\u001b[0m \u001b[38;5;28mprint\u001b[39m(\u001b[43ma_cat\u001b[49m\u001b[38;5;241;43m.\u001b[39;49m\u001b[43mnemesis\u001b[49m\u001b[38;5;241;43m.\u001b[39;49m\u001b[43mname\u001b[49m)\n",
      "\u001b[0;31mAttributeError\u001b[0m: 'Cat' object has no attribute 'name'"
     ]
    }
   ],
   "source": [
    "print(a_cat.nemesis.name)"
   ]
  },
  {
   "cell_type": "markdown",
   "metadata": {},
   "source": [
    "다음의 코드가 출력하는 값은?\n",
    "\n",
    "```python\n",
    "        print(a_cat.nemesis.name)\n",
    "```"
   ]
  },
  {
   "cell_type": "code",
   "execution_count": 9,
   "metadata": {},
   "outputs": [
    {
     "name": "stdout",
     "output_type": "stream",
     "text": [
      "Mr. Bigglesworth\n",
      "id(a_cat) = 4445594256, id(another_cat) = 4445595408, id(a_cat.nemesis) = 4445595408\n"
     ]
    }
   ],
   "source": [
    "a_cat.nemesis.name = \"Mr. Bigglesworth\"\n",
    "print(another_cat.name)\n",
    "\n",
    "print(f\"{id(a_cat) = }, {id(another_cat) = }, {id(a_cat.nemesis) = }\")"
   ]
  },
  {
   "cell_type": "markdown",
   "metadata": {},
   "source": [
    "## Methods\n",
    "\n",
    "- 클래스 / 객체의 함수\n",
    "\n",
    "- function과 구분\n",
    "\n",
    "- 클래스내에서 method 구성시 필수로 self 키워드가 첫번째 인자값이 된다.\n",
    "\n",
    "- 사용할때는 안쓴다"
   ]
  },
  {
   "cell_type": "code",
   "execution_count": 11,
   "metadata": {},
   "outputs": [
    {
     "name": "stdout",
     "output_type": "stream",
     "text": [
      "Meow!\n"
     ]
    },
    {
     "ename": "AttributeError",
     "evalue": "'Cat' object has no attribute 'sound'",
     "output_type": "error",
     "traceback": [
      "\u001b[0;31m---------------------------------------------------------------------------\u001b[0m",
      "\u001b[0;31mAttributeError\u001b[0m                            Traceback (most recent call last)",
      "Cell \u001b[0;32mIn[11], line 7\u001b[0m\n\u001b[1;32m      4\u001b[0m a_cat\u001b[38;5;241m.\u001b[39msound \u001b[38;5;241m=\u001b[39m sound\n\u001b[1;32m      5\u001b[0m a_cat\u001b[38;5;241m.\u001b[39msound()\n\u001b[0;32m----> 7\u001b[0m \u001b[43manother_cat\u001b[49m\u001b[38;5;241;43m.\u001b[39;49m\u001b[43msound\u001b[49m()\n",
      "\u001b[0;31mAttributeError\u001b[0m: 'Cat' object has no attribute 'sound'"
     ]
    }
   ],
   "source": [
    "def sound():\n",
    "    print(\"Meow!\")\n",
    "\n",
    "a_cat.sound = sound\n",
    "a_cat.sound()\n",
    "\n",
    "another_cat.sound()"
   ]
  },
  {
   "cell_type": "markdown",
   "metadata": {},
   "source": [
    "* 다음의 코드는 어떻게 동작할까?\n",
    "\n",
    "```python\n",
    "         another_cat.sound()\n",
    "```"
   ]
  },
  {
   "cell_type": "markdown",
   "metadata": {},
   "source": [
    "## Initialization\n",
    "\n",
    "- 객체를 생성할때 값을 초기화 하는 것 (Attribute 선언과 초기화)\n",
    "\n",
    "- __ init __ 이라는 특수 함수를 제공 (언더바 2개가 앞뒤로 들어간다)\n",
    "\n",
    "- 객체 생성시 무조건 호출된다. (생략가능)"
   ]
  },
  {
   "cell_type": "code",
   "execution_count": 12,
   "metadata": {},
   "outputs": [
    {
     "name": "stdout",
     "output_type": "stream",
     "text": [
      "cat initialize\n"
     ]
    }
   ],
   "source": [
    "class Cat:\n",
    "\tdef __init__(self):\n",
    "\t\tprint(\"cat initialize\") #보통 생성자안에 출력하는 코드는 넣지 않는다. 라고 하지만...\n",
    "\n",
    "furball = Cat()"
   ]
  },
  {
   "cell_type": "code",
   "execution_count": 13,
   "metadata": {},
   "outputs": [
    {
     "name": "stdout",
     "output_type": "stream",
     "text": [
      "cat Grumpy initialize\n",
      "Grumpy\n"
     ]
    }
   ],
   "source": [
    "class Cat:\n",
    "\tdef __init__(self, name):\n",
    "\t\tself.name = name  # name에 연결된 값을 객체 내부의 변수에 연결\n",
    "\t\tprint(f\"cat {self.name} initialize\")\n",
    "\n",
    "furball = Cat('Grumpy')\n",
    "print(furball.name)"
   ]
  },
  {
   "cell_type": "code",
   "execution_count": 14,
   "metadata": {},
   "outputs": [
    {
     "name": "stdout",
     "output_type": "stream",
     "text": [
      "cat Playful initialize\n",
      "furball.name = 'Grumpy', another_furball.name = 'Playful'\n"
     ]
    }
   ],
   "source": [
    "another_furball = Cat('Playful')\n",
    "print(f\"{furball.name = }, {another_furball.name = }\")"
   ]
  },
  {
   "cell_type": "markdown",
   "metadata": {},
   "source": [
    "* 일반적으로 알고 있는 생성자와 동작방식이 조금은 다르다\n",
    "  \n",
    "* 객체 생성 후에 자동으로 호출되는 함수라고 생각"
   ]
  },
  {
   "cell_type": "code",
   "execution_count": 15,
   "metadata": {},
   "outputs": [
    {
     "name": "stdout",
     "output_type": "stream",
     "text": [
      "cat Angry initialize\n"
     ]
    }
   ],
   "source": [
    "another_furball.__init__('Angry') # 직접 호출도 가능 (그러나 권장하지 않음)"
   ]
  },
  {
   "cell_type": "code",
   "execution_count": 18,
   "metadata": {},
   "outputs": [
    {
     "name": "stdout",
     "output_type": "stream",
     "text": [
      "Garfield\n"
     ]
    }
   ],
   "source": [
    "class InitCat:\n",
    "    pass\n",
    "\n",
    "def init(obj, name, age):\n",
    "    obj.name = name\n",
    "    obj.age = age\n",
    "\n",
    "# init_cat 객체에 생성함수를 추가\n",
    "init_cat = InitCat()\n",
    "init_cat.__init__ = init\n",
    "\n",
    "init_cat.__init__(init_cat, 'Garfield', 5)\n",
    "print(init_cat.name)\n",
    "\n",
    "another_init_cat = InitCat()\n",
    "#print(another_init_cat.name)"
   ]
  },
  {
   "cell_type": "markdown",
   "metadata": {},
   "source": [
    "# In self Defense\n",
    "\n",
    "* 파이썬에 대한 비판\n",
    "\n",
    "    * 공백을 이용한 block 구성 \n",
    "      \n",
    "      * 코드가 길어지고, 구조가 복잡해지면 오히려 가독성이 떨어진다 \n",
    "      * -> 코드를 간결하게 만들기 위해서 노력 필요\n",
    "    \n",
    "    * 인스턴스 메서드의 첫번째 인수로 self를 포함해야 하는것\n",
    "      * self는 객체 자기 자신을 가르키는 파이썬에서 예약 된 키워드이다. \n",
    "\n",
    "    * 기타 등등\n"
   ]
  },
  {
   "cell_type": "markdown",
   "metadata": {},
   "source": [
    "### 객체에서 함수를 호출시 발생하는 일\n",
    "\n",
    "* car 클래스를 만들고 exclaim 함수를 선언한다.\n",
    "  \n",
    "  * car 객체를 만들어 사용하는 경우 파이썬 내부에서 처리하는 일은\n",
    "    \n",
    "    * a_car객체의 Car 클래스를 찾는다.\n",
    "    \n",
    "    * a_car객체를 Car 클래스의 exclaim 메서드의 self 매개변수에 전달한다."
   ]
  },
  {
   "cell_type": "code",
   "execution_count": 19,
   "metadata": {},
   "outputs": [
    {
     "name": "stdout",
     "output_type": "stream",
     "text": [
      "I'm a Car!\n",
      "I'm a Car!\n"
     ]
    }
   ],
   "source": [
    "class Car():\n",
    "    def exclaim(self):\n",
    "        print(\"I'm a Car!\")\n",
    "\n",
    "a_car = Car()\n",
    "a_car.exclaim()\n",
    "\n",
    "# car 클래스의 함수를 직접 호출 할때 내 객체를 매개변수로 넘겨줘야 한다.\n",
    "Car.exclaim(a_car)"
   ]
  },
  {
   "cell_type": "code",
   "execution_count": 20,
   "metadata": {},
   "outputs": [
    {
     "name": "stdout",
     "output_type": "stream",
     "text": [
      "I'm a Car too!\n"
     ]
    }
   ],
   "source": [
    "Car.exclaim2 = lambda obj : print(\"I'm a Car too!\")\n",
    "another_car = Car()\n",
    "another_car.exclaim2()"
   ]
  },
  {
   "cell_type": "code",
   "execution_count": 21,
   "metadata": {},
   "outputs": [
    {
     "name": "stdout",
     "output_type": "stream",
     "text": [
      "I'm a Car too!\n"
     ]
    }
   ],
   "source": [
    "a_car.exclaim2() # ???"
   ]
  },
  {
   "cell_type": "markdown",
   "metadata": {},
   "source": [
    "# Attribute Access\n",
    "\n",
    "* 파이썬의 객체속성과 메서드는 모두 공개 되어 있다 (캡슐화 안됨)\n",
    "\n",
    "* 개발자 스스로 잘 관리"
   ]
  },
  {
   "cell_type": "markdown",
   "metadata": {},
   "source": [
    "### Direct Access\n",
    "\n",
    "객체 생성후 속성 이름으로 접근"
   ]
  },
  {
   "cell_type": "code",
   "execution_count": 22,
   "metadata": {},
   "outputs": [
    {
     "name": "stdout",
     "output_type": "stream",
     "text": [
      "Daffy\n"
     ]
    }
   ],
   "source": [
    "class Duck:\n",
    "    def __init__(self, input_name):\n",
    "        self.name = input_name\n",
    "\n",
    "fowl = Duck('Daffy')\n",
    "print(fowl.name)"
   ]
  },
  {
   "cell_type": "code",
   "execution_count": 24,
   "metadata": {},
   "outputs": [
    {
     "name": "stdout",
     "output_type": "stream",
     "text": [
      "Daphne\n"
     ]
    }
   ],
   "source": [
    "# 누군가가 fowl.name에 새로운 값을 할당\n",
    "fowl.name = 'Daphne'\n",
    "print(fowl.name)"
   ]
  },
  {
   "cell_type": "markdown",
   "metadata": {},
   "source": [
    "### Getters and Setters\n",
    "\n",
    "* getter / setter 메서드는 거의 대부분의 프로그램 언어에서 사용되는 방식\n",
    "\n",
    "* 파이썬의 경우 접근한정자(Access Modifier) 가 없으므로 속성으로 직접 접근이 가능"
   ]
  },
  {
   "cell_type": "code",
   "execution_count": 25,
   "metadata": {},
   "outputs": [],
   "source": [
    "class Duck():\n",
    "    def __init__(self, input_name):\n",
    "        self.hidden_name = input_name\n",
    "    def get_name(self):\n",
    "        print('inside the getter') # 보여주기 위한 코드, 실제로는 필요 없음\n",
    "        return self.hidden_name\n",
    "    def set_name(self, input_name):\n",
    "        print('inside the setter') # 보여주기 위한 코드, 실제로는 필요 없음\n",
    "        self.hidden_name = input_name\n",
    "        "
   ]
  },
  {
   "cell_type": "code",
   "execution_count": 26,
   "metadata": {},
   "outputs": [
    {
     "name": "stdout",
     "output_type": "stream",
     "text": [
      "inside the getter\n",
      "don.get_name() = 'Donald'\n",
      "inside the setter\n",
      "inside the getter\n",
      "inside the getter\n",
      "don.get_name() = 'Donna'\n"
     ]
    }
   ],
   "source": [
    "don = Duck('Donald')\n",
    "print(f\"{don.get_name() = }\")\n",
    "don.set_name('Donna')\n",
    "don.get_name()\n",
    "print(f\"{don.get_name() = }\")"
   ]
  },
  {
   "cell_type": "code",
   "execution_count": 27,
   "metadata": {},
   "outputs": [
    {
     "name": "stdout",
     "output_type": "stream",
     "text": [
      "don.hidden_name = 'Donna'\n",
      "don.hidden_name = 'Daffy'\n"
     ]
    }
   ],
   "source": [
    "print(f\"{don.hidden_name = }\")\n",
    "don.hidden_name = 'Daffy'\n",
    "print(f\"{don.hidden_name = }\")"
   ]
  },
  {
   "cell_type": "markdown",
   "metadata": {},
   "source": [
    "### Properties for Attribute Access\n",
    "\n",
    "* property 키워드를 제공해서 조금 더 직관적인 방법을 제공\n",
    "\n",
    "* 2가지 방식으로 사용 가능\n",
    "\n",
    "    * 클래스 제일 마지막에 property 구문을 사용   \n",
    "    * Decorator를 사용하는 방식"
   ]
  },
  {
   "cell_type": "markdown",
   "metadata": {},
   "source": [
    "#### 클래스 마지막에 propoerty를 사용하는 방법"
   ]
  },
  {
   "cell_type": "code",
   "execution_count": 28,
   "metadata": {},
   "outputs": [
    {
     "name": "stdout",
     "output_type": "stream",
     "text": [
      "inside the getter\n",
      "don.name = 'Donald'\n",
      "inside the setter\n",
      "inside the getter\n",
      "don.name = 'Donna'\n"
     ]
    }
   ],
   "source": [
    "# 클래스 제일 마지막에 property 구문을 사용\n",
    "class Duck():\n",
    "    def __init__(self, input_name):\n",
    "        self.hidden_name = input_name\n",
    "    def get_name(self):\n",
    "        print('inside the getter') # 보여주기 위한 코드, 실제로는 필요 없음\n",
    "        return self.hidden_name\n",
    "    def set_name(self, input_name):\n",
    "        print('inside the setter')  # 보여주기 위한 코드, 실제로는 필요 없음\n",
    "        self.hidden_name = input_name  \n",
    "    name = property(get_name, set_name)\n",
    "\n",
    "# 이제 name이라는 속성변수로 사용가능하다\n",
    "don = Duck('Donald')\n",
    "print(f\"{don.name = }\")\n",
    "don.name = 'Donna'\n",
    "print(f\"{don.name = }\")"
   ]
  },
  {
   "cell_type": "code",
   "execution_count": 30,
   "metadata": {},
   "outputs": [
    {
     "name": "stdout",
     "output_type": "stream",
     "text": [
      "inside the getter\n",
      "don.get_name() = 'Donald'\n",
      "inside the setter\n",
      "inside the getter\n",
      "inside the getter\n",
      "don.get_name() = 'Donna'\n",
      "Donna\n"
     ]
    }
   ],
   "source": [
    "# 여전히 getter와 setter를 사용할 수 있음\n",
    "don = Duck('Donald')\n",
    "print(f\"{don.get_name() = }\")\n",
    "don.set_name('Donna')\n",
    "don.get_name()\n",
    "print(f\"{don.get_name() = }\")\n",
    "print(don.hidden_name)"
   ]
  },
  {
   "cell_type": "markdown",
   "metadata": {},
   "source": [
    "#### Decorator를 사용하는 방식\n",
    "    \n",
    "* get_name, set_name함수의 이름을 name으로 변경한다\n",
    "\n",
    "* getter로 쓸 메서드 앞에 ```@property Decorator``` 사용\n",
    "\n",
    "* setter로 쓸 메서드 앞에 ```@name.setter Decorator``` 사용\n",
    "\n",
    "    * **만드는 순서 중요 getter가 먼저 선언**되어야 한다\n",
    "\n",
    "* 속성 접근시 name으로 접근"
   ]
  },
  {
   "cell_type": "code",
   "execution_count": 32,
   "metadata": {},
   "outputs": [],
   "source": [
    "class NewDuck():\n",
    "    def __init__(self, input_name):\n",
    "        self.hidden_name = input_name\n",
    "    \n",
    "    @property\n",
    "    def name(self):\n",
    "        print('new duck inside the getter') # 보여주기 위한 코드, 실제로는 필요 없음\n",
    "        return self.hidden_name\n",
    "    \n",
    "    @name.setter\n",
    "    def name(self, input_name):\n",
    "        print('new duck inside the setter') # 보여주기 위한 코드, 실제로는 필요 없음\n",
    "        self.hidden_name = input_name\n"
   ]
  },
  {
   "cell_type": "code",
   "execution_count": 33,
   "metadata": {},
   "outputs": [
    {
     "name": "stdout",
     "output_type": "stream",
     "text": [
      "new duck inside the getter\n",
      "new_fowl.name = 'Howard'\n",
      "new duck inside the setter\n",
      "fowl.name = 'Daphne'\n"
     ]
    }
   ],
   "source": [
    "new_fowl = NewDuck('Howard')\n",
    "print(f\"{new_fowl.name = }\")\n",
    "\n",
    "new_fowl.name = 'Donald'\n",
    "print(f\"{fowl.name = }\")\n"
   ]
  },
  {
   "cell_type": "code",
   "execution_count": 34,
   "metadata": {},
   "outputs": [
    {
     "name": "stdout",
     "output_type": "stream",
     "text": [
      "new_fowl.hidden_name = 'Donald'\n",
      "new_fowl.hidden_name = 'new Daffy'\n"
     ]
    }
   ],
   "source": [
    "# 그러나 property를 사용하는 방식도 hidden_name에 접근할수 있다\n",
    "\n",
    "print(f\"{new_fowl.hidden_name = }\")\n",
    "new_fowl.hidden_name = 'new Daffy'\n",
    "print(f\"{new_fowl.hidden_name = }\")\n"
   ]
  },
  {
   "cell_type": "markdown",
   "metadata": {},
   "source": [
    "### Properties for Computed Values\n",
    "\n",
    "* 속성값을 계산해서 보여줄수 있다."
   ]
  },
  {
   "cell_type": "code",
   "execution_count": 37,
   "metadata": {},
   "outputs": [],
   "source": [
    "class Circle():\n",
    "    def __init__(self, radius):\n",
    "        self.radius = radius\n",
    "    @property\n",
    "    def diameter(self):      # 반지름으로 지름을 계산해서 반환\n",
    "        return 2 * self.radius"
   ]
  },
  {
   "cell_type": "code",
   "execution_count": 38,
   "metadata": {},
   "outputs": [
    {
     "name": "stdout",
     "output_type": "stream",
     "text": [
      "c.radius = 5, c.diameter = 10\n"
     ]
    }
   ],
   "source": [
    "# 생성함수를 퉁해서 반지름을 5로 설정하고, 지름값을 읽기 전용으로 설정\n",
    "c = Circle(5)\n",
    "print(f\"{c.radius = }, {c.diameter = }\")"
   ]
  },
  {
   "cell_type": "code",
   "execution_count": 39,
   "metadata": {},
   "outputs": [
    {
     "ename": "AttributeError",
     "evalue": "property 'diameter' of 'Circle' object has no setter",
     "output_type": "error",
     "traceback": [
      "\u001b[0;31m---------------------------------------------------------------------------\u001b[0m",
      "\u001b[0;31mAttributeError\u001b[0m                            Traceback (most recent call last)",
      "Cell \u001b[0;32mIn[39], line 2\u001b[0m\n\u001b[1;32m      1\u001b[0m \u001b[38;5;66;03m# diameter는 읽기 전용이므로 다음 코드는 에러를 발생시킴\u001b[39;00m\n\u001b[0;32m----> 2\u001b[0m \u001b[43mc\u001b[49m\u001b[38;5;241;43m.\u001b[39;49m\u001b[43mdiameter\u001b[49m \u001b[38;5;241m=\u001b[39m \u001b[38;5;241m20\u001b[39m\n",
      "\u001b[0;31mAttributeError\u001b[0m: property 'diameter' of 'Circle' object has no setter"
     ]
    }
   ],
   "source": [
    "# diameter는 읽기 전용이므로 다음 코드는 에러를 발생시킴\n",
    "c.diameter = 20"
   ]
  },
  {
   "cell_type": "code",
   "execution_count": 40,
   "metadata": {},
   "outputs": [],
   "source": [
    "# setter를 통해서 값에 대한 검증을 한다\n",
    "# getter를 통해서 값에 대한 계산이나 변환을 해준다\n",
    "class NewCircle():\n",
    "    def __init__(self, radius):\n",
    "        self.radius = radius # setter를 호출한다.\n",
    "    \n",
    "    @property        \n",
    "    def radius(self):  \n",
    "        return self.hidden_radius\n",
    "    \n",
    "    @radius.setter\n",
    "    def radius(self, radius):\n",
    "        try:\n",
    "            radius = float(radius)\n",
    "        except ValueError:\n",
    "            raise ValueError(\"반지름은 숫자여야 합니다.\")\n",
    "        \n",
    "        if radius <= 0:\n",
    "            raise ValueError(\"반지름은 0보다 커야 합니다.\")\n",
    "        self.hidden_radius = radius\n",
    "        \n",
    "    @property\n",
    "    def diameter(self):      # 반지름으로 지름을 계산해서 읽기 전용으로 반환\n",
    "        return 2 * self.radius"
   ]
  },
  {
   "cell_type": "code",
   "execution_count": 41,
   "metadata": {},
   "outputs": [
    {
     "name": "stdout",
     "output_type": "stream",
     "text": [
      "c.radius = 5.0, c.diameter = 10.0\n"
     ]
    }
   ],
   "source": [
    "c = NewCircle(5)\n",
    "print(f\"{c.radius = }, {c.diameter = }\")"
   ]
  },
  {
   "cell_type": "code",
   "execution_count": 42,
   "metadata": {},
   "outputs": [
    {
     "ename": "ValueError",
     "evalue": "반지름은 0보다 커야 합니다.",
     "output_type": "error",
     "traceback": [
      "\u001b[0;31m---------------------------------------------------------------------------\u001b[0m",
      "\u001b[0;31mValueError\u001b[0m                                Traceback (most recent call last)",
      "Cell \u001b[0;32mIn[42], line 1\u001b[0m\n\u001b[0;32m----> 1\u001b[0m c \u001b[38;5;241m=\u001b[39m \u001b[43mNewCircle\u001b[49m\u001b[43m(\u001b[49m\u001b[38;5;241;43m-\u001b[39;49m\u001b[38;5;241;43m5\u001b[39;49m\u001b[43m)\u001b[49m\n",
      "Cell \u001b[0;32mIn[40], line 5\u001b[0m, in \u001b[0;36mNewCircle.__init__\u001b[0;34m(self, radius)\u001b[0m\n\u001b[1;32m      4\u001b[0m \u001b[38;5;28;01mdef\u001b[39;00m \u001b[38;5;21m__init__\u001b[39m(\u001b[38;5;28mself\u001b[39m, radius):\n\u001b[0;32m----> 5\u001b[0m     \u001b[38;5;28;43mself\u001b[39;49m\u001b[38;5;241;43m.\u001b[39;49m\u001b[43mradius\u001b[49m \u001b[38;5;241m=\u001b[39m radius\n",
      "Cell \u001b[0;32mIn[40], line 19\u001b[0m, in \u001b[0;36mNewCircle.radius\u001b[0;34m(self, radius)\u001b[0m\n\u001b[1;32m     16\u001b[0m     \u001b[38;5;28;01mraise\u001b[39;00m \u001b[38;5;167;01mValueError\u001b[39;00m(\u001b[38;5;124m\"\u001b[39m\u001b[38;5;124m반지름은 숫자여야 합니다.\u001b[39m\u001b[38;5;124m\"\u001b[39m)\n\u001b[1;32m     18\u001b[0m \u001b[38;5;28;01mif\u001b[39;00m radius \u001b[38;5;241m<\u001b[39m\u001b[38;5;241m=\u001b[39m \u001b[38;5;241m0\u001b[39m:\n\u001b[0;32m---> 19\u001b[0m     \u001b[38;5;28;01mraise\u001b[39;00m \u001b[38;5;167;01mValueError\u001b[39;00m(\u001b[38;5;124m\"\u001b[39m\u001b[38;5;124m반지름은 0보다 커야 합니다.\u001b[39m\u001b[38;5;124m\"\u001b[39m)\n\u001b[1;32m     20\u001b[0m \u001b[38;5;28mself\u001b[39m\u001b[38;5;241m.\u001b[39mhidden_radius \u001b[38;5;241m=\u001b[39m radius\n",
      "\u001b[0;31mValueError\u001b[0m: 반지름은 0보다 커야 합니다."
     ]
    }
   ],
   "source": [
    "c = NewCircle(-5)"
   ]
  },
  {
   "cell_type": "code",
   "execution_count": 43,
   "metadata": {},
   "outputs": [
    {
     "ename": "ValueError",
     "evalue": "반지름은 숫자여야 합니다.",
     "output_type": "error",
     "traceback": [
      "\u001b[0;31m---------------------------------------------------------------------------\u001b[0m",
      "\u001b[0;31mValueError\u001b[0m                                Traceback (most recent call last)",
      "Cell \u001b[0;32mIn[40], line 14\u001b[0m, in \u001b[0;36mNewCircle.radius\u001b[0;34m(self, radius)\u001b[0m\n\u001b[1;32m     13\u001b[0m \u001b[38;5;28;01mtry\u001b[39;00m:\n\u001b[0;32m---> 14\u001b[0m     radius \u001b[38;5;241m=\u001b[39m \u001b[38;5;28;43mfloat\u001b[39;49m\u001b[43m(\u001b[49m\u001b[43mradius\u001b[49m\u001b[43m)\u001b[49m\n\u001b[1;32m     15\u001b[0m \u001b[38;5;28;01mexcept\u001b[39;00m \u001b[38;5;167;01mValueError\u001b[39;00m:\n",
      "\u001b[0;31mValueError\u001b[0m: could not convert string to float: 'five'",
      "\nDuring handling of the above exception, another exception occurred:\n",
      "\u001b[0;31mValueError\u001b[0m                                Traceback (most recent call last)",
      "Cell \u001b[0;32mIn[43], line 1\u001b[0m\n\u001b[0;32m----> 1\u001b[0m c \u001b[38;5;241m=\u001b[39m \u001b[43mNewCircle\u001b[49m\u001b[43m(\u001b[49m\u001b[38;5;124;43m'\u001b[39;49m\u001b[38;5;124;43mfive\u001b[39;49m\u001b[38;5;124;43m'\u001b[39;49m\u001b[43m)\u001b[49m\n",
      "Cell \u001b[0;32mIn[40], line 5\u001b[0m, in \u001b[0;36mNewCircle.__init__\u001b[0;34m(self, radius)\u001b[0m\n\u001b[1;32m      4\u001b[0m \u001b[38;5;28;01mdef\u001b[39;00m \u001b[38;5;21m__init__\u001b[39m(\u001b[38;5;28mself\u001b[39m, radius):\n\u001b[0;32m----> 5\u001b[0m     \u001b[38;5;28;43mself\u001b[39;49m\u001b[38;5;241;43m.\u001b[39;49m\u001b[43mradius\u001b[49m \u001b[38;5;241m=\u001b[39m radius\n",
      "Cell \u001b[0;32mIn[40], line 16\u001b[0m, in \u001b[0;36mNewCircle.radius\u001b[0;34m(self, radius)\u001b[0m\n\u001b[1;32m     14\u001b[0m     radius \u001b[38;5;241m=\u001b[39m \u001b[38;5;28mfloat\u001b[39m(radius)\n\u001b[1;32m     15\u001b[0m \u001b[38;5;28;01mexcept\u001b[39;00m \u001b[38;5;167;01mValueError\u001b[39;00m:\n\u001b[0;32m---> 16\u001b[0m     \u001b[38;5;28;01mraise\u001b[39;00m \u001b[38;5;167;01mValueError\u001b[39;00m(\u001b[38;5;124m\"\u001b[39m\u001b[38;5;124m반지름은 숫자여야 합니다.\u001b[39m\u001b[38;5;124m\"\u001b[39m)\n\u001b[1;32m     18\u001b[0m \u001b[38;5;28;01mif\u001b[39;00m radius \u001b[38;5;241m<\u001b[39m\u001b[38;5;241m=\u001b[39m \u001b[38;5;241m0\u001b[39m:\n\u001b[1;32m     19\u001b[0m     \u001b[38;5;28;01mraise\u001b[39;00m \u001b[38;5;167;01mValueError\u001b[39;00m(\u001b[38;5;124m\"\u001b[39m\u001b[38;5;124m반지름은 0보다 커야 합니다.\u001b[39m\u001b[38;5;124m\"\u001b[39m)\n",
      "\u001b[0;31mValueError\u001b[0m: 반지름은 숫자여야 합니다."
     ]
    }
   ],
   "source": [
    "c = NewCircle('five')"
   ]
  },
  {
   "cell_type": "markdown",
   "metadata": {},
   "source": [
    "### Name Mangling for Privacy\n",
    "\n",
    "* 숨기고 싶은 속성값을 일부 가려주는 trick\n",
    "  \n",
    "* 속성 변수 이름앞에 __(언더바 2개)를 붙여주면 된다.\n",
    "  \n",
    "* 외부에서 접근을 못하는게 아니라 파이썬 내부에서 다른 변수이름으로 변경"
   ]
  },
  {
   "cell_type": "code",
   "execution_count": 44,
   "metadata": {},
   "outputs": [],
   "source": [
    "class HiddenDuck():\n",
    "    def __init__(self, input_name):\n",
    "        self.__name = input_name\n",
    "    @property\n",
    "    def name(self):\n",
    "        print('inside the getter')\n",
    "        return self.__name\n",
    "    @name.setter\n",
    "    def name(self, input_name):\n",
    "        print('inside the setter')\n",
    "        self.__name = input_name\n"
   ]
  },
  {
   "cell_type": "code",
   "execution_count": 45,
   "metadata": {},
   "outputs": [
    {
     "name": "stdout",
     "output_type": "stream",
     "text": [
      "inside the getter\n",
      "hidden_fowl.name = 'Howard'\n",
      "inside the setter\n",
      "inside the getter\n",
      "hidden_fowl.name = 'Donald'\n"
     ]
    }
   ],
   "source": [
    "hidden_fowl = HiddenDuck('Howard')\n",
    "print(f\"{hidden_fowl.name = }\")\n",
    "\n",
    "hidden_fowl.name = 'Donald'\n",
    "print(f\"{hidden_fowl.name = }\")"
   ]
  },
  {
   "cell_type": "code",
   "execution_count": 46,
   "metadata": {},
   "outputs": [
    {
     "ename": "AttributeError",
     "evalue": "'HiddenDuck' object has no attribute '__name'",
     "output_type": "error",
     "traceback": [
      "\u001b[0;31m---------------------------------------------------------------------------\u001b[0m",
      "\u001b[0;31mAttributeError\u001b[0m                            Traceback (most recent call last)",
      "Cell \u001b[0;32mIn[46], line 1\u001b[0m\n\u001b[0;32m----> 1\u001b[0m \u001b[38;5;28mprint\u001b[39m(\u001b[38;5;124mf\u001b[39m\u001b[38;5;124m\"\u001b[39m\u001b[38;5;132;01m{\u001b[39;00m\u001b[43mhidden_fowl\u001b[49m\u001b[38;5;241;43m.\u001b[39;49m\u001b[43m__name\u001b[49m\u001b[38;5;250m \u001b[39m\u001b[38;5;132;01m= }\u001b[39;00m\u001b[38;5;124m\"\u001b[39m)\n",
      "\u001b[0;31mAttributeError\u001b[0m: 'HiddenDuck' object has no attribute '__name'"
     ]
    }
   ],
   "source": [
    "print(f\"{hidden_fowl.__name = }\")"
   ]
  },
  {
   "cell_type": "code",
   "execution_count": 47,
   "metadata": {},
   "outputs": [
    {
     "name": "stdout",
     "output_type": "stream",
     "text": [
      "inside the getter\n",
      "hidden_fowl.name = 'Donald'\n",
      "hidden_fowl.__name = 'Daffy'\n"
     ]
    }
   ],
   "source": [
    "hidden_fowl.__name = 'Daffy'  # 새로운 attibute을 할당하는 방식으로 동작\n",
    "print(f\"{hidden_fowl.name = }\")\n",
    "print(f\"{hidden_fowl.__name = }\")"
   ]
  },
  {
   "cell_type": "code",
   "execution_count": 48,
   "metadata": {},
   "outputs": [
    {
     "name": "stdout",
     "output_type": "stream",
     "text": [
      "hidden_fowl._HiddenDuck__name = 'Donald'\n"
     ]
    }
   ],
   "source": [
    "# 외부에서 접근을 못하는게 아니라 파이썬 내부에서 다른 변수이름으로 변경\n",
    "print(f\"{hidden_fowl._HiddenDuck__name = }\")"
   ]
  },
  {
   "cell_type": "markdown",
   "metadata": {},
   "source": [
    "# Method Types\n",
    "\n",
    "## Instance Methods\n",
    "\n",
    "* 지금까지 사용했던 method이다.\n",
    "\n",
    "* 클래스에서 선언하고 객체로 만든 후 사용"
   ]
  },
  {
   "cell_type": "markdown",
   "metadata": {},
   "source": [
    "## Class Methods\n",
    "\n",
    "* 클래스 전체에 영향을 미치는 메서드\n",
    "\n",
    "* ```@classmethod``` Decorator 사용\n",
    "\n",
    "* 함수의 첫번째 인수로 cls 키워드를 사용"
   ]
  },
  {
   "cell_type": "code",
   "execution_count": 49,
   "metadata": {},
   "outputs": [
    {
     "name": "stdout",
     "output_type": "stream",
     "text": [
      "A has 3, little objects.\n"
     ]
    }
   ],
   "source": [
    "class A():\n",
    "    count = 0\n",
    "    def __init__(self):\n",
    "        A.count += 1   # 클래스의 count를 증가시킴\n",
    "    def exclaim(self):\n",
    "        print(\"I'm an A!\")\n",
    "\n",
    "    @classmethod\n",
    "    def kids(cls):\n",
    "        print(f\"A has {cls.count}, little objects.\")\n",
    "\n",
    "# A Class로 부터 3개의 객체 생성\n",
    "# A.count는 객체가 생성될 때마다 1씩 증가\n",
    "easy_a = A()\n",
    "breezy_a = A()\n",
    "wheezy_a = A()\n",
    "\n",
    "A.kids()"
   ]
  },
  {
   "cell_type": "markdown",
   "metadata": {},
   "source": [
    "## **Static Methods**\n",
    "\n",
    "* 클래스나 객체에 영향을 미치지 못한다\n",
    "\n",
    "* 편의를 위해서 존재\n",
    "\n",
    "* ```@staticmethod``` Decorator 사용"
   ]
  },
  {
   "cell_type": "code",
   "execution_count": null,
   "metadata": {},
   "outputs": [],
   "source": [
    "class CoyoteWeapon():\n",
    "    @staticmethod\n",
    "    def commercial():\n",
    "        print('This CoyoteWeapon has been brought to you by Acme')\n",
    "\n",
    "CoyoteWeapon.commercial()\n"
   ]
  },
  {
   "cell_type": "markdown",
   "metadata": {},
   "source": [
    "# Duck Typing\n",
    "\n",
    "* 파이썬은 다형성을 느슨하게 구현(loose)\n",
    "\n",
    "* 클래스에 상관없이 같은 동작을 다른 객체에 적용 가능"
   ]
  },
  {
   "cell_type": "code",
   "execution_count": 50,
   "metadata": {},
   "outputs": [],
   "source": [
    "class Quote():\n",
    "    def __init__(self, person, words):\n",
    "        self.person = person\n",
    "        self.words = words\n",
    "    def who(self):\n",
    "        return self.person\n",
    "    def says(self):\n",
    "        return self.words + '.'\n",
    "\n",
    "class QuestionQuote(Quote):     # Quote 상속\n",
    "     def says(self):            # 함수 오버라이드\n",
    "         return self.words + '?'\n",
    "\n",
    "class ExclamationQuote(Quote):   # Quote 상속\n",
    "     def says(self):             # 함수 오버라이드  \n",
    "         return self.words + '!'\n",
    "\n"
   ]
  },
  {
   "cell_type": "code",
   "execution_count": 51,
   "metadata": {},
   "outputs": [
    {
     "name": "stdout",
     "output_type": "stream",
     "text": [
      "Elmer Fudd says: I'm hunting wabbits.\n",
      "Bugs Bunny says: What's up, doc?\n",
      "Daffy Duck says: It's rabbit season!\n"
     ]
    }
   ],
   "source": [
    "# QuestionQuote, ExclamationQuote 초기화 함수가 없으므로 부모 클래스의 초기화 함수를 그대로 적용\n",
    "hunter = Quote('Elmer Fudd', \"I'm hunting wabbits\")\n",
    "print(hunter.who(), 'says:', hunter.says())\n",
    "\n",
    "hunted1 = QuestionQuote('Bugs Bunny', \"What's up, doc\")\n",
    "print(hunted1.who(), 'says:', hunted1.says())\n",
    "\n",
    "hunted2 = ExclamationQuote('Daffy Duck', \"It's rabbit season\")\n",
    "print(hunted2.who(), 'says:', hunted2.says())"
   ]
  },
  {
   "cell_type": "markdown",
   "metadata": {},
   "source": [
    "* who함수는 재정의 하지 않았으므로 동일하게 동작\n",
    "\n",
    "* say함수는 각각의 클래스에서 재정의 했으므로 서로 다른 동작\n",
    "\n",
    "* 객체를 입력받아 내용을 출력하는 함수를 구현"
   ]
  },
  {
   "cell_type": "code",
   "execution_count": 53,
   "metadata": {},
   "outputs": [],
   "source": [
    "def who_says(obj):\n",
    "\tprint(obj.who(), 'says', obj.says())"
   ]
  },
  {
   "cell_type": "code",
   "execution_count": 54,
   "metadata": {},
   "outputs": [
    {
     "name": "stdout",
     "output_type": "stream",
     "text": [
      "Elmer Fudd says I'm hunting wabbits.\n",
      "Bugs Bunny says What's up, doc?\n",
      "Daffy Duck says It's rabbit season!\n"
     ]
    }
   ],
   "source": [
    "who_says(hunter)\n",
    "who_says(hunted1)\n",
    "who_says(hunted2)"
   ]
  },
  {
   "cell_type": "code",
   "execution_count": 56,
   "metadata": {},
   "outputs": [],
   "source": [
    "# Quote 클래스와 관계 없는 BabblingBrook 클래스 정의, who, say함수 실행\n",
    "class BabblingBrook():\n",
    "    def who(self):\n",
    "        return 'Brook'\n",
    "    def says(self):\n",
    "        return 'Babble'\n",
    "\n",
    "brook = BabblingBrook()"
   ]
  },
  {
   "cell_type": "code",
   "execution_count": 57,
   "metadata": {},
   "outputs": [
    {
     "name": "stdout",
     "output_type": "stream",
     "text": [
      "Brook says Babble\n"
     ]
    }
   ],
   "source": [
    "who_says(brook)"
   ]
  },
  {
   "cell_type": "markdown",
   "metadata": {},
   "source": [
    "* 자바와 다르게 상속받지 않아도 동작 가능\n",
    "\n",
    "* 이러한 동작 방식을 duck typing 이라고 한다. (오리 테스트에서 유래)\n",
    "\n",
    "* 이 방식은 who, says 함수를 사용하려면 객체를 정의하는 개발자가 스펙에 잘 맞춰서 구현 \n",
    "  * (느슨한 만큼 대가를 지불해야 한다)\n",
    "  \n",
    "  * 매개 변수의 종류에 가변 위치, 가변 키워드가 있으므로 매개변수의 갯수는 중요하지 않다\n",
    "  \n",
    "  * 매개 변수의 타입을 체크하지 않기 때문에 타입도 중요하지 않다\n",
    "  \n",
    "  * 완전 다른 동작을 하는 내용으로 작성해도 잘 동작 한다\n",
    "  \n",
    "  * typing에서 Any 타입을 지원한다"
   ]
  },
  {
   "cell_type": "markdown",
   "metadata": {},
   "source": [
    "# Magic Methods\n",
    "\n",
    "* 파이썬의 클래스에는 매직 매서드라는 특수한 메서드가 있다. \n",
    "\n",
    "* 매직 메서드를 정의하면 파이썬의 builtin 함수를 같이 사용할수 있다. \n",
    "\n",
    "* 매직 메서드는 __로 시작해서 __ 로 끝나게 되어 있다.\n",
    "\n",
    "* __ init __() 함수도 매직 메서드이다."
   ]
  },
  {
   "cell_type": "markdown",
   "metadata": {},
   "source": [
    "## `__str__` 함수\n",
    "\n",
    "* 객체를 print했을때 반환되는 문자열을 정의한다. \n",
    "\n",
    "* 객체의 상태를 확인하도록 만들어주면 디버깅 할때 도움이 많이 된다"
   ]
  },
  {
   "cell_type": "code",
   "execution_count": 58,
   "metadata": {},
   "outputs": [
    {
     "name": "stdout",
     "output_type": "stream",
     "text": [
      "Elmer Fudd says I'm hunting wabbits\n"
     ]
    }
   ],
   "source": [
    "class Quote():\n",
    "    def __init__(self, person, words):\n",
    "        self.person = person\n",
    "        self.words = words\n",
    "    def who(self):\n",
    "        return self.person\n",
    "    def says(self):\n",
    "        return self.words + '.'\n",
    "    \n",
    "    def __str__(self) :\n",
    "        return f\"{self.person} says {self.words}\"\n",
    "    \n",
    "hunter = Quote('Elmer Fudd', \"I'm hunting wabbits\")\n",
    "print(hunter)"
   ]
  },
  {
   "cell_type": "markdown",
   "metadata": {},
   "source": [
    "## `__getitem__` / `__setitem__` 함수\n",
    "\n",
    "* class를 Dictionary 나 list 처럼 쓸수 있게 한다."
   ]
  },
  {
   "cell_type": "code",
   "execution_count": 62,
   "metadata": {},
   "outputs": [
    {
     "name": "stdout",
     "output_type": "stream",
     "text": [
      "index = 2\n",
      "3\n",
      "CustomList([1, 2, 10, 4, 5])\n",
      "index = 0\n",
      "index = 1\n",
      "index = 2\n",
      "index = 3\n",
      "index = 4\n",
      "index = 5\n",
      "sum(clist) = 22\n"
     ]
    }
   ],
   "source": [
    "# 리스트 처럼 사용하기\n",
    "class CustomList:\n",
    "    def __init__(self, initial_data=None):\n",
    "        self.data = initial_data or []\n",
    "\n",
    "    def __getitem__(self, index):\n",
    "        print(f\"{index = }\")\n",
    "        return self.data[index]\n",
    "\n",
    "    def __setitem__(self, index, value):\n",
    "        self.data[index] = value\n",
    "\n",
    "    def __repr__(self):\n",
    "        return f\"CustomList({self.data})\"\n",
    "\n",
    "# 예제 사용\n",
    "clist = CustomList([1, 2, 3, 4, 5])\n",
    "print(clist[2])  # __getitem__을 사용하여 인덱스 2의 값 접근 (출력: 3)\n",
    "clist[2] = 10    # __setitem__을 사용하여 인덱스 2의 값 수정\n",
    "print(clist)     # CustomList([1, 2, 10, 4, 5])\n",
    "\n",
    "\n",
    "# sum() 함수와 연동\n",
    "print(f\"{sum(clist) = }\")  # 내장 sum() 함수 사용 (출력: 22)"
   ]
  },
  {
   "cell_type": "code",
   "execution_count": null,
   "metadata": {},
   "outputs": [],
   "source": [
    "# Dictionary 처럼 사용하기\n",
    "class CustomDict:\n",
    "    def __init__(self):\n",
    "        self.data = {}     # 최근에 사용한건 redis라는 key-value 저장소에 접근하는 클래스를 만들어서 사용했다.\n",
    "\n",
    "    def __getitem__(self, key):\n",
    "        return self.data.get(key, \"Key not found\")\n",
    "\n",
    "    def __setitem__(self, key, value):\n",
    "        self.data[key] = value\n",
    "\n",
    "    def __repr__(self):\n",
    "        return f\"CustomDict({self.data})\"\n",
    "\n",
    "# 예제 사용\n",
    "cdict = CustomDict()\n",
    "cdict['a'] = 10      # __setitem__으로 키 'a'에 값 10 할당\n",
    "print(cdict['a'])    # __getitem__으로 키 'a' 값 접근 (출력: 10)\n",
    "print(cdict['b'])    # 존재하지 않는 키 'b' 접근 (출력: Key not found)\n",
    "\n"
   ]
  },
  {
   "cell_type": "code",
   "execution_count": 65,
   "metadata": {},
   "outputs": [],
   "source": [
    "# 응용 버전\n",
    "class PositiveList:\n",
    "    def __init__(self):\n",
    "        self.data = []\n",
    "\n",
    "    def __getitem__(self, index):\n",
    "        return self.data[index]\n",
    "\n",
    "    def __setitem__(self, index, value):\n",
    "        if value >= 0:\n",
    "            if index < len(self.data):\n",
    "                self.data[index] = value\n",
    "            else:\n",
    "                self.data.append(value)\n",
    "        else:\n",
    "            print(\"음수는 추가할 수 없습니다.\")\n",
    "\n",
    "    def __repr__(self):\n",
    "        return f\"PositiveList({self.data})\""
   ]
  },
  {
   "cell_type": "code",
   "execution_count": 66,
   "metadata": {},
   "outputs": [
    {
     "name": "stdout",
     "output_type": "stream",
     "text": [
      "PositiveList([5, 10])\n"
     ]
    }
   ],
   "source": [
    "# 예제 사용\n",
    "plist = PositiveList()\n",
    "plist[0] = 5         # 5 추가\n",
    "#plist[1] = -3        # 음수 추가 시도 (출력: 음수는 추가할 수 없습니다.)\n",
    "plist[2] = 10        # 10 추가\n",
    "print(plist)         # PositiveList([5, 10])"
   ]
  },
  {
   "cell_type": "code",
   "execution_count": 67,
   "metadata": {},
   "outputs": [
    {
     "name": "stdout",
     "output_type": "stream",
     "text": [
      "10\n",
      "15\n"
     ]
    }
   ],
   "source": [
    "print(max(plist))   # 내장 max() 함수 사용 (출력: 10)\n",
    "print(sum(plist))   # 내장 sum() 함수 사용 (출력: 15)"
   ]
  },
  {
   "cell_type": "markdown",
   "metadata": {},
   "source": [
    "* 이 외에도 많은 매직메서드가 있다\n",
    "\n",
    "* [https://docs.python.org/3.11/reference/datamodel.html](https://docs.python.org/3.11/reference/datamodel.html)"
   ]
  }
 ],
 "metadata": {
  "kernelspec": {
   "display_name": "Python 3 (ipykernel)",
   "language": "python",
   "name": "python3"
  },
  "language_info": {
   "codemirror_mode": {
    "name": "ipython",
    "version": 3
   },
   "file_extension": ".py",
   "mimetype": "text/x-python",
   "name": "python",
   "nbconvert_exporter": "python",
   "pygments_lexer": "ipython3",
   "version": "3.11.8"
  }
 },
 "nbformat": 4,
 "nbformat_minor": 4
}
