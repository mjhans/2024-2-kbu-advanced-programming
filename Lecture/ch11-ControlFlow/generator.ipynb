{
 "cells": [
  {
   "cell_type": "code",
   "execution_count": 1,
   "id": "00155f1d-44c6-43e8-bf2e-2ab5374098bf",
   "metadata": {},
   "outputs": [],
   "source": [
    "import re\n",
    "import reprlib\n",
    "\n",
    "RE_WORD = re.compile('\\w+')\n",
    "\n",
    "class Sentence:\n",
    "    def __init__(self, text):\n",
    "        self.text = text\n",
    "        self.words = RE_WORD.findall(text)\n",
    "\n",
    "    def __iter__(self):\n",
    "        for word in self.words:\n",
    "            yield word\n",
    "        return   # 별의미 없음\n",
    "\n",
    "    def __repr__(self):\n",
    "        return f\"Senetence ({reprlib.repr(self.text)})\""
   ]
  },
  {
   "cell_type": "code",
   "execution_count": null,
   "id": "985ba35f-97a1-4a01-b4dc-cea5a786cdd1",
   "metadata": {},
   "outputs": [],
   "source": [
    "# class Sentence:\n",
    "#     def __init__(self, text):\n",
    "#         self.text = text\n",
    "#         self.words = RE_WORD.findall(text) \n",
    "\n",
    "#     def __iter__(self):\n",
    "#         return SenetenceIterator(self.words) # iterator 객체 반환\n",
    "\n",
    "#     def __repr__(self):\n",
    "#         return f\"Senetence ({reprlib.repr(self.text)})\""
   ]
  },
  {
   "cell_type": "code",
   "execution_count": 2,
   "id": "e26553af-fe75-4cc8-8274-782985de14f3",
   "metadata": {},
   "outputs": [],
   "source": [
    "s = Sentence(\"the old man and sea\")"
   ]
  },
  {
   "cell_type": "code",
   "execution_count": 3,
   "id": "1cfccc0c",
   "metadata": {},
   "outputs": [
    {
     "name": "stdout",
     "output_type": "stream",
     "text": [
      "the\n",
      "old\n",
      "man\n",
      "and\n",
      "sea\n"
     ]
    }
   ],
   "source": [
    "for word in s:\n",
    "    print(word)"
   ]
  },
  {
   "cell_type": "code",
   "execution_count": 6,
   "id": "522d9e3b-c537-4cf3-8c6a-bff661b9e2a1",
   "metadata": {},
   "outputs": [
    {
     "name": "stdout",
     "output_type": "stream",
     "text": [
      "<class 'generator'>\n",
      "<class '__main__.Sentence'>\n"
     ]
    }
   ],
   "source": [
    "it = iter(s)\n",
    "print(type(it))\n",
    "print(type(s))"
   ]
  },
  {
   "cell_type": "code",
   "execution_count": 7,
   "id": "88852c20",
   "metadata": {},
   "outputs": [
    {
     "name": "stdout",
     "output_type": "stream",
     "text": [
      "the\n",
      "old\n",
      "man\n",
      "and\n",
      "sea\n"
     ]
    }
   ],
   "source": [
    "print(next(it))\n",
    "print(next(it))\n",
    "print(next(it))\n",
    "print(next(it))\n",
    "print(next(it))"
   ]
  },
  {
   "cell_type": "markdown",
   "id": "cd6e378d",
   "metadata": {},
   "source": [
    "# Generator"
   ]
  },
  {
   "cell_type": "code",
   "execution_count": 15,
   "id": "e26c7d33-86cd-4fe5-9056-c0461f43144c",
   "metadata": {},
   "outputs": [
    {
     "data": {
      "text/plain": [
       "'GEN_SUSPENDED'"
      ]
     },
     "execution_count": 15,
     "metadata": {},
     "output_type": "execute_result"
    }
   ],
   "source": [
    "from inspect import getgeneratorstate\n",
    "getgeneratorstate(it)"
   ]
  },
  {
   "cell_type": "code",
   "execution_count": 9,
   "id": "59a70109-fbe9-4a12-bbb9-560c8433c263",
   "metadata": {},
   "outputs": [],
   "source": [
    "def gen_123():\n",
    "    yield 1\n",
    "    yield 2\n",
    "    yield 3\n",
    "    yield 4\n",
    "    "
   ]
  },
  {
   "cell_type": "code",
   "execution_count": 10,
   "id": "6689f2c8-d657-4c43-8d60-32f96253aa22",
   "metadata": {},
   "outputs": [
    {
     "data": {
      "text/plain": [
       "<function __main__.gen_123()>"
      ]
     },
     "execution_count": 10,
     "metadata": {},
     "output_type": "execute_result"
    }
   ],
   "source": [
    "gen_123"
   ]
  },
  {
   "cell_type": "code",
   "execution_count": 12,
   "id": "60e5616f-d61c-40e0-add3-1c8e94204de0",
   "metadata": {},
   "outputs": [
    {
     "name": "stdout",
     "output_type": "stream",
     "text": [
      "<class 'generator'>\n",
      "<class 'generator'>\n"
     ]
    }
   ],
   "source": [
    "g = gen_123()\n",
    "print(type(g))\n",
    "print(type(iter(g)))"
   ]
  },
  {
   "cell_type": "code",
   "execution_count": 13,
   "id": "8503b771-e073-417d-b372-7923e578204c",
   "metadata": {},
   "outputs": [
    {
     "name": "stdout",
     "output_type": "stream",
     "text": [
      "i -> 1\n",
      "i -> 2\n",
      "i -> 3\n",
      "i -> 4\n"
     ]
    }
   ],
   "source": [
    "for i in gen_123():\n",
    "    print(f\"i -> {i}\")"
   ]
  },
  {
   "cell_type": "code",
   "execution_count": 11,
   "id": "58ca6fe4-c1ee-407a-9133-0c7ef40bbb02",
   "metadata": {},
   "outputs": [],
   "source": [
    "g = gen_123()"
   ]
  },
  {
   "cell_type": "code",
   "execution_count": 16,
   "id": "7c508779-fc8b-4f72-bd5d-3f7c625406f7",
   "metadata": {},
   "outputs": [
    {
     "data": {
      "text/plain": [
       "'GEN_CREATED'"
      ]
     },
     "execution_count": 16,
     "metadata": {},
     "output_type": "execute_result"
    }
   ],
   "source": [
    "getgeneratorstate(g)"
   ]
  },
  {
   "cell_type": "code",
   "execution_count": 17,
   "id": "ce11a402-5b55-4f6f-8e0b-42b7aed718e2",
   "metadata": {},
   "outputs": [
    {
     "data": {
      "text/plain": [
       "1"
      ]
     },
     "execution_count": 17,
     "metadata": {},
     "output_type": "execute_result"
    }
   ],
   "source": [
    "next(g)"
   ]
  },
  {
   "cell_type": "code",
   "execution_count": 18,
   "id": "b302150d-c557-4dae-8506-701a643c4a63",
   "metadata": {},
   "outputs": [
    {
     "data": {
      "text/plain": [
       "2"
      ]
     },
     "execution_count": 18,
     "metadata": {},
     "output_type": "execute_result"
    }
   ],
   "source": [
    "next(g)"
   ]
  },
  {
   "cell_type": "code",
   "execution_count": 19,
   "id": "1ca02179-2de5-4150-992c-7f026a5d6333",
   "metadata": {},
   "outputs": [
    {
     "data": {
      "text/plain": [
       "[3, 4]"
      ]
     },
     "execution_count": 19,
     "metadata": {},
     "output_type": "execute_result"
    }
   ],
   "source": [
    "list(g)"
   ]
  },
  {
   "cell_type": "code",
   "execution_count": 20,
   "id": "9fa89a8a-ea7a-49c1-956c-2ae4d2dc81be",
   "metadata": {},
   "outputs": [
    {
     "data": {
      "text/plain": [
       "[1, 2, 3, 4]"
      ]
     },
     "execution_count": 20,
     "metadata": {},
     "output_type": "execute_result"
    }
   ],
   "source": [
    "list(gen_123())"
   ]
  },
  {
   "cell_type": "code",
   "execution_count": 21,
   "id": "8dbc876e-d4e3-4c04-91e1-2af449e56d83",
   "metadata": {},
   "outputs": [
    {
     "data": {
      "text/plain": [
       "10"
      ]
     },
     "execution_count": 21,
     "metadata": {},
     "output_type": "execute_result"
    }
   ],
   "source": [
    "sum(gen_123())"
   ]
  },
  {
   "cell_type": "code",
   "execution_count": 22,
   "id": "92bee20c-e897-46c4-8368-18e5b598c8c1",
   "metadata": {},
   "outputs": [],
   "source": [
    "def gen_AB():\n",
    "    print('start')\n",
    "    yield 'A'\n",
    "    print('continue')\n",
    "    yield 'B'\n",
    "    print('end')\n"
   ]
  },
  {
   "cell_type": "code",
   "execution_count": 25,
   "id": "1cb67731-039f-421f-83de-344f1c7aa971",
   "metadata": {},
   "outputs": [
    {
     "name": "stdout",
     "output_type": "stream",
     "text": [
      "start\n",
      "--> A\n",
      "continue\n",
      "--> B\n",
      "end\n"
     ]
    }
   ],
   "source": [
    "for c in gen_AB():\n",
    "    print(f\"--> {c}\")"
   ]
  },
  {
   "cell_type": "code",
   "execution_count": 30,
   "id": "e5b54e64-2401-4c74-bd69-0425142a6ea7",
   "metadata": {},
   "outputs": [],
   "source": [
    "g = gen_AB()"
   ]
  },
  {
   "cell_type": "code",
   "execution_count": 31,
   "id": "5a1cb750-b470-4286-94e4-9b78165f0ee2",
   "metadata": {},
   "outputs": [
    {
     "name": "stdout",
     "output_type": "stream",
     "text": [
      "start\n"
     ]
    },
    {
     "data": {
      "text/plain": [
       "'A'"
      ]
     },
     "execution_count": 31,
     "metadata": {},
     "output_type": "execute_result"
    }
   ],
   "source": [
    "next(g)"
   ]
  },
  {
   "cell_type": "code",
   "execution_count": 32,
   "id": "5c2aabcf-538e-44f2-a1ab-5d4479439934",
   "metadata": {},
   "outputs": [
    {
     "name": "stdout",
     "output_type": "stream",
     "text": [
      "continue\n"
     ]
    },
    {
     "data": {
      "text/plain": [
       "'B'"
      ]
     },
     "execution_count": 32,
     "metadata": {},
     "output_type": "execute_result"
    }
   ],
   "source": [
    "next(g)"
   ]
  },
  {
   "cell_type": "code",
   "execution_count": 33,
   "id": "0118d7eb-5be1-40e9-a02a-9f22842a05fd",
   "metadata": {},
   "outputs": [
    {
     "name": "stdout",
     "output_type": "stream",
     "text": [
      "end\n"
     ]
    },
    {
     "ename": "StopIteration",
     "evalue": "",
     "output_type": "error",
     "traceback": [
      "\u001b[0;31m---------------------------------------------------------------------------\u001b[0m",
      "\u001b[0;31mStopIteration\u001b[0m                             Traceback (most recent call last)",
      "Cell \u001b[0;32mIn[33], line 1\u001b[0m\n\u001b[0;32m----> 1\u001b[0m \u001b[38;5;28;43mnext\u001b[39;49m\u001b[43m(\u001b[49m\u001b[43mg\u001b[49m\u001b[43m)\u001b[49m\n",
      "\u001b[0;31mStopIteration\u001b[0m: "
     ]
    }
   ],
   "source": [
    "next(g)"
   ]
  },
  {
   "cell_type": "code",
   "execution_count": 23,
   "id": "7e8a5be1-00b5-4175-b7e6-97495f4baaf9",
   "metadata": {},
   "outputs": [],
   "source": [
    "e = enumerate(\"aBC\")"
   ]
  },
  {
   "cell_type": "code",
   "execution_count": 24,
   "id": "764d2330-b805-44a1-aa7f-24f27764051a",
   "metadata": {},
   "outputs": [
    {
     "data": {
      "text/plain": [
       "<enumerate at 0x106f1a020>"
      ]
     },
     "execution_count": 24,
     "metadata": {},
     "output_type": "execute_result"
    }
   ],
   "source": [
    "e"
   ]
  },
  {
   "cell_type": "code",
   "execution_count": 25,
   "id": "8353435e-2294-4c62-ad71-0e8a3ee6960f",
   "metadata": {},
   "outputs": [
    {
     "name": "stdout",
     "output_type": "stream",
     "text": [
      "(0, 'a')\n",
      "(1, 'B')\n",
      "(2, 'C')\n"
     ]
    }
   ],
   "source": [
    "for i in e:\n",
    "    print(i)"
   ]
  },
  {
   "cell_type": "code",
   "execution_count": 29,
   "id": "a806aee0-33eb-4efe-8c5c-ccc0387c8705",
   "metadata": {},
   "outputs": [
    {
     "data": {
      "text/plain": [
       "<enumerate at 0x106f1a020>"
      ]
     },
     "execution_count": 29,
     "metadata": {},
     "output_type": "execute_result"
    }
   ],
   "source": [
    "iter(e)"
   ]
  },
  {
   "cell_type": "code",
   "execution_count": 27,
   "id": "ee3c48e2-77ef-48c7-a4c7-022b9a1c0d13",
   "metadata": {},
   "outputs": [
    {
     "ename": "StopIteration",
     "evalue": "",
     "output_type": "error",
     "traceback": [
      "\u001b[0;31m---------------------------------------------------------------------------\u001b[0m",
      "\u001b[0;31mStopIteration\u001b[0m                             Traceback (most recent call last)",
      "Cell \u001b[0;32mIn[27], line 1\u001b[0m\n\u001b[0;32m----> 1\u001b[0m \u001b[38;5;28;43mnext\u001b[39;49m\u001b[43m(\u001b[49m\u001b[43mit\u001b[49m\u001b[43m)\u001b[49m\n",
      "\u001b[0;31mStopIteration\u001b[0m: "
     ]
    }
   ],
   "source": [
    "next(it)"
   ]
  },
  {
   "cell_type": "code",
   "execution_count": 39,
   "id": "869c9adc-9574-4f09-8aa1-803a5510aab6",
   "metadata": {},
   "outputs": [
    {
     "name": "stdout",
     "output_type": "stream",
     "text": [
      "<class 'list'>\n",
      "<class 'callable_iterator'>\n"
     ]
    }
   ],
   "source": [
    "import re\n",
    "RE = re.compile('\\w+')\n",
    "s = \"the old man and sea\"\n",
    "r1 = re.findall(RE, s)\n",
    "print(type(r1))\n",
    "r2 = re.finditer(RE, s)\n",
    "print(type(r2))"
   ]
  },
  {
   "cell_type": "code",
   "execution_count": 40,
   "id": "b8e329b7-897c-4281-8703-d6e17f3f9503",
   "metadata": {},
   "outputs": [
    {
     "name": "stdout",
     "output_type": "stream",
     "text": [
      "the\n",
      "old\n",
      "man\n",
      "and\n",
      "sea\n"
     ]
    }
   ],
   "source": [
    "for i in re.finditer(RE, s):\n",
    "    print(i.group())"
   ]
  },
  {
   "cell_type": "code",
   "execution_count": 46,
   "id": "dc090f82-9e3a-4361-bd81-cd05ae0eb9c2",
   "metadata": {},
   "outputs": [
    {
     "ename": "StopIteration",
     "evalue": "",
     "output_type": "error",
     "traceback": [
      "\u001b[0;31m---------------------------------------------------------------------------\u001b[0m",
      "\u001b[0;31mStopIteration\u001b[0m                             Traceback (most recent call last)",
      "Cell \u001b[0;32mIn[46], line 1\u001b[0m\n\u001b[0;32m----> 1\u001b[0m \u001b[38;5;28;43mnext\u001b[39;49m\u001b[43m(\u001b[49m\u001b[43mr2\u001b[49m\u001b[43m)\u001b[49m\n",
      "\u001b[0;31mStopIteration\u001b[0m: "
     ]
    }
   ],
   "source": [
    "next(r2)"
   ]
  },
  {
   "cell_type": "code",
   "execution_count": 47,
   "id": "edd7630a-ec39-4d2f-9b00-2e4386120851",
   "metadata": {},
   "outputs": [],
   "source": [
    "r2 = re.finditer(RE, s)"
   ]
  },
  {
   "cell_type": "code",
   "execution_count": 50,
   "id": "f00f1826-8b66-487f-bc58-a4605a9e591a",
   "metadata": {},
   "outputs": [
    {
     "data": {
      "text/plain": [
       "<re.Match object; span=(8, 11), match='man'>"
      ]
     },
     "execution_count": 50,
     "metadata": {},
     "output_type": "execute_result"
    }
   ],
   "source": [
    "next(r2)"
   ]
  },
  {
   "cell_type": "code",
   "execution_count": 51,
   "id": "19ef64a9-924a-45f1-a289-62e297ee6a24",
   "metadata": {},
   "outputs": [
    {
     "name": "stdout",
     "output_type": "stream",
     "text": [
      "and\n",
      "sea\n"
     ]
    }
   ],
   "source": [
    "for i in r2:\n",
    "    print(i.group())"
   ]
  },
  {
   "cell_type": "code",
   "execution_count": 52,
   "id": "d24ccfdb-89e6-4c83-aae9-c78b217b0926",
   "metadata": {},
   "outputs": [
    {
     "data": {
      "text/plain": [
       "<callable_iterator at 0x106ab9b10>"
      ]
     },
     "execution_count": 52,
     "metadata": {},
     "output_type": "execute_result"
    }
   ],
   "source": [
    "r2"
   ]
  },
  {
   "cell_type": "code",
   "execution_count": null,
   "id": "13892edf-7a34-489a-b87d-c36767cc88ef",
   "metadata": {},
   "outputs": [],
   "source": [
    "# class Sentence:\n",
    "#     def __init__(self, text):\n",
    "#         self.text = text\n",
    "#         self.words = RE_WORD.findall(text)\n",
    "\n",
    "#     def __iter__(self):\n",
    "#         for word in self.words:\n",
    "#             yield word\n",
    "#         return   # 별의미 없음\n",
    "\n",
    "#     def __repr__(self):\n",
    "#         return f\"Senetence ({reprlib.repr(self.text)})\""
   ]
  },
  {
   "cell_type": "code",
   "execution_count": 59,
   "id": "724ac4fe-6fc7-479a-b6e2-c633989febe0",
   "metadata": {},
   "outputs": [],
   "source": [
    "import re\n",
    "import reprlib\n",
    "\n",
    "RE_WORD = re.compile('\\w+')\n",
    "\n",
    "class Sentence:\n",
    "    def __init__(self, text):\n",
    "        self.text = text\n",
    "        self.words = RE_WORD.findall(text)\n",
    "\n",
    "    def __iter__(self):\n",
    "        for match in RE_WORD.finditer(self.text):\n",
    "            print(\"start\")\n",
    "            yield match.group()\n",
    "            print(\"end\")\n",
    "        \n",
    "\n",
    "    def __repr__(self):\n",
    "        return f\"Senetence ({reprlib.repr(self.text)})\""
   ]
  },
  {
   "cell_type": "code",
   "execution_count": 60,
   "id": "f3150921-f265-48b2-8195-f5ca02b3d7ef",
   "metadata": {},
   "outputs": [],
   "source": [
    "s = Sentence(\"the old man and sea\")"
   ]
  },
  {
   "cell_type": "code",
   "execution_count": 61,
   "id": "adba5023-d8d4-4be8-878e-be3d60605ecc",
   "metadata": {},
   "outputs": [
    {
     "name": "stdout",
     "output_type": "stream",
     "text": [
      "start\n",
      "for start\n",
      "the\n",
      "for end\n",
      "end\n",
      "start\n",
      "for start\n",
      "old\n",
      "for end\n",
      "end\n",
      "start\n",
      "for start\n",
      "man\n",
      "for end\n",
      "end\n",
      "start\n",
      "for start\n",
      "and\n",
      "for end\n",
      "end\n",
      "start\n",
      "for start\n",
      "sea\n",
      "for end\n",
      "end\n"
     ]
    }
   ],
   "source": [
    "for word in s:   # iter(s)\n",
    "    print(\"for start\")\n",
    "    print(word)\n",
    "    print(\"for end\")"
   ]
  },
  {
   "cell_type": "code",
   "execution_count": 55,
   "id": "0d24509c-2b54-4592-b949-88c8f33af716",
   "metadata": {},
   "outputs": [
    {
     "data": {
      "text/plain": [
       "'the'"
      ]
     },
     "execution_count": 55,
     "metadata": {},
     "output_type": "execute_result"
    }
   ],
   "source": [
    "next(iter(s))"
   ]
  },
  {
   "cell_type": "code",
   "execution_count": 56,
   "id": "5132ed93-d85c-4a03-8978-3d184b74d308",
   "metadata": {},
   "outputs": [
    {
     "data": {
      "text/plain": [
       "'the'"
      ]
     },
     "execution_count": 56,
     "metadata": {},
     "output_type": "execute_result"
    }
   ],
   "source": [
    "next(iter(s))"
   ]
  },
  {
   "cell_type": "code",
   "execution_count": 63,
   "id": "41bcd1b3-afcb-461e-93b7-50bc568f0494",
   "metadata": {},
   "outputs": [],
   "source": [
    "def gen_123():\n",
    "    print(\"start\")\n",
    "    yield 1\n",
    "    print(\"continue1\")\n",
    "    yield 2\n",
    "    print(\"continue2\")\n",
    "    yield 3\n",
    "    print(\"continue3\")\n",
    "    yield 4\n",
    "    print(\"end\")"
   ]
  },
  {
   "cell_type": "code",
   "execution_count": 64,
   "id": "ec36c28d-0cb3-4308-8082-0173f0c6b668",
   "metadata": {},
   "outputs": [
    {
     "name": "stdout",
     "output_type": "stream",
     "text": [
      "start\n",
      "continue1\n",
      "continue2\n",
      "continue3\n",
      "end\n"
     ]
    }
   ],
   "source": [
    "result1 = [x + 1000 for x in gen_123()] # list comprehension"
   ]
  },
  {
   "cell_type": "code",
   "execution_count": 65,
   "id": "c25c15e9-9ec4-4bd7-8eac-74809290e8c2",
   "metadata": {},
   "outputs": [
    {
     "name": "stdout",
     "output_type": "stream",
     "text": [
      "<class 'list'>\n"
     ]
    }
   ],
   "source": [
    "print(type(result1))"
   ]
  },
  {
   "cell_type": "code",
   "execution_count": 66,
   "id": "12a87369-57f1-4807-95cd-c652b8956ee1",
   "metadata": {},
   "outputs": [
    {
     "name": "stdout",
     "output_type": "stream",
     "text": [
      "----> 1001\n",
      "----> 1002\n",
      "----> 1003\n",
      "----> 1004\n"
     ]
    }
   ],
   "source": [
    "for i in result1:\n",
    "    print(f\"----> {i}\")"
   ]
  },
  {
   "cell_type": "code",
   "execution_count": 67,
   "id": "1da9a1b3-9442-4b72-975f-4c4e0a43095a",
   "metadata": {},
   "outputs": [],
   "source": [
    "result2 = (x + 1000 for x in gen_123()) # generator expressions"
   ]
  },
  {
   "cell_type": "code",
   "execution_count": 68,
   "id": "5a327fdf-cbf7-4fac-bacc-a31918571df7",
   "metadata": {},
   "outputs": [
    {
     "name": "stdout",
     "output_type": "stream",
     "text": [
      "<class 'generator'>\n"
     ]
    }
   ],
   "source": [
    "print(type(result2))"
   ]
  },
  {
   "cell_type": "code",
   "execution_count": 69,
   "id": "a6c49030-51a6-420a-99b8-ee3f233983db",
   "metadata": {},
   "outputs": [
    {
     "name": "stdout",
     "output_type": "stream",
     "text": [
      "start\n",
      "----> 1001\n",
      "continue1\n",
      "----> 1002\n",
      "continue2\n",
      "----> 1003\n",
      "continue3\n",
      "----> 1004\n",
      "end\n"
     ]
    }
   ],
   "source": [
    "for i in result2:\n",
    "    print(f\"----> {i}\")"
   ]
  },
  {
   "cell_type": "code",
   "execution_count": 70,
   "id": "2c27804e-c677-45db-98fe-67cbfd64e18c",
   "metadata": {},
   "outputs": [],
   "source": [
    "import re\n",
    "import reprlib\n",
    "\n",
    "RE_WORD = re.compile('\\w+')\n",
    "\n",
    "class Sentence:\n",
    "    def __init__(self, text):\n",
    "        self.text = text\n",
    "        self.words = RE_WORD.findall(text)\n",
    "\n",
    "    def __iter__(self):\n",
    "        return (match.group() for match in RE_WORD.finditer(self.text))\n",
    "        \n",
    "    def __repr__(self):\n",
    "        return f\"Senetence ({reprlib.repr(self.text)})\""
   ]
  },
  {
   "cell_type": "code",
   "execution_count": 71,
   "id": "94b4a20c-a4d5-44e8-b5a4-ef2214a49304",
   "metadata": {},
   "outputs": [],
   "source": [
    "s = Sentence(\"the old man and sea\")"
   ]
  },
  {
   "cell_type": "code",
   "execution_count": 72,
   "id": "974623ce-6f6f-4696-b4e3-4844a161b205",
   "metadata": {},
   "outputs": [
    {
     "name": "stdout",
     "output_type": "stream",
     "text": [
      "the\n",
      "old\n",
      "man\n",
      "and\n",
      "sea\n"
     ]
    }
   ],
   "source": [
    "for word in s:\n",
    "    print(word)"
   ]
  },
  {
   "cell_type": "code",
   "execution_count": 15,
   "id": "65f14319-d0a2-4b2c-93e9-9eba9a2475b9",
   "metadata": {},
   "outputs": [],
   "source": [
    "def arithmetic_pregression_gen(begin, step, end = None):\n",
    "    pass"
   ]
  },
  {
   "cell_type": "code",
   "execution_count": 94,
   "id": "9246d36f-8ac8-4d79-9998-5e12e9c6ae6c",
   "metadata": {},
   "outputs": [],
   "source": [
    "import itertools\n",
    "gen = itertools.count(1, 0.5)"
   ]
  },
  {
   "cell_type": "code",
   "execution_count": 95,
   "id": "5f542e00-9e97-4618-91e6-97b1410fdabc",
   "metadata": {},
   "outputs": [
    {
     "data": {
      "text/plain": [
       "1"
      ]
     },
     "execution_count": 95,
     "metadata": {},
     "output_type": "execute_result"
    }
   ],
   "source": [
    "next(gen)"
   ]
  },
  {
   "cell_type": "code",
   "execution_count": 96,
   "id": "f709e1ee-bca5-4e6e-96b6-1e2309b50e3c",
   "metadata": {},
   "outputs": [
    {
     "data": {
      "text/plain": [
       "1.5"
      ]
     },
     "execution_count": 96,
     "metadata": {},
     "output_type": "execute_result"
    }
   ],
   "source": [
    "next(gen)"
   ]
  },
  {
   "cell_type": "code",
   "execution_count": 97,
   "id": "31c72413-a030-49f8-8e32-caec33213083",
   "metadata": {},
   "outputs": [
    {
     "data": {
      "text/plain": [
       "2.0"
      ]
     },
     "execution_count": 97,
     "metadata": {},
     "output_type": "execute_result"
    }
   ],
   "source": [
    "next(gen)"
   ]
  },
  {
   "cell_type": "code",
   "execution_count": 132,
   "id": "21631efb-9f46-4a91-9e03-a19281c51c13",
   "metadata": {},
   "outputs": [],
   "source": [
    "gen = itertools.takewhile(lambda x: x < 3, itertools.count(1, 0.5))"
   ]
  },
  {
   "cell_type": "code",
   "execution_count": 133,
   "id": "8e02387f-cf69-4a3b-a780-9f97831c29ee",
   "metadata": {},
   "outputs": [
    {
     "data": {
      "text/plain": [
       "[1, 1.5, 2.0, 2.5]"
      ]
     },
     "execution_count": 133,
     "metadata": {},
     "output_type": "execute_result"
    }
   ],
   "source": [
    "list(gen)"
   ]
  },
  {
   "cell_type": "code",
   "execution_count": 137,
   "id": "77355f51-a27f-4630-bb43-351db1a48382",
   "metadata": {},
   "outputs": [
    {
     "ename": "StopIteration",
     "evalue": "",
     "output_type": "error",
     "traceback": [
      "\u001b[0;31m---------------------------------------------------------------------------\u001b[0m",
      "\u001b[0;31mStopIteration\u001b[0m                             Traceback (most recent call last)",
      "Cell \u001b[0;32mIn[137], line 1\u001b[0m\n\u001b[0;32m----> 1\u001b[0m \u001b[38;5;28;43mnext\u001b[39;49m\u001b[43m(\u001b[49m\u001b[43mgen\u001b[49m\u001b[43m)\u001b[49m\n",
      "\u001b[0;31mStopIteration\u001b[0m: "
     ]
    }
   ],
   "source": [
    "next(gen)"
   ]
  },
  {
   "cell_type": "code",
   "execution_count": 138,
   "id": "1d7cae93-bdec-419d-a215-d09002ee86a4",
   "metadata": {},
   "outputs": [],
   "source": [
    "it = iter(gen)"
   ]
  },
  {
   "cell_type": "code",
   "execution_count": 139,
   "id": "e5d517fb-ddd7-4a8c-9194-f4e294104859",
   "metadata": {},
   "outputs": [
    {
     "ename": "StopIteration",
     "evalue": "",
     "output_type": "error",
     "traceback": [
      "\u001b[0;31m---------------------------------------------------------------------------\u001b[0m",
      "\u001b[0;31mStopIteration\u001b[0m                             Traceback (most recent call last)",
      "Cell \u001b[0;32mIn[139], line 1\u001b[0m\n\u001b[0;32m----> 1\u001b[0m \u001b[38;5;28;43mnext\u001b[39;49m\u001b[43m(\u001b[49m\u001b[43mit\u001b[49m\u001b[43m)\u001b[49m\n",
      "\u001b[0;31mStopIteration\u001b[0m: "
     ]
    }
   ],
   "source": [
    "next(it)"
   ]
  },
  {
   "cell_type": "code",
   "execution_count": null,
   "id": "f6d01c7f-c6ad-4b93-9982-82421cc72d9f",
   "metadata": {},
   "outputs": [],
   "source": []
  },
  {
   "cell_type": "code",
   "execution_count": 119,
   "id": "a5aae717-9ac0-45c6-b2a4-1d4723fbabf3",
   "metadata": {},
   "outputs": [],
   "source": [
    "def chain(*iterables):\n",
    "    for it in iterables:\n",
    "        for i in it:\n",
    "            yield i"
   ]
  },
  {
   "cell_type": "code",
   "execution_count": 120,
   "id": "5ab67f21-ed86-4df7-b197-e60a8f091552",
   "metadata": {},
   "outputs": [],
   "source": [
    "s = \"ABC\"\n",
    "t = tuple(range(4))"
   ]
  },
  {
   "cell_type": "code",
   "execution_count": 121,
   "id": "4a2f109c-01c9-4fd5-af79-4caf34187382",
   "metadata": {},
   "outputs": [
    {
     "data": {
      "text/plain": [
       "<generator object chain at 0x1074e8200>"
      ]
     },
     "execution_count": 121,
     "metadata": {},
     "output_type": "execute_result"
    }
   ],
   "source": [
    "chain(s, t)"
   ]
  },
  {
   "cell_type": "code",
   "execution_count": 122,
   "id": "a43b1925-28da-46cb-9b07-40bd7a63f13b",
   "metadata": {},
   "outputs": [
    {
     "data": {
      "text/plain": [
       "['A', 'B', 'C', 0, 1, 2, 3]"
      ]
     },
     "execution_count": 122,
     "metadata": {},
     "output_type": "execute_result"
    }
   ],
   "source": [
    "list(chain(s, t))"
   ]
  },
  {
   "cell_type": "code",
   "execution_count": 123,
   "id": "5c4cf5e6-7e72-41ac-8186-79f7447e4637",
   "metadata": {},
   "outputs": [],
   "source": [
    "def chain(*iterables):\n",
    "    for it in iterables:\n",
    "        yield from it"
   ]
  },
  {
   "cell_type": "code",
   "execution_count": 124,
   "id": "4357e68c-507b-44b6-b49e-c4b7ca0b1b7e",
   "metadata": {},
   "outputs": [],
   "source": [
    "s = \"ABC\"\n",
    "t = tuple(range(4))"
   ]
  },
  {
   "cell_type": "code",
   "execution_count": 125,
   "id": "f95923b4-7bf2-469c-9a5e-bd346a13397d",
   "metadata": {},
   "outputs": [
    {
     "data": {
      "text/plain": [
       "<generator object chain at 0x10742b440>"
      ]
     },
     "execution_count": 125,
     "metadata": {},
     "output_type": "execute_result"
    }
   ],
   "source": [
    "chain(s, t)"
   ]
  },
  {
   "cell_type": "code",
   "execution_count": 126,
   "id": "ff63f586-2996-4d2b-8f1a-0ccdc0e67285",
   "metadata": {},
   "outputs": [
    {
     "data": {
      "text/plain": [
       "['A', 'B', 'C', 0, 1, 2, 3]"
      ]
     },
     "execution_count": 126,
     "metadata": {},
     "output_type": "execute_result"
    }
   ],
   "source": [
    "list(chain(s, t))"
   ]
  },
  {
   "cell_type": "code",
   "execution_count": 114,
   "id": "651ac2cb-07fc-4812-856d-50e4f9caf945",
   "metadata": {},
   "outputs": [],
   "source": [
    "async def chain(*iterables):\n",
    "    for it in iterables:\n",
    "        await it"
   ]
  },
  {
   "cell_type": "code",
   "execution_count": 115,
   "id": "331e175a-0322-461e-a516-868b9136fb35",
   "metadata": {},
   "outputs": [],
   "source": [
    "s = \"ABC\"\n",
    "t = tuple(range(4))"
   ]
  },
  {
   "cell_type": "code",
   "execution_count": 116,
   "id": "83864455-82a4-42eb-abd6-a4cc065f9df9",
   "metadata": {},
   "outputs": [
    {
     "data": {
      "text/plain": [
       "<coroutine object chain at 0x107429b10>"
      ]
     },
     "execution_count": 116,
     "metadata": {},
     "output_type": "execute_result"
    }
   ],
   "source": [
    "chain(s, t)"
   ]
  },
  {
   "cell_type": "code",
   "execution_count": null,
   "id": "9ef9237e-a591-4bdb-99ef-10fc12055265",
   "metadata": {},
   "outputs": [],
   "source": []
  }
 ],
 "metadata": {
  "kernelspec": {
   "display_name": "python-class",
   "language": "python",
   "name": "python3"
  },
  "language_info": {
   "codemirror_mode": {
    "name": "ipython",
    "version": 3
   },
   "file_extension": ".py",
   "mimetype": "text/x-python",
   "name": "python",
   "nbconvert_exporter": "python",
   "pygments_lexer": "ipython3",
   "version": "3.11.8"
  }
 },
 "nbformat": 4,
 "nbformat_minor": 5
}
