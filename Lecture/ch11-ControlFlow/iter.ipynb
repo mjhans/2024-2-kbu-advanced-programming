{
 "cells": [
  {
   "cell_type": "markdown",
   "id": "c82ef0f4",
   "metadata": {},
   "source": [
    "# Iterable과 Iterator"
   ]
  },
  {
   "cell_type": "code",
   "execution_count": 6,
   "id": "0062649d",
   "metadata": {},
   "outputs": [
    {
     "name": "stdout",
     "output_type": "stream",
     "text": [
      "type(l_1) = <class 'list'>, type(l_2) = <class 'range'>\n",
      "l_1[0] = 1, l_2[0] = 1\n"
     ]
    }
   ],
   "source": [
    "# list와 range의 차이\n",
    "l_1 = [1,2,3,4,5,6,7,8,9,10]\n",
    "l_2 = range(1,11)\n",
    "\n",
    "print(f\"{type(l_1) = }, {type(l_2) = }\")\n",
    "# 둘다 인덱스로 접근 가능\n",
    "print(f\"{l_1[0] = }, {l_2[0] = }\") \n",
    "l_1[0] = 100\n",
    "\n",
    "# range는 수정 불가\n",
    "#l_2[0] = 100"
   ]
  },
  {
   "cell_type": "markdown",
   "id": "f525e7f4",
   "metadata": {},
   "source": [
    "### Sentence 클래스\n",
    "\n",
    "- 내가 만드는 iterable(반복형)"
   ]
  },
  {
   "cell_type": "code",
   "execution_count": 32,
   "id": "d9440e3b-3551-4ba8-a88c-5a66126ec87c",
   "metadata": {},
   "outputs": [],
   "source": [
    "import re\n",
    "import reprlib\n",
    "\n",
    "RE_WORD = re.compile('\\w+')\n",
    "\n",
    "class Sentence:\n",
    "    def __init__(self, text):\n",
    "        self.text = text\n",
    "        self.word = RE_WORD.findall(text)\n",
    "\n",
    "    def __getitem__(self, index):\n",
    "        return self.word[index]\n",
    "\n",
    "    def __len__(self):\n",
    "        return len(self.word)\n",
    "\n",
    "    def __repr__(self):\n",
    "        return f\"Senetence ({reprlib.repr(self.text)})\" # reprlib.repr 30글자 이상은 축약해서 보여준다"
   ]
  },
  {
   "cell_type": "code",
   "execution_count": 33,
   "id": "330e8d2e-f6f4-4174-a8b4-9c9a57e99c72",
   "metadata": {},
   "outputs": [],
   "source": [
    "s = Sentence(\"the old man and sea\")"
   ]
  },
  {
   "cell_type": "code",
   "execution_count": 35,
   "id": "d59d8652-eb1f-4056-9c90-4ac80bac243a",
   "metadata": {},
   "outputs": [
    {
     "name": "stdout",
     "output_type": "stream",
     "text": [
      "the\n",
      "old\n",
      "man\n",
      "and\n",
      "sea\n",
      "the\n",
      "old\n",
      "man\n",
      "and\n",
      "sea\n"
     ]
    }
   ],
   "source": [
    "for word in s:\n",
    "    print(word)"
   ]
  },
  {
   "cell_type": "code",
   "execution_count": 11,
   "id": "0bdd29b0",
   "metadata": {},
   "outputs": [
    {
     "data": {
      "text/plain": [
       "'the'"
      ]
     },
     "execution_count": 11,
     "metadata": {},
     "output_type": "execute_result"
    }
   ],
   "source": [
    "s[0]"
   ]
  },
  {
   "cell_type": "code",
   "execution_count": 12,
   "id": "00e870e8",
   "metadata": {},
   "outputs": [
    {
     "data": {
      "text/plain": [
       "['the', 'old', 'man', 'and', 'sea']"
      ]
     },
     "execution_count": 12,
     "metadata": {},
     "output_type": "execute_result"
    }
   ],
   "source": [
    "list(s)"
   ]
  },
  {
   "cell_type": "markdown",
   "id": "97dd96db",
   "metadata": {},
   "source": [
    "- Iterator(반복자)"
   ]
  },
  {
   "cell_type": "code",
   "execution_count": 13,
   "id": "f966839e-d44e-41cc-8f0e-802f1f76f48a",
   "metadata": {},
   "outputs": [
    {
     "name": "stdout",
     "output_type": "stream",
     "text": [
      "type(it) = <class 'iterator'>\n",
      "type(s) = <class '__main__.Sentence'>\n"
     ]
    }
   ],
   "source": [
    "it = iter(s) # __iter__ 호출하면서 iterator 객체 반환\n",
    "print(f\"{type(it) = }\")\n",
    "print(f\"{type(s) = }\")"
   ]
  },
  {
   "cell_type": "code",
   "execution_count": 36,
   "id": "85e0e1f9-526e-47b8-8e1c-6e8ada4e4080",
   "metadata": {},
   "outputs": [
    {
     "name": "stdout",
     "output_type": "stream",
     "text": [
      "A\n",
      "B\n",
      "C\n"
     ]
    }
   ],
   "source": [
    "s = 'ABC'\n",
    "for char in s: # for in문에서는 내부적으로 iter()로 s.__iter__() 호출\n",
    "    print(char)"
   ]
  },
  {
   "cell_type": "code",
   "execution_count": 15,
   "id": "2cee018b-f3b5-4f4e-9a86-16ea3afdb122",
   "metadata": {},
   "outputs": [
    {
     "name": "stdout",
     "output_type": "stream",
     "text": [
      "A\n",
      "B\n",
      "C\n"
     ]
    }
   ],
   "source": [
    "s = 'ABC'\n",
    "it = iter(s)\n",
    "while True:\n",
    "    try:\n",
    "        print(next(it))\n",
    "    except StopIteration:\n",
    "        del it\n",
    "        break\n"
   ]
  },
  {
   "cell_type": "code",
   "execution_count": 16,
   "id": "a73db6d0",
   "metadata": {},
   "outputs": [
    {
     "name": "stdout",
     "output_type": "stream",
     "text": [
      "A\n",
      "B\n",
      "C\n"
     ]
    }
   ],
   "source": [
    "for i in iter(s):\n",
    "    print(i)"
   ]
  },
  {
   "cell_type": "code",
   "execution_count": 34,
   "id": "e3552287-0f47-4127-8756-1ce76a54f29c",
   "metadata": {},
   "outputs": [],
   "source": [
    "new_s = Sentence(\"the old man and sea\")\n",
    "it = iter(new_s)"
   ]
  },
  {
   "cell_type": "code",
   "execution_count": 35,
   "id": "447dd695-3ad7-47df-99ca-4bea98275973",
   "metadata": {},
   "outputs": [
    {
     "data": {
      "text/plain": [
       "<iterator at 0x10a438b50>"
      ]
     },
     "execution_count": 35,
     "metadata": {},
     "output_type": "execute_result"
    }
   ],
   "source": [
    "it"
   ]
  },
  {
   "cell_type": "code",
   "execution_count": 36,
   "id": "fde88ea8-f53b-4f09-87bd-088cfacea53f",
   "metadata": {},
   "outputs": [
    {
     "data": {
      "text/plain": [
       "'the'"
      ]
     },
     "execution_count": 36,
     "metadata": {},
     "output_type": "execute_result"
    }
   ],
   "source": [
    "next(it)"
   ]
  },
  {
   "cell_type": "code",
   "execution_count": 37,
   "id": "82728941-96b8-4f1e-89e5-b9ed6ea4dc0b",
   "metadata": {},
   "outputs": [
    {
     "data": {
      "text/plain": [
       "'old'"
      ]
     },
     "execution_count": 37,
     "metadata": {},
     "output_type": "execute_result"
    }
   ],
   "source": [
    "next(it)"
   ]
  },
  {
   "cell_type": "code",
   "execution_count": 38,
   "id": "cb95d38f-4a44-4e20-94ba-edb46c330b95",
   "metadata": {},
   "outputs": [
    {
     "data": {
      "text/plain": [
       "'man'"
      ]
     },
     "execution_count": 38,
     "metadata": {},
     "output_type": "execute_result"
    }
   ],
   "source": [
    "next(it)"
   ]
  },
  {
   "cell_type": "code",
   "execution_count": 39,
   "id": "2b684f85-3dae-4e97-a72c-f2d9be0991f4",
   "metadata": {},
   "outputs": [
    {
     "data": {
      "text/plain": [
       "'and'"
      ]
     },
     "execution_count": 39,
     "metadata": {},
     "output_type": "execute_result"
    }
   ],
   "source": [
    "next(it)"
   ]
  },
  {
   "cell_type": "code",
   "execution_count": 40,
   "id": "94b6a84c-f295-4589-8e16-5cbdfa73dae6",
   "metadata": {},
   "outputs": [
    {
     "data": {
      "text/plain": [
       "'sea'"
      ]
     },
     "execution_count": 40,
     "metadata": {},
     "output_type": "execute_result"
    }
   ],
   "source": [
    "next(it)"
   ]
  },
  {
   "cell_type": "code",
   "execution_count": 41,
   "id": "26943ad0-a80f-44aa-bc9d-df7537c896c9",
   "metadata": {},
   "outputs": [
    {
     "ename": "StopIteration",
     "evalue": "",
     "output_type": "error",
     "traceback": [
      "\u001b[0;31m---------------------------------------------------------------------------\u001b[0m",
      "\u001b[0;31mStopIteration\u001b[0m                             Traceback (most recent call last)",
      "Cell \u001b[0;32mIn[41], line 1\u001b[0m\n\u001b[0;32m----> 1\u001b[0m \u001b[38;5;28;43mnext\u001b[39;49m\u001b[43m(\u001b[49m\u001b[43mit\u001b[49m\u001b[43m)\u001b[49m\n",
      "\u001b[0;31mStopIteration\u001b[0m: "
     ]
    }
   ],
   "source": [
    "next(it)"
   ]
  },
  {
   "cell_type": "code",
   "execution_count": 42,
   "id": "6a92b474-2835-4a22-9fee-30032fbb0491",
   "metadata": {},
   "outputs": [],
   "source": [
    "it2 = iter(new_s)"
   ]
  },
  {
   "cell_type": "code",
   "execution_count": 43,
   "id": "a11a40cf-16fb-4f92-b4af-1850879218ba",
   "metadata": {},
   "outputs": [
    {
     "data": {
      "text/plain": [
       "<iterator at 0x10a439510>"
      ]
     },
     "execution_count": 43,
     "metadata": {},
     "output_type": "execute_result"
    }
   ],
   "source": [
    "it2"
   ]
  },
  {
   "cell_type": "code",
   "execution_count": 44,
   "id": "426a9f06-dfa0-4978-be43-bf6118feee4a",
   "metadata": {},
   "outputs": [
    {
     "data": {
      "text/plain": [
       "'the'"
      ]
     },
     "execution_count": 44,
     "metadata": {},
     "output_type": "execute_result"
    }
   ],
   "source": [
    "next(it2)"
   ]
  },
  {
   "cell_type": "code",
   "execution_count": 45,
   "id": "b2a57d94-9965-4209-a64d-4c239b88bc75",
   "metadata": {},
   "outputs": [
    {
     "data": {
      "text/plain": [
       "[]"
      ]
     },
     "execution_count": 45,
     "metadata": {},
     "output_type": "execute_result"
    }
   ],
   "source": [
    "# iterator 객체는 한번만 소비 가능하기 때문에 모두 소비하면 빈 리스트가 나온다\n",
    "list(it)"
   ]
  },
  {
   "cell_type": "code",
   "execution_count": 46,
   "id": "e6a529ec-c135-4212-828f-5fb2c97e6980",
   "metadata": {},
   "outputs": [
    {
     "data": {
      "text/plain": [
       "['old', 'man', 'and', 'sea']"
      ]
     },
     "execution_count": 46,
     "metadata": {},
     "output_type": "execute_result"
    }
   ],
   "source": [
    "list(it2)"
   ]
  },
  {
   "cell_type": "code",
   "execution_count": 47,
   "id": "eeee96c1-ab63-4c97-ac6f-a71400e420da",
   "metadata": {},
   "outputs": [
    {
     "data": {
      "text/plain": [
       "['the', 'old', 'man', 'and', 'sea']"
      ]
     },
     "execution_count": 47,
     "metadata": {},
     "output_type": "execute_result"
    }
   ],
   "source": [
    "list(iter(new_s)) # 새로운 iterator 객체 생성하고 리스트 생성"
   ]
  },
  {
   "cell_type": "markdown",
   "id": "5c769cfd",
   "metadata": {},
   "source": [
    "### Sentence V2\n",
    "\n",
    "- iterator와 iterable을 분리"
   ]
  },
  {
   "cell_type": "code",
   "execution_count": 21,
   "id": "2f5b902e-fa7e-498f-8739-6d9f9785b96e",
   "metadata": {},
   "outputs": [],
   "source": [
    "import re\n",
    "import reprlib\n",
    "\n",
    "RE_WORD = re.compile('\\w+')\n",
    "\n",
    "class Sentence:\n",
    "    def __init__(self, text):\n",
    "        self.text = text\n",
    "        self.words = RE_WORD.findall(text) \n",
    "\n",
    "    def __iter__(self):\n",
    "        return SenetenceIterator(self.words) # iterator 객체 반환\n",
    "\n",
    "    def __repr__(self):\n",
    "        return f\"Senetence ({reprlib.repr(self.text)})\"\n",
    "\n",
    "class SenetenceIterator:\n",
    "    def __init__(self, words):\n",
    "        self.words = words\n",
    "        self.index = 0\n",
    "\n",
    "    def __next__(self):\n",
    "        try:\n",
    "            word = self.words[self.index]\n",
    "        except IndexError:\n",
    "            raise StopIterator()\n",
    "        self.index += 1\n",
    "        return word\n",
    "\n",
    "    def __iter__(self):\n",
    "        return self\n",
    "\n",
    "\n",
    "    "
   ]
  },
  {
   "cell_type": "code",
   "execution_count": 24,
   "id": "9b03553d-6a64-4443-9954-9aa16e9f98d6",
   "metadata": {},
   "outputs": [
    {
     "name": "stdout",
     "output_type": "stream",
     "text": [
      "type(s) = <class '__main__.Sentence'>\n"
     ]
    }
   ],
   "source": [
    "s = Sentence(\"the old man and sea\") # Sentence iterable 생성\n",
    "print(f\"{type(s) = }\")"
   ]
  },
  {
   "cell_type": "code",
   "execution_count": 26,
   "id": "73fed58c-9f2f-4d28-a9b9-e8cef95085d9",
   "metadata": {},
   "outputs": [
    {
     "name": "stdout",
     "output_type": "stream",
     "text": [
      "type(s_it) = <class '__main__.SenetenceIterator'>\n"
     ]
    }
   ],
   "source": [
    "s_it = iter(s)\n",
    "print(f\"{type(s_it) = }\")"
   ]
  },
  {
   "cell_type": "code",
   "execution_count": 29,
   "id": "f8008047-0051-4b89-a59c-d869d78aa2b0",
   "metadata": {},
   "outputs": [
    {
     "data": {
      "text/plain": [
       "4603868496"
      ]
     },
     "execution_count": 29,
     "metadata": {},
     "output_type": "execute_result"
    }
   ],
   "source": [
    "id(iter(s))"
   ]
  },
  {
   "cell_type": "code",
   "execution_count": 30,
   "id": "25ae2c6e-4d6e-4483-8c10-ff7a0c855b9c",
   "metadata": {},
   "outputs": [
    {
     "data": {
      "text/plain": [
       "4603685776"
      ]
     },
     "execution_count": 30,
     "metadata": {},
     "output_type": "execute_result"
    }
   ],
   "source": [
    "id(iter(s))"
   ]
  },
  {
   "cell_type": "code",
   "execution_count": 31,
   "id": "63dc4721-1964-4b6d-8846-bc44b7e79d15",
   "metadata": {},
   "outputs": [
    {
     "data": {
      "text/plain": [
       "4603689168"
      ]
     },
     "execution_count": 31,
     "metadata": {},
     "output_type": "execute_result"
    }
   ],
   "source": [
    "id(iter(s))"
   ]
  },
  {
   "cell_type": "code",
   "execution_count": 43,
   "id": "3bf1880d-1b67-49d9-9552-7a753c3e700e",
   "metadata": {},
   "outputs": [],
   "source": [
    "import re\n",
    "import reprlib\n",
    "\n",
    "RE_WORD = re.compile('\\w+')\n",
    "\n",
    "class BadSentence:\n",
    "    def __init__(self, text):\n",
    "        self.text = text\n",
    "        self.words = RE_WORD.findall(text)\n",
    "        self.index = 0\n",
    "\n",
    "    def __iter__(self):\n",
    "        return self\n",
    "\n",
    "    def __next__(self):\n",
    "        try:\n",
    "            word = self.words[self.index]\n",
    "        except IndexError as e:\n",
    "            raise StopIteration(e)\n",
    "        self.index += 1\n",
    "        return word\n",
    "\n",
    "    def __repr__(self):\n",
    "        return f\"Senetence ({reprlib.repr(self.text)})\""
   ]
  },
  {
   "cell_type": "code",
   "execution_count": 44,
   "id": "40670350-2306-478c-9b14-42d5b32d797e",
   "metadata": {},
   "outputs": [],
   "source": [
    "bad_s = BadSentence(\"the old man and sea\")"
   ]
  },
  {
   "cell_type": "code",
   "execution_count": 45,
   "id": "43224062",
   "metadata": {},
   "outputs": [
    {
     "name": "stdout",
     "output_type": "stream",
     "text": [
      "the\n",
      "old\n",
      "man\n",
      "and\n",
      "sea\n"
     ]
    }
   ],
   "source": [
    "for word in bad_s:\n",
    "    print(word)"
   ]
  },
  {
   "cell_type": "code",
   "execution_count": 50,
   "id": "af8c908b",
   "metadata": {},
   "outputs": [],
   "source": [
    "bad_s = BadSentence(\"the old man and sea\")"
   ]
  },
  {
   "cell_type": "code",
   "execution_count": 51,
   "id": "febf73b1-2790-4961-9e17-0e773fa94f99",
   "metadata": {},
   "outputs": [],
   "source": [
    "it1 = iter(bad_s)"
   ]
  },
  {
   "cell_type": "code",
   "execution_count": 52,
   "id": "b3618adb-c8bc-4a7a-a1b1-1c395ebc0313",
   "metadata": {},
   "outputs": [],
   "source": [
    "it2 = iter(bad_s)"
   ]
  },
  {
   "cell_type": "code",
   "execution_count": 53,
   "id": "e3b24a48-889b-4df6-a24e-108afcfc4c5f",
   "metadata": {},
   "outputs": [
    {
     "data": {
      "text/plain": [
       "'the'"
      ]
     },
     "execution_count": 53,
     "metadata": {},
     "output_type": "execute_result"
    }
   ],
   "source": [
    "next(it1)"
   ]
  },
  {
   "cell_type": "code",
   "execution_count": 54,
   "id": "36228542-9ad8-4b86-bd1c-4b9863ce8e1f",
   "metadata": {},
   "outputs": [
    {
     "data": {
      "text/plain": [
       "'old'"
      ]
     },
     "execution_count": 54,
     "metadata": {},
     "output_type": "execute_result"
    }
   ],
   "source": [
    "next(it2)"
   ]
  },
  {
   "cell_type": "code",
   "execution_count": 64,
   "id": "e81d9381-5f09-4f6f-93a3-11244f22c52a",
   "metadata": {},
   "outputs": [
    {
     "data": {
      "text/plain": [
       "4473864976"
      ]
     },
     "execution_count": 64,
     "metadata": {},
     "output_type": "execute_result"
    }
   ],
   "source": [
    "id(it1)"
   ]
  },
  {
   "cell_type": "code",
   "execution_count": 65,
   "id": "ae370913-6ce0-46c0-9d97-0ec8f15dbed4",
   "metadata": {},
   "outputs": [
    {
     "data": {
      "text/plain": [
       "4473864976"
      ]
     },
     "execution_count": 65,
     "metadata": {},
     "output_type": "execute_result"
    }
   ],
   "source": [
    "id(it2)"
   ]
  },
  {
   "cell_type": "code",
   "execution_count": 76,
   "id": "6ea12eae-1e76-4476-ae00-928be7c902fc",
   "metadata": {},
   "outputs": [],
   "source": [
    "bad_it = iter(bad_s)"
   ]
  },
  {
   "cell_type": "code",
   "execution_count": 77,
   "id": "0d3e8248-0b7c-4780-bff7-5a444cf3d36e",
   "metadata": {},
   "outputs": [
    {
     "data": {
      "text/plain": [
       "__main__.BadSentence"
      ]
     },
     "execution_count": 77,
     "metadata": {},
     "output_type": "execute_result"
    }
   ],
   "source": [
    "type(bad_it)"
   ]
  },
  {
   "cell_type": "code",
   "execution_count": 78,
   "id": "42e5cbda-46c2-4bde-8880-a0ae7bae5d59",
   "metadata": {},
   "outputs": [
    {
     "data": {
      "text/plain": [
       "__main__.BadSentence"
      ]
     },
     "execution_count": 78,
     "metadata": {},
     "output_type": "execute_result"
    }
   ],
   "source": [
    "type(bad_s)"
   ]
  },
  {
   "cell_type": "code",
   "execution_count": null,
   "id": "12f72d07-1088-44ac-82c1-e1d7cb775cc0",
   "metadata": {},
   "outputs": [],
   "source": []
  }
 ],
 "metadata": {
  "kernelspec": {
   "display_name": "python-class",
   "language": "python",
   "name": "python3"
  },
  "language_info": {
   "codemirror_mode": {
    "name": "ipython",
    "version": 3
   },
   "file_extension": ".py",
   "mimetype": "text/x-python",
   "name": "python",
   "nbconvert_exporter": "python",
   "pygments_lexer": "ipython3",
   "version": "3.11.8"
  }
 },
 "nbformat": 4,
 "nbformat_minor": 5
}
