{
 "cells": [
  {
   "cell_type": "code",
   "execution_count": 1,
   "metadata": {},
   "outputs": [
    {
     "name": "stdout",
     "output_type": "stream",
     "text": [
      "3\n",
      "add 함수\n",
      "calc 함수\n"
     ]
    }
   ],
   "source": [
    "def add(a, b):\n",
    "\tc = a + b\n",
    "\tprint(c)\n",
    "\tprint(\"add 함수\")\n",
    "\n",
    "def calc():\n",
    "    add(1, 2)\n",
    "    print(\"calc 함수\")\n",
    "    \n",
    "calc()"
   ]
  },
  {
   "cell_type": "code",
   "execution_count": 2,
   "metadata": {},
   "outputs": [
    {
     "name": "stdout",
     "output_type": "stream",
     "text": [
      "result1 --> 10\n",
      "result2 --> 30\n"
     ]
    }
   ],
   "source": [
    "def sum_coroutine():\n",
    "    total = 0\n",
    "    while True:\n",
    "        x = (yield total)\n",
    "        total += x\n",
    "\n",
    "\n",
    "def sum_func():\n",
    "    co = sum_coroutine()\n",
    "    next(co)\n",
    "    result1 = co.send(10)\n",
    "    print(f\"result1 --> {result1}\")\n",
    "    result2 = co.send(20)\n",
    "    print(f\"result2 --> {result2}\")\n",
    "\n",
    "sum_func()"
   ]
  },
  {
   "cell_type": "code",
   "execution_count": 5,
   "metadata": {},
   "outputs": [
    {
     "name": "stdout",
     "output_type": "stream",
     "text": [
      "sleeptime=5, x=10\n",
      "sleeptime=3, x=20\n"
     ]
    }
   ],
   "source": [
    "import random\n",
    "import time\n",
    "\n",
    "def sum_coroutine():\n",
    "    total = 0\n",
    "    while True:\n",
    "        x = (yield total)\n",
    "        sleeptime = random.randint(0,5)\n",
    "        time.sleep(sleeptime)\n",
    "        print(f\"{sleeptime=}, {x=}\")\n",
    "        total += x\n",
    "\n",
    "\n",
    "def sum_func():\n",
    "    co = sum_coroutine()\n",
    "    next(co)\n",
    "    result1 = co.send(10)\n",
    "    #print(f\"result1 --> {result1}\")\n",
    "    result2 = co.send(20)\n",
    "    #print(f\"result2 --> {result2}\")\n",
    "\n",
    "sum_func()"
   ]
  },
  {
   "cell_type": "code",
   "execution_count": 9,
   "metadata": {},
   "outputs": [
    {
     "name": "stdout",
     "output_type": "stream",
     "text": [
      "total=55, sleeptime=4\n",
      "55\n"
     ]
    }
   ],
   "source": [
    "import random\n",
    "import time\n",
    "\n",
    "def accumulate():\n",
    "    total = 0\n",
    "    while True:\n",
    "        x = (yield)         # 코루틴 바깥에서 값을 받아옴\n",
    "        if x is None:       # 받아온 값이 None이면\n",
    "            return total    # 합계 total을 반환\n",
    "        total += x\n",
    " \n",
    "def sum_coroutine():\n",
    "    while True:\n",
    "        sleeptime = random.randint(0,5)\n",
    "        total = yield from accumulate()    # accumulate의 반환값을 가져옴\n",
    "        time.sleep(sleeptime)\n",
    "        print(f\"{total=}, {sleeptime=}\")\n",
    "        print(total)\n",
    " \n",
    "co = sum_coroutine()\n",
    "next(co)\n",
    " \n",
    "for i in range(1, 11):    # 1부터 10까지 반복\n",
    "    co.send(i)            # 코루틴 accumulate에 숫자를 보냄\n",
    "co.send(None)             # 코루틴 accumulate에 None을 보내서 숫자 누적을 끝냄\n",
    " \n",
    "# for i in range(1, 101):   # 1부터 100까지 반복\n",
    "#     co.send(i)            # 코루틴 accumulate에 숫자를 보냄\n",
    "# co.send(None)             # 코루틴 accumulate에 None을 보내서 숫자 누적을 끝냄"
   ]
  },
  {
   "cell_type": "code",
   "execution_count": null,
   "metadata": {},
   "outputs": [],
   "source": []
  }
 ],
 "metadata": {
  "kernelspec": {
   "display_name": "python-class",
   "language": "python",
   "name": "python3"
  },
  "language_info": {
   "codemirror_mode": {
    "name": "ipython",
    "version": 3
   },
   "file_extension": ".py",
   "mimetype": "text/x-python",
   "name": "python",
   "nbconvert_exporter": "python",
   "pygments_lexer": "ipython3",
   "version": "3.11.4"
  }
 },
 "nbformat": 4,
 "nbformat_minor": 2
}
