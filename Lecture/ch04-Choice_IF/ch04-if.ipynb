{
 "cells": [
  {
   "cell_type": "markdown",
   "metadata": {},
   "source": [
    "# Overview\n",
    "\n",
    "* Python은 프로그램의 구조를 정의할때 공백 문자를 쓰는 흔치 않은 언어\n",
    "  * 다른 프로그래밍 언어는 시작과 끝을 표시하기 위해  중괄호 ( **`{}`** )와 같은 기호 사용\n",
    "  * 그리고 코드 가독성을 위해서 들여쓰기를 하는것은 매우 좋은 습관\n",
    "  * IDE에는 자동으로 들여쓰기나 코드 정리를 해주는 기능이 포함\n",
    "\n",
    "* 파이썬 프로그램 작성의 구조와 비교문에 대해서 알아본다\n",
    "\n",
    "\n",
    "# Indent\n",
    "\n",
    "* 파이썬은 공백 문자로 프로그램 구조로 구분\n",
    "* 들여쓰기는 tab이 아닌 공백문자 4칸으로 한다\n",
    "* tab으로 쓸 경우 프로그램마다 tab 설정에 따라 코드 구조가 이상하게 보일수 있다.\n",
    "* 들여쓰기는 몇칸이 되더라도 상관이 없다. 다만 같은 코드 블럭내에서는 일정해야 한다.\n",
    "\n",
    "\n",
    "![indent](./images/ch04-1-indent.png)\n"
   ]
  },
  {
   "cell_type": "code",
   "execution_count": 2,
   "metadata": {},
   "outputs": [],
   "source": [
    "def indent():\n",
    "    print(\"    \", end=\"\")\n",
    "\n",
    "def print_tree(tree, depth=0):\n",
    "  print(\"tree\")"
   ]
  },
  {
   "cell_type": "markdown",
   "metadata": {},
   "source": [
    "## 주석(Comment With #)\n",
    "\n",
    "* 인터프리터에 의해 무시되는 텍스트\n",
    "* 코드를 설명하는등의 다양한 목적으로 주석을 활용\n",
    "* #으로 문자가 시작된 곳 부터 해당 라인의 마지막까지가 주석이다\n",
    "* 문자열 안에 `#` 이 있다면, 그대로 출력된다.\n",
    "* #은 많은 이름이 있지만 보통 sharp이라고 읽는다\n",
    "  \n",
    "\n",
    "![comment](./images/ch04-2-comment.png)"
   ]
  },
  {
   "cell_type": "code",
   "execution_count": 1,
   "metadata": {},
   "outputs": [],
   "source": [
    "# 60 sec/min * 60 min/hr * 24 hr/day\n",
    "seconds_per_day = 86400 # 60 sec/min * 60 min/hr * 24 hr/day\n",
    "print(seconds_per_day)\n",
    "\n",
    "# I can say anything here, even if Python doesn't like it,\n",
    "# because I'm protected by the awesome\n",
    "# octothorpe.\n",
    "\n",
    "print(\"No comment: quotes make the # harmless.\")"
   ]
  },
  {
   "cell_type": "markdown",
   "metadata": {},
   "source": [
    "# 라인 유지하기(Continue Lines With \\ )\n",
    "\n",
    "* 파이썬에서 권장하는 1라인의 길이는 80자이다. 가독성을 위해서 80자를 권장하고 있는것이어서 꼭 지킬 필요는 없다\n",
    "* 80자가 넘어가는 코드에 대해서는 \\ (백슬러시)를 이용한다. 라인의 끝에서 \\ 입력하고, 다음줄에 문자를 입력하면 파이썬은 한줄로 인식한다.\n",
    "* 괄호로 묶어도 같은 결과를 얻는다."
   ]
  },
  {
   "cell_type": "code",
   "execution_count": 5,
   "metadata": {},
   "outputs": [
    {
     "name": "stdout",
     "output_type": "stream",
     "text": [
      "10\n",
      "45\n",
      "45\n"
     ]
    }
   ],
   "source": [
    "sum = 0\n",
    "sum += 1\n",
    "sum += 2\n",
    "sum += 3\n",
    "sum += 4\n",
    "print(sum)\n",
    "\n",
    "sum = 1 + 2 + 3 + \\\n",
    "4 + 5 + 6 + 7 + \\\n",
    "8 + 9\n",
    "print(sum)\n",
    "\n",
    "# sum = 1+   # -> 에러 발생\n",
    "\n",
    "sum = (1 + 2 + 3 +\n",
    "4 + 5 + 6 + 7 +\n",
    "8 + 9)\n",
    "print(sum)\n"
   ]
  },
  {
   "cell_type": "markdown",
   "metadata": {},
   "source": [
    "# 비교하기: if, elif, else (Compare with if, elif, and else)\n",
    "\n",
    "### 조건문 순서도\n",
    "- 파이썬 코드\n",
    "```python\n",
    "money = True\n",
    "if money:\n",
    "    print(\"택시를 타고 가라\")\n",
    "else:\n",
    "    print(\"걸어가라\")\n",
    "```\n",
    "\n",
    "- 순서도\n",
    "![flow chart](./images/ch04-3-ifchart.png)\n"
   ]
  },
  {
   "cell_type": "markdown",
   "metadata": {},
   "source": [
    "## if basic"
   ]
  },
  {
   "cell_type": "code",
   "execution_count": 6,
   "metadata": {},
   "outputs": [
    {
     "name": "stdout",
     "output_type": "stream",
     "text": [
      "Woe!\n"
     ]
    }
   ],
   "source": [
    "disaster = True\n",
    "if disaster:\n",
    "\tprint(\"Woe!\")\n",
    "else:\n",
    "\tprint(\"Whee!\")"
   ]
  },
  {
   "cell_type": "markdown",
   "metadata": {},
   "source": [
    "* if와 else는 disaster의 값이 True인지 False인지 확인하는 선언문\n",
    "  * print 함수는 화면에 객체를 출력하는 파이썬의 내장함수\n",
    "  * if 다음의 조건이 True면 해당 블럭을 실행하고\n",
    "  * if 다음의 조건이 False면 else 블럭을 실행\n",
    "\n",
    "* 코드에서 수행한 일\n",
    "  1. boolean 변수 disaster 에 True를 할당\n",
    "  2. if와 else를 사용해서 조건 테스트 수행하고, disaster 변수의 값에 따른 코드 실행\n",
    "  3. print() 함수로 텍스트 출력\n",
    "\n",
    "* 자바와 다른점\n",
    "  * 괄호로 조건문을 묶어주지 않는다\n",
    "  * 중괄호로 블럭을 표현하지 않고, 들여쓰기로 구분한다"
   ]
  },
  {
   "cell_type": "markdown",
   "metadata": {},
   "source": [
    "## Nested if (중첩 if)"
   ]
  },
  {
   "cell_type": "code",
   "execution_count": 7,
   "metadata": {},
   "outputs": [
    {
     "name": "stdout",
     "output_type": "stream",
     "text": [
      "It's a yeti.\n"
     ]
    }
   ],
   "source": [
    "furry = True\n",
    "large = True\n",
    "\n",
    "if furry:\n",
    "    if large:\n",
    "        print(\"It's a yeti.\")\n",
    "    else:\n",
    "        print(\"It's a cat!\")\n",
    "else:\n",
    "    if large:\n",
    "        print(\"It's a whale!\")\n",
    "    else:\n",
    "        print(\"It's a human. Or a hairless cat.\")\n"
   ]
  },
  {
   "cell_type": "markdown",
   "metadata": {},
   "source": [
    "## 다수의 조건 사용하기 (elif)\n",
    "\n",
    "* elif는 java에서 else if의 역할을 한다"
   ]
  },
  {
   "cell_type": "code",
   "execution_count": 8,
   "metadata": {},
   "outputs": [
    {
     "name": "stdout",
     "output_type": "stream",
     "text": [
      "I've never heard of the color mauve\n"
     ]
    }
   ],
   "source": [
    "color = \"mauve\"\n",
    "if color == \"red\":\n",
    "    print(\"It's a tomato\")\n",
    "elif color == \"green\":\n",
    "    print(\"It's a green pepper\")\n",
    "elif color == \"bee purple\":\n",
    "    print(\"I don't know what it is, but only bees can see it\")\n",
    "else:\n",
    "    print(\"I've never heard of the color\", color)"
   ]
  },
  {
   "cell_type": "markdown",
   "metadata": {},
   "source": [
    "## 비교 연산자(Comparison Operators)\n",
    "\n",
    "* 지금까지의 예제는 == 연산자를 이용해서 값이 같음을 확인\n",
    "  \n",
    "* 비교 연산자는 Boolean값 **True** 나 **False**를 반환한다\n",
    "  \n",
    "* 동시에 여러가지 식을 비교해야 한다면, and, or, not과 같은 논리연산자 사용가능하다\n",
    "  \n",
    "* 논리 연산자는 비교 연산자보다 우선순위가 낮기 때문에 의도하지 않은 값이 출력될수 있다.\n",
    "  * 괄호를 이용해서 우선순위를 정해준다 (가독성면에서도 좋다)\n",
    "  \n",
    "* 파이썬은 하나의 변수를 여러번 비교하는것을 허용\n",
    "\n",
    "\n",
    "| **의미**                | **기호** |\n",
    "|-----------------------|--------|\n",
    "| equality              | ==     |\n",
    "| inequality            | !=     |\n",
    "| less than             | <      |\n",
    "| less than or equal    | <=     |\n",
    "| greater than          | >      |\n",
    "| greater than or equal | >=     |\n",
    "\n"
   ]
  },
  {
   "cell_type": "code",
   "execution_count": 15,
   "metadata": {},
   "outputs": [
    {
     "name": "stdout",
     "output_type": "stream",
     "text": [
      "False\n",
      "True\n",
      "True\n",
      "True\n",
      "True\n",
      "True\n",
      "True\n",
      "True\n",
      "False\n"
     ]
    }
   ],
   "source": [
    "x = 7 # x에 변수 7을 할당\n",
    "\n",
    "print(x == 5)\n",
    "print(x == 7)\n",
    "print(5 < x)\n",
    "print(x < 10)\n",
    "\n",
    "# 동시에 여러가지 식을 비교해야 한다면, and, or, not과 같은 논리연산자 사용가능하다\n",
    "print(5 < x and x < 10) # 5 < 7 => True, 7 < 10 => True, 그리고 True and True 연산\n",
    "\n",
    "# 괄호를 이용해서 우선순위를 정해준다 \n",
    "print((5 < x) and (x < 10))\n",
    "\n",
    "# 파이썬은 하나의 변수를 여러번 비교하는것을 허용\n",
    "print(5 < x < 10) # => (5 < x) and (x < 10)\n",
    "\n",
    "y = 10\n",
    "print(5 < x < y < 999)\n",
    "print(5 < x < (x + 100) < 99)"
   ]
  },
  {
   "cell_type": "markdown",
   "metadata": {},
   "source": [
    "## True와 False\n",
    "\n",
    "* 3장 초반에 언급한데로 숫자는 0이 아니면 모두 True로 인식\n",
    "\n",
    "* 그외 다음의 표의 값은 모두 False로 인식하고 나머지는 모두 True로 인지한다\n",
    "\n",
    "| **boolean**  | **False** |\n",
    "|--------------|-----------|\n",
    "| null         | None      |\n",
    "| zero integer | 0         |\n",
    "| zero float   | 0.0       |\n",
    "| empty string | ''        |\n",
    "| empty list   | []        |\n",
    "| empty tuple  | ()        |\n",
    "| empty dict   | {}        |\n",
    "| empty set    | set()     |\n"
   ]
  },
  {
   "cell_type": "code",
   "execution_count": 16,
   "metadata": {},
   "outputs": [
    {
     "name": "stdout",
     "output_type": "stream",
     "text": [
      "Hey, it's empty!\n"
     ]
    }
   ],
   "source": [
    "some_list = []\n",
    "if some_list:\n",
    "    print(\"There's something in here\")\n",
    "else:\n",
    "    print(\"Hey, it's empty!\")"
   ]
  },
  {
   "cell_type": "code",
   "execution_count": null,
   "metadata": {},
   "outputs": [],
   "source": []
  }
 ],
 "metadata": {
  "kernelspec": {
   "display_name": "python-class",
   "language": "python",
   "name": "python3"
  },
  "language_info": {
   "codemirror_mode": {
    "name": "ipython",
    "version": 3
   },
   "file_extension": ".py",
   "mimetype": "text/x-python",
   "name": "python",
   "nbconvert_exporter": "python",
   "pygments_lexer": "ipython3",
   "version": "3.11.8"
  }
 },
 "nbformat": 4,
 "nbformat_minor": 2
}
