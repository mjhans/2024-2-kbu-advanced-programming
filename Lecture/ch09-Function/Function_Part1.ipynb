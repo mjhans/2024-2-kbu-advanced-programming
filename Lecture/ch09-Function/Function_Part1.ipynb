{
 "cells": [
  {
   "cell_type": "markdown",
   "metadata": {},
   "source": [
    "# 함수란 무엇인가?\n",
    "\n",
    "* 입력값에 따라 결과 값이 나오게 하는 것\n",
    "\n",
    "![function01](./images/function01.png)\n",
    "\n",
    "* 반복 작업의 최소화\n",
    "\n",
    "* 프로그램 코드가 간결해지고, 이해하기 쉬워진다\n",
    "\n",
    "* 유지보수\n",
    "\n",
    "  * 에러 발생시 해당 함수만 수정\n",
    "\n",
    "# Define a Function with `def`\n",
    "\n",
    "* def 키워드 뒤에 함수 이름을 적는다\n",
    "\n",
    "* 함수 이름 다음 괄호로 감싸고, 그 안에 매개변수를 정의한다\n",
    "\n",
    "  * 함수 이름에는 문자, 숫자 _ 만 포함\n",
    "\n",
    "  * 함수 이름은 임의로 생성가능\n",
    "\n",
    "  * 보통은 snake_case로 만든다\n",
    "\n",
    "* 마지막에 콜론 (`:`)을 쓰고 다음 라인으로 넘어간다"
   ]
  },
  {
   "cell_type": "code",
   "execution_count": 2,
   "metadata": {},
   "outputs": [],
   "source": [
    "# 함수의 몸체가 없다.\n",
    "def do_nothing():\n",
    "\tpass # indent가 중요하다.\n",
    "\n",
    "# 연산의 결과를 return 키워드를 통해서 함수를 호출한 곳에 전달\n",
    "def add(a, b):\n",
    "\treturn a + b\n",
    "    \n",
    "# 연산의 결과를 반환하지 않는다. 이럴때는 None값이 호출한곳에 전달\n",
    "def show_type(x):\n",
    "\tprint(type(x)) "
   ]
  },
  {
   "cell_type": "markdown",
   "metadata": {},
   "source": [
    "# 함수 사용하기\n",
    "\n",
    "* 앞에서 정의한 함수 이름을 적고, 반드시 괄호를 써야 실행된다"
   ]
  },
  {
   "cell_type": "code",
   "execution_count": 6,
   "metadata": {},
   "outputs": [
    {
     "name": "stdout",
     "output_type": "stream",
     "text": [
      "<function do_nothing at 0x1093bb560>\n",
      "result = 8\n",
      "add(3, 5) = 8\n",
      "add('3', '5') = '35'\n",
      "<class 'str'>\n",
      "result = None\n",
      "<class 'list'>\n",
      "<class 'dict'>\n"
     ]
    }
   ],
   "source": [
    "do_nothing() # 호출이 되자만 아무것도 실행하지 않는다.\n",
    "\n",
    "print(do_nothing) # 함수객체가 출력\n",
    "\n",
    "result = add(3, 5)    # 8이라는 숫자가 result 변수에 할당\n",
    "print(f\"{result = }\")\n",
    "print(f\"{add(3, 5) = }\")      # 8이라는 숫자가\n",
    "print(f\"{add('3', '5') = }\")  # 문자열도 덧셈을 지원\n",
    "\n",
    "result = show_type(\"4\")\n",
    "print(f\"{result = }\")\n",
    "show_type([1,2,3,4])\n",
    "show_type({\"a\": 3})"
   ]
  },
  {
   "cell_type": "markdown",
   "metadata": {},
   "source": [
    "# Parameter And Arguments(매개변수와 인수)\n",
    "\n",
    "* Parameter(매개변수, 인자) : 함수에서 사용하는 변수\n",
    "\n",
    "* Arguments(인수) :  함수호출시 사용되는 값\n",
    "\n",
    "![function02](./images/function02.png)\n"
   ]
  },
  {
   "cell_type": "markdown",
   "metadata": {},
   "source": [
    "## None Is Useful\n",
    "\n",
    "* return 키워드가 없는 함수의 경우 리턴이 None으로 나온다"
   ]
  },
  {
   "cell_type": "code",
   "execution_count": 7,
   "metadata": {},
   "outputs": [
    {
     "name": "stdout",
     "output_type": "stream",
     "text": [
      "<class 'str'>\n",
      "a is None : None\n"
     ]
    }
   ],
   "source": [
    "a = show_type(\"3\")\n",
    "if a is None:\n",
    "    print(f\"a is None : {a}\")"
   ]
  },
  {
   "cell_type": "markdown",
   "metadata": {},
   "source": [
    "## Arguments 에 따른 함수 정의\n",
    "\n",
    "총 4가지가 존재하고, 혼용해서 쓸수 있지만 우선 순위가 있다\n",
    "\n",
    "* 위치 기반 인수(Positional Arguments)\n",
    "\n",
    "* 키워드 기반 인수 (Keyword Arguments)\n",
    "\n",
    "* 가변인수 (variable length Arguments)\n",
    "\n",
    "* 가변키워드 인수 (variable length keyword Arguments)\n",
    "\n",
    "### 위치 기반 인수(Positional arguments)\n",
    "\n",
    "* 지금껏 사용해온 방식\n",
    "  \n",
    "* add(3,4)와 같이 호출하는 방식\n",
    "\n",
    "### 키워드 기반 인수 (Keyword Arguments)\n",
    "\n",
    "* 이럴때는 함수 호출시 인수가 들어갈 위치의 매개변수를 지정가능하다\n",
    "\n",
    "* 매개변수 이름을 넣어줄경우 위치가 변경되어도 관계 없다 "
   ]
  },
  {
   "cell_type": "code",
   "execution_count": 12,
   "metadata": {},
   "outputs": [
    {
     "name": "stdout",
     "output_type": "stream",
     "text": [
      "sub(3,7) = -4\n",
      "sub(b=7, a=3) = -4\n",
      "div(3, b = 7) = 0.42857142857142855\n"
     ]
    }
   ],
   "source": [
    "def sub(a, b):\n",
    "    return a - b\n",
    "\n",
    "print(f\"{sub(3,7) = }\")\n",
    "print(f\"{sub(b=7, a=3) = }\")\n",
    "\n",
    "# 부분적으로 인수를 전달할 수 있다.\n",
    "def div(a, b):\n",
    "    return a / b\n",
    "\n",
    "print(f\"{div(3, b = 7) = }\")\n",
    "# print(f\"{div(a = 3, 7) = }\") # error, 앞의 파라미터가 이름을 지정했으므로 뒤에도 이름을 지정해야 한다.\n"
   ]
  },
  {
   "cell_type": "markdown",
   "metadata": {},
   "source": [
    "### 가변인수 (variable length arguments)\n",
    "\n",
    "* *args로 넣어주면 된다.\n",
    "\n",
    "* args대신 다른 이름을 쓸수 있지만, 관례적으로 args로 표기\n",
    "\n",
    "* 튜플로 처리"
   ]
  },
  {
   "cell_type": "code",
   "execution_count": 13,
   "metadata": {},
   "outputs": [
    {
     "name": "stdout",
     "output_type": "stream",
     "text": [
      "<class 'tuple'>\n",
      "result = 55\n",
      "<class 'tuple'>\n",
      "result = 30\n"
     ]
    }
   ],
   "source": [
    "def total(*args):\n",
    "    print(type(args))\n",
    "    return sum(args)\n",
    "\n",
    "result = total(1,2,3,4,5,6,7,8,9,10)\n",
    "print(f\"{result = }\")\n",
    "\n",
    "result = total(3,5,6,7,9)\n",
    "print(f\"{result = }\")"
   ]
  },
  {
   "cell_type": "code",
   "execution_count": 18,
   "metadata": {},
   "outputs": [
    {
     "name": "stdout",
     "output_type": "stream",
     "text": [
      "add_mul('add', 1,2,3,4,5,6,7,8,9,10) = 55\n",
      "add_mul('mul', 1,2,3,4,5,6,7,8,9,10) = 3628800\n"
     ]
    }
   ],
   "source": [
    "# 위치 지정 인자와 같이 쓰는것도 가능\n",
    "import math\n",
    "def add_mul(choice, *args):\n",
    "    result = 0\n",
    "    if choice == \"add\":\n",
    "        result = sum(args)\n",
    "    elif choice == \"mul\":\n",
    "        result = math.prod(args)\n",
    "    return result\n",
    "\n",
    "print(f\"{add_mul('add', 1,2,3,4,5,6,7,8,9,10) = }\")\n",
    "print(f\"{add_mul('mul', 1,2,3,4,5,6,7,8,9,10) = }\")\n",
    "# print(add_mul(choice = \"mul\", 3,4,5,6,7,8,9,10)) # error, 위치 지정 인자는 무조건 뒤에 와야한다."
   ]
  },
  {
   "cell_type": "markdown",
   "metadata": {},
   "source": [
    "### 가변키워드 인수 (variable length keyword arguments)\n",
    "\n",
    "* **kwargs로 넣어주면 된\n",
    "\n",
    "* 함수내부에서 사용시 dict로 사용\n",
    "\n",
    "* kwargs 대신 다른 이름을 쓸수 있지만 관례적으로 kwargs 표기"
   ]
  },
  {
   "cell_type": "code",
   "execution_count": 20,
   "metadata": {},
   "outputs": [
    {
     "name": "stdout",
     "output_type": "stream",
     "text": [
      "name = 'sample', type(kwargs) = <class 'dict'>\n",
      "dict_items([('a', 1), ('b', 2), ('c', 3), ('d', 4)])\n"
     ]
    }
   ],
   "source": [
    "def kwargs_sample(name, **kwargs):\n",
    "    print(f\"{name = }, {type(kwargs) = }\")\n",
    "    return kwargs.items()\n",
    "# 함수 사용시 dict로 넣는 것이 아니라, 키워드 기반으로 값을 넣는다\n",
    "l = kwargs_sample(name = \"sample\", a=1, b=2, c=3, d=4)\n",
    "print(l)"
   ]
  },
  {
   "cell_type": "markdown",
   "metadata": {},
   "source": [
    "* 필수 인수와 옵셔널 인수를 구분해주기도 한다. \n",
    "  \n",
    "* 인수를 묶어서 넘기기도 한다.\n",
    "\n",
    "* requests.get 함수는 params라는 매개변수가 있다. \n",
    "\n",
    "  * 내부적으로는 requests.request함수를 호출하는데, kwargs에 묶여서 값이 들어온다\n",
    "\n",
    "  * 문서 [링크](https://requests.readthedocs.io/en/latest/api/#requests.request)\n",
    "\n",
    "![function03](./images/function03.png)\n",
    "\n",
    "![function04](./images/function04.png)"
   ]
  },
  {
   "cell_type": "code",
   "execution_count": 23,
   "metadata": {},
   "outputs": [
    {
     "name": "stdout",
     "output_type": "stream",
     "text": [
      "name = 'sample', type(kwargs) = <class 'dict'>\n",
      "dict_items([('opt', 'opt_str'), ('a', 1), ('b', 2), ('c', 3), ('d', 4)])\n"
     ]
    }
   ],
   "source": [
    "def sample(name, opt, **kwargs):\n",
    "    return kwargs_sample(name, opt=opt, **kwargs)\n",
    "\n",
    "\n",
    "l = sample(\"sample\", \"opt_str\", a=1, b=2, c=3, d=4)\n",
    "print(l)"
   ]
  },
  {
   "cell_type": "markdown",
   "metadata": {},
   "source": [
    "### 사용시 주의할점\n",
    "\n",
    "* 우선순위가 있음\n",
    "  \n",
    "  * 위치 기반 인자(Positional arguments)\n",
    "  \n",
    "  * 키워드 기반 인자 (Keyword Arguments)\n",
    "  \n",
    "  * 가변인수 (variable length arguments)\n",
    "  \n",
    "  * 가변키워드 인수 (variable length keyword arguments)\n",
    "\n",
    "* out of index, key error 조심"
   ]
  },
  {
   "cell_type": "code",
   "execution_count": 25,
   "metadata": {},
   "outputs": [
    {
     "ename": "SyntaxError",
     "evalue": "arguments cannot follow var-keyword argument (492128241.py, line 4)",
     "output_type": "error",
     "traceback": [
      "\u001b[0;36m  Cell \u001b[0;32mIn[25], line 4\u001b[0;36m\u001b[0m\n\u001b[0;31m    def args_order(a, **kwargs, b = True, *args): # error, 우선 순위\u001b[0m\n\u001b[0m                                ^\u001b[0m\n\u001b[0;31mSyntaxError\u001b[0m\u001b[0;31m:\u001b[0m arguments cannot follow var-keyword argument\n"
     ]
    }
   ],
   "source": [
    "def args_order(a, b = True, *args, **kwargs):\n",
    "\tpass\n",
    "\n",
    "def args_order(a, **kwargs, b = True, *args): # error, 우선 순위\n",
    "\tpass"
   ]
  },
  {
   "cell_type": "code",
   "execution_count": 28,
   "metadata": {},
   "outputs": [
    {
     "name": "stdout",
     "output_type": "stream",
     "text": [
      "<class 'dict'>\n",
      "5\n",
      "<class 'dict'>\n"
     ]
    },
    {
     "ename": "KeyError",
     "evalue": "'c'",
     "output_type": "error",
     "traceback": [
      "\u001b[0;31m---------------------------------------------------------------------------\u001b[0m",
      "\u001b[0;31mKeyError\u001b[0m                                  Traceback (most recent call last)",
      "Cell \u001b[0;32mIn[28], line 7\u001b[0m\n\u001b[1;32m      4\u001b[0m     \u001b[38;5;28;01mreturn\u001b[39;00m a\n\u001b[1;32m      6\u001b[0m \u001b[38;5;28mprint\u001b[39m(kwargs_sample(a \u001b[38;5;241m=\u001b[39m \u001b[38;5;241m4\u001b[39m, b \u001b[38;5;241m=\u001b[39m \u001b[38;5;241m5\u001b[39m, c \u001b[38;5;241m=\u001b[39m \u001b[38;5;241m5\u001b[39m))\n\u001b[0;32m----> 7\u001b[0m \u001b[38;5;28mprint\u001b[39m(\u001b[43mkwargs_sample\u001b[49m\u001b[43m(\u001b[49m\u001b[43ma\u001b[49m\u001b[43m \u001b[49m\u001b[38;5;241;43m=\u001b[39;49m\u001b[43m \u001b[49m\u001b[38;5;241;43m4\u001b[39;49m\u001b[43m,\u001b[49m\u001b[43m \u001b[49m\u001b[43mb\u001b[49m\u001b[43m \u001b[49m\u001b[38;5;241;43m=\u001b[39;49m\u001b[43m \u001b[49m\u001b[38;5;241;43m5\u001b[39;49m\u001b[43m)\u001b[49m)\n",
      "Cell \u001b[0;32mIn[28], line 3\u001b[0m, in \u001b[0;36mkwargs_sample\u001b[0;34m(a, b, **kwargs)\u001b[0m\n\u001b[1;32m      1\u001b[0m \u001b[38;5;28;01mdef\u001b[39;00m \u001b[38;5;21mkwargs_sample\u001b[39m(a, b, \u001b[38;5;241m*\u001b[39m\u001b[38;5;241m*\u001b[39mkwargs):\n\u001b[1;32m      2\u001b[0m     \u001b[38;5;28mprint\u001b[39m(\u001b[38;5;28mtype\u001b[39m(kwargs)) \u001b[38;5;66;03m# 인터프리터 특성상 이부분까지는 잘 실행된다.\u001b[39;00m\n\u001b[0;32m----> 3\u001b[0m     a \u001b[38;5;241m=\u001b[39m \u001b[43mkwargs\u001b[49m\u001b[43m[\u001b[49m\u001b[38;5;124;43m'\u001b[39;49m\u001b[38;5;124;43mc\u001b[39;49m\u001b[38;5;124;43m'\u001b[39;49m\u001b[43m]\u001b[49m\n\u001b[1;32m      4\u001b[0m     \u001b[38;5;28;01mreturn\u001b[39;00m a\n",
      "\u001b[0;31mKeyError\u001b[0m: 'c'"
     ]
    }
   ],
   "source": [
    "def kwargs_sample(a, b, **kwargs):\n",
    "    print(type(kwargs)) # 인터프리터 특성상 이부분까지는 잘 실행된다.\n",
    "    a = kwargs['c']\n",
    "    return a\n",
    "    \n",
    "print(kwargs_sample(a = 4, b = 5, c = 5))\n",
    "print(kwargs_sample(a = 4, b = 5))"
   ]
  },
  {
   "cell_type": "code",
   "execution_count": 29,
   "metadata": {},
   "outputs": [
    {
     "name": "stdout",
     "output_type": "stream",
     "text": [
      "<class 'dict'>\n",
      "5\n",
      "<class 'dict'>\n",
      "0\n"
     ]
    }
   ],
   "source": [
    "def kwargs_sample(a, b, **kwargs):\n",
    "    print(type(kwargs)) # 인터프리터 특성상 이부분까지는 잘 실행된다.\n",
    "    a = kwargs.get('c', 0) # get을 사용하면 없는 키를 넣었을때 에러가 나지 않는다.\n",
    "    return a\n",
    "    \n",
    "print(kwargs_sample(a = 4, b = 5, c = 5))\n",
    "print(kwargs_sample(a = 4, b = 5))"
   ]
  },
  {
   "cell_type": "markdown",
   "metadata": {},
   "source": [
    "## Mutable and Immutable Arguments"
   ]
  },
  {
   "cell_type": "code",
   "execution_count": 30,
   "metadata": {},
   "outputs": [
    {
     "name": "stdout",
     "output_type": "stream",
     "text": [
      "before mangling : outside = ['one', 'fine', 'day']\n",
      "outside_res = ['one', 'terrible!', 'day']\n",
      "after mangling : outside = ['one', 'terrible!', 'day']\n"
     ]
    }
   ],
   "source": [
    "def mangle(arg):\n",
    "\targ[1] = 'terrible!'\n",
    "\treturn arg\n",
    "\n",
    "outside = ['one', 'fine', 'day']\n",
    "print(f\"before mangling : {outside = }\")\n",
    "outside_res = mangle(outside)\n",
    "print(f\"{outside_res = }\")\n",
    "print(f\"after mangling : {outside = }\")"
   ]
  },
  {
   "cell_type": "markdown",
   "metadata": {},
   "source": [
    "# 패킹과 언패킹 (packing, unpacking)\n",
    "\n",
    "여러값을 리턴하고 싶으면 iterator 형태로 반환한 것을 unpacking해서 사용"
   ]
  },
  {
   "cell_type": "markdown",
   "metadata": {},
   "source": [
    "# Exceptions"
   ]
  },
  {
   "cell_type": "code",
   "execution_count": null,
   "metadata": {},
   "outputs": [],
   "source": []
  }
 ],
 "metadata": {
  "kernelspec": {
   "display_name": "python-class",
   "language": "python",
   "name": "python3"
  },
  "language_info": {
   "codemirror_mode": {
    "name": "ipython",
    "version": 3
   },
   "file_extension": ".py",
   "mimetype": "text/x-python",
   "name": "python",
   "nbconvert_exporter": "python",
   "pygments_lexer": "ipython3",
   "version": "3.11.8"
  }
 },
 "nbformat": 4,
 "nbformat_minor": 2
}
