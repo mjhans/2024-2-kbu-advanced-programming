{
 "cells": [
  {
   "cell_type": "markdown",
   "metadata": {},
   "source": [
    "# Functions Are First-Class Citizens\n",
    "\n",
    " *everything is an object* \n",
    "\n",
    " - 파이썬의 철학\n",
    "\n",
    "파이썬에서 객체 : 숫자, 문자열, 튜플, 리스트, 딕셔너리, 함수\n",
    "\n",
    "파이썬의 함수의 특징\n",
    "\n",
    "- 다른 함수를 인수로 사용 가능\n",
    "- 함수를 변수에 할당 가능\n",
    "- 함수에 attribute 할당 가능\n",
    "- 함수의 반환값으로 사용 가능"
   ]
  },
  {
   "cell_type": "code",
   "execution_count": 2,
   "metadata": {},
   "outputs": [
    {
     "name": "stdout",
     "output_type": "stream",
     "text": [
      "type(var_answer) = <class 'function'>, type(answer) = <class 'function'>\n",
      "id(var_answer) = 4428647616, id(answer) = 4428647616\n",
      "The meaning of life, the universe, and everything\n"
     ]
    }
   ],
   "source": [
    "def answer():\n",
    "    print(42)\n",
    "\n",
    "\n",
    "# 함수를 변수에 할당 가능\n",
    "var_answer = answer\n",
    "print(f\"{type(var_answer) = }, {type(answer) = }\")\n",
    "print(f\"{id(var_answer) = }, {id(answer) = }\")\n",
    "\n",
    "# 함수에 attribute 사용 가능, 사용되는건 잘 못봄\n",
    "answer.question = 'The meaning of life, the universe, and everything'\n",
    "print(answer.question)\n"
   ]
  },
  {
   "cell_type": "code",
   "execution_count": 3,
   "metadata": {},
   "outputs": [
    {
     "name": "stdout",
     "output_type": "stream",
     "text": [
      "func = <function answer at 0x107f7ccc0>, type(func) = <class 'function'>, id(func) = 4428647616\n",
      "The meaning of life, the universe, and everything\n",
      "42\n",
      "func = <function answer at 0x107f7ccc0>, type(func) = <class 'function'>, id(func) = 4428647616\n",
      "The meaning of life, the universe, and everything\n",
      "42\n"
     ]
    }
   ],
   "source": [
    "def run_something(func):\n",
    "    print(f\"{func = }, {type(func) = }, {id(func) = }\")\n",
    "    print(func.question)\n",
    "    func()\n",
    "\n",
    "# 다른 함수를 인자로 받아 실행 가능\n",
    "run_something(answer)\n",
    "run_something(var_answer)\n"
   ]
  },
  {
   "cell_type": "code",
   "execution_count": 5,
   "metadata": {},
   "outputs": [
    {
     "name": "stdout",
     "output_type": "stream",
     "text": [
      "type(s) = <class 'function'>, s(5) = 200\n",
      "first_citizen(40)(5) = 200\n"
     ]
    }
   ],
   "source": [
    "# 함수의 반환값으로 함수가 가능\n",
    "def first_citizen(v):\n",
    "    def answer(x):\n",
    "        return x * v        \n",
    "    return answer\n",
    "\n",
    "s = first_citizen(40)\n",
    "print(f\"{type(s) = }, {s(5) = }\")\n",
    "print(f\"{first_citizen(40)(5) = }\")\n"
   ]
  },
  {
   "cell_type": "markdown",
   "metadata": {},
   "source": [
    "* 일급객체 조건\n",
    "  \n",
    "  * 모든 일급 객체는 변수나 데이터에 담을수 있어야 한다\n",
    "  \n",
    "  * 모든 일급 객체는 함수의 파라미터로 전달할수 있어야 한다\n",
    "  \n",
    "  * 모든 일급 객체는 함수의 리턴값으로 사용할수 있어야 한다."
   ]
  },
  {
   "cell_type": "code",
   "execution_count": 4,
   "metadata": {},
   "outputs": [
    {
     "name": "stdout",
     "output_type": "stream",
     "text": [
      "14\n"
     ]
    }
   ],
   "source": [
    "def add_args(arg1, arg2):\n",
    "    print(arg1 + arg2)\n",
    "\n",
    "def run_something_with_args(func, arg1, arg2):\n",
    "\tfunc(arg1, arg2)\n",
    " \n",
    "run_something_with_args(add_args, 5, 9)"
   ]
  },
  {
   "cell_type": "code",
   "execution_count": 6,
   "metadata": {},
   "outputs": [
    {
     "name": "stdout",
     "output_type": "stream",
     "text": [
      "14\n"
     ]
    }
   ],
   "source": [
    "# 가변 인자와 함께 사용\n",
    "def run_with_positional_args(func, *args):\n",
    "    return func(*args)\n",
    "\n",
    "run_with_positional_args(add_args, 5, 9)"
   ]
  },
  {
   "cell_type": "markdown",
   "metadata": {},
   "source": [
    "## 일급 객체 심화 : map/filter 함수 사용하기\n",
    "\n",
    "### map 함수\n",
    "\n",
    "* 다수의 데이터에 한번에 값을 업데이트 하거나 추출할때 사용한다\n",
    "\n",
    "* 리스트 컴프리헨션 사용이 더 권장\n",
    "\n",
    "* parameter  \n",
    "  * 적용할 함수\n",
    "    * 여기 함수의 구성에 따라 다수의 iterable이 나올수 있다\n",
    "  * 데이터가 저장된 Iterable\n",
    "\n",
    "* 반환되는 값은 함수가 적용된 map 객체이다.\n",
    "\n",
    "[map 함수 문서](https://docs.python.org/3/library/functions.html#map)\n"
   ]
  },
  {
   "cell_type": "code",
   "execution_count": 7,
   "metadata": {},
   "outputs": [
    {
     "name": "stdout",
     "output_type": "stream",
     "text": [
      "mapped = <map object at 0x107f2b160>, list(mapped) = [2, 3, 4, 5, 6]\n",
      "mapped = [2, 3, 4, 5, 6], list(mapped) = [2, 3, 4, 5, 6]\n"
     ]
    }
   ],
   "source": [
    "# target 리스트의 모든 요소에 add_1 함수를 적용\n",
    "target = [1, 2, 3, 4, 5]\n",
    "\n",
    "def add_1(n):\n",
    "    return n + 1\n",
    "\n",
    "mapped = map(add_1, target)\n",
    "print(f\"{mapped = }, {list(mapped) = }\")\n",
    "\n",
    "# list comprehension 사용\n",
    "mapped = [add_1(n) for n in target]\n",
    "print(f\"{mapped = }, {list(mapped) = }\")"
   ]
  },
  {
   "cell_type": "code",
   "execution_count": 9,
   "metadata": {},
   "outputs": [
    {
     "name": "stdout",
     "output_type": "stream",
     "text": [
      "mapped = <map object at 0x107f2b790>, list(mapped) = [11, 22, 33, 44]\n",
      "mapped = [11, 22, 33, 44], list(mapped) = [11, 22, 33, 44]\n"
     ]
    }
   ],
   "source": [
    "# 두 개의 리스트에 대해 add_iter 함수를 사용해서 각 요소를 더함\n",
    "target_1 = [1, 2, 3, 4, 5]\n",
    "target_2 = [10, 20, 30, 40, 50]\n",
    "\n",
    "# iterable간 연산\n",
    "def add_iter(x, y):\n",
    "    return x + y\n",
    "\n",
    "target_1 = [1, 2, 3, 4] # 원소의 갯수가 짧은 리스트의 길이만큼만 결과가 나옴\n",
    "target_2 = [10, 20, 30, 40, 50]\n",
    "\n",
    "mapped = map(add_iter, target_1, target_2)\n",
    "print(f\"{mapped = }, {list(mapped) = }\")\n",
    "\n",
    "# list comprehension 사용\n",
    "mapped = [add_iter(x, y) for x, y in zip(target_1, target_2)]\n",
    "print(f\"{mapped = }, {list(mapped) = }\")"
   ]
  },
  {
   "cell_type": "markdown",
   "metadata": {},
   "source": [
    "### filter 함수\n",
    "\n",
    "* iterable에서 조건에 맞는 값을 찾아서 iterable로 만든다\n",
    "\n",
    "* parameter  \n",
    "  * 적용할 함수\n",
    "    * 여기 함수의 구성에 따라 다수의 iterable이 나올수 있다\n",
    "  * 데이터가 저장된 Iterable\n",
    "\n",
    "[filter 함수 문서](https://docs.python.org/3/library/functions.html#filter)"
   ]
  },
  {
   "cell_type": "code",
   "execution_count": 10,
   "metadata": {},
   "outputs": [
    {
     "name": "stdout",
     "output_type": "stream",
     "text": [
      "result = <filter object at 0x107f2ae90>, list(result) = [2, 4, 6, 8, 10]\n",
      "result = [2, 4, 6, 8, 10], list(result) = [2, 4, 6, 8, 10]\n"
     ]
    }
   ],
   "source": [
    "# 짝수 값만 추출\n",
    "target = [1, 2, 3, 4, 5, 6, 7, 8, 9, 10]\n",
    "\n",
    "def is_even(n):\n",
    "    return True if n % 2 == 0 else False\n",
    "\n",
    "result = filter(is_even, target)\n",
    "print(f\"{result = }, {list(result) = }\")\n",
    "\n",
    "# list comprehension 사용\n",
    "result = [n for n in target if is_even(n)]\n",
    "print(f\"{result = }, {list(result) = }\")"
   ]
  },
  {
   "cell_type": "markdown",
   "metadata": {},
   "source": [
    "# Inner Functions\n",
    "\n",
    "함수안에 함수를 정의하고 사용가능"
   ]
  },
  {
   "cell_type": "code",
   "execution_count": null,
   "metadata": {},
   "outputs": [],
   "source": [
    "def outer(a, b):\n",
    "\tdef inner(c, d):\n",
    "\t\treturn c + d\n",
    "\treturn inner(a, b)\n",
    "\n",
    "\n",
    "print(f\"{outer(4, 7) = }\")\n",
    "print(f\"{type(outer) = }\")"
   ]
  },
  {
   "cell_type": "code",
   "execution_count": 12,
   "metadata": {},
   "outputs": [
    {
     "name": "stdout",
     "output_type": "stream",
     "text": [
      "<function outer.<locals>.inner at 0x107f7d3a0>\n"
     ]
    }
   ],
   "source": [
    "def outer(a, b):\n",
    "\tdef inner(c, d):\n",
    "\t\treturn c + d\n",
    "\treturn inner\n",
    "\n",
    "print(outer(4, 7))"
   ]
  },
  {
   "cell_type": "code",
   "execution_count": 14,
   "metadata": {},
   "outputs": [
    {
     "data": {
      "text/plain": [
       "'We are the knights who say: Ni!'"
      ]
     },
     "execution_count": 14,
     "metadata": {},
     "output_type": "execute_result"
    }
   ],
   "source": [
    "def knights(saying):\n",
    "    def inner(quote):\n",
    "        return f\"We are the knights who say: {quote}\"\n",
    "    return inner(saying)\n",
    "\n",
    "knights('Ni!')"
   ]
  },
  {
   "cell_type": "markdown",
   "metadata": {},
   "source": [
    "## closure\n",
    "\n",
    "* 함수와 이 함수가 선언된 환경(변수와 상수 같은 값들)을 함께 기억하는 기능\n",
    "\n",
    "* 함수가 정의된 scope(범위)밖에서도 해당함수가 자신의 스코프 내 변수에 접근할 수 있게 한다"
   ]
  },
  {
   "cell_type": "code",
   "execution_count": 20,
   "metadata": {},
   "outputs": [
    {
     "name": "stdout",
     "output_type": "stream",
     "text": [
      "closure_func = <function outer_function.<locals>.inner_function at 0x107f7d940>, type(closure_func) = <class 'function'>\n",
      "closure_func = <function outer_function.<locals>.inner_function at 0x107f7db20>, type(closure_func) = <class 'function'>, 4428651296\n",
      "15\n",
      "c = <function outer_function.<locals>.inner_function at 0x107f7d940>, type(c) = <class 'function'>, 4428650816\n",
      "25\n"
     ]
    }
   ],
   "source": [
    "def outer_function(x):\n",
    "    def inner_function(y):\n",
    "        return x + y  # 내부 함수가 외부 함수의 변수 x에 접근\n",
    "    return inner_function\n",
    "\n",
    "# closure_func는 inner_function을 가리킴\n",
    "closure_func = outer_function(10) \n",
    "print(f\"{closure_func = }, {type(closure_func) = }\")\n",
    "\n",
    "# outer_function은 종료 되었지만, 인자값인 10을 기억하고 있다.\n",
    "\"\"\"_summary_\n",
    "inner_function의 현재 모습\n",
    "def inner_function(y):\n",
    "    return 10 + y\n",
    "\"\"\"\n",
    "closure_func = outer_function(10) \n",
    "print(f\"{closure_func = }, {type(closure_func) = }, {id(closure_func)}\")\n",
    "print(closure_func(5))  # 출력: 15 \n",
    "c = outer_function(20)\n",
    "print(f\"{c = }, {type(c) = }, {id(c)}\")\n",
    "print(c(5))"
   ]
  },
  {
   "cell_type": "markdown",
   "metadata": {},
   "source": [
    "클로저의 특징\n",
    "\n",
    "1. **내부 함수**: 클로저는 함수 내에 또 다른 함수를 정의하고, 그 내부 함수가 외부 함수의 변수에 접근할 수 있는 구조를 가지고 있습니다.\n",
    "   \n",
    "2. **외부 함수의 변수 접근**: 외부 함수가 실행을 끝냈어도, 클로저는 여전히 외부 함수의 변수를 기억하고 참조할 수 있습니다. 이는 함수가 호출될 때마다 새로운 변수가 생성되고, 해당 함수가 끝나면 그 변수들이 사라지는 일반적인 스코프 규칙을 뛰어넘는 특징입니다.\n",
    "   \n",
    "3. **데이터 은닉**: 클로저는 외부에서 접근할 수 없는 데이터를 은닉하고 보호하는 데 유용할 수 있습니다. 이를 통해 내부 변수에 직접적으로 접근할 수 없고, 클로저를 통해서만 변수를 조작할 수 있습니다.\n",
    "\n",
    "\n",
    "이런 특징들로 함수의 매개변수를 이용해서 내가 원하는 함수를 만들어 낼수 있다."
   ]
  },
  {
   "cell_type": "code",
   "execution_count": 21,
   "metadata": {},
   "outputs": [
    {
     "name": "stdout",
     "output_type": "stream",
     "text": [
      "a(knights) = 'We are the knights who say: Duck, and inner say: We are the knights who say: DuckNi', b(knights) = 'We are the knights who say: Hasenpfeffer, and inner say: We are the knights who say: HasenpfefferNi'\n",
      "a = <function knights2.<locals>.inner2 at 0x107f7dd00>, b = <function knights2.<locals>.inner2 at 0x107f7ca40>\n"
     ]
    }
   ],
   "source": [
    "def knights2(saying):\n",
    "    def inner2(func):\n",
    "        _inner_say = func(saying + \"Ni\")\n",
    "        return f\"We are the knights who say: {saying}, and inner say: {_inner_say}\"\n",
    "    return inner2\n",
    "\n",
    "a = knights2('Duck')\n",
    "b = knights2('Hasenpfeffer')\n",
    "\n",
    "print(f\"{a(knights) = }, {b(knights) = }\")\n",
    "print(f\"{a = }, {b = }\")"
   ]
  },
  {
   "cell_type": "markdown",
   "metadata": {},
   "source": [
    "# Anonymous Functions: lambda\n",
    "\n",
    "파이썬 람다 함수는 단일 문장으로 표현되는 익명함수\n",
    "\n",
    "일회성으로 간단한 연산 수행시 유용하다\n",
    "\n",
    "`lambda 매개변수 : 표현식`"
   ]
  },
  {
   "cell_type": "code",
   "execution_count": 22,
   "metadata": {},
   "outputs": [
    {
     "name": "stdout",
     "output_type": "stream",
     "text": [
      "8\n",
      "8\n",
      "mapped = <map object at 0x107f2b3d0>, list(mapped) = [2, 4, 6, 8, 10, 12, 14, 16, 18, 20]\n"
     ]
    }
   ],
   "source": [
    "# 일반 함수 정의\n",
    "def add(x, y):\n",
    "    return x + y\n",
    "\n",
    "# 람다 함수 정의\n",
    "add_lambda = lambda x, y : x + y\n",
    "\n",
    "print(add(3, 5))          # 출력: 8\n",
    "print(add_lambda(3, 5))   # 출력: 8\n",
    "\n",
    "\n",
    "target = [1, 2, 3, 4, 5, 6, 7, 8, 9, 10]\n",
    "#map 함수에서 사용\n",
    "mapped = map(lambda x, y: x + y, target, target)\n",
    "print(f\"{mapped = }, {list(mapped) = }\")\n",
    "\n",
    "# filter 함수에서 사용\n",
    "result = filter(lambda x: x % 2 == 0, target)"
   ]
  },
  {
   "cell_type": "markdown",
   "metadata": {},
   "source": [
    "분산 처리 할때 (스파크 연산) 활용\n",
    "\n",
    "[소스 출처 : medium](https://medium.com/@softwareprocesspains2023/pyspark-how-to-use-lambda-function-on-spark-dataframe-to-filter-data-37e03fc7d709)"
   ]
  },
  {
   "cell_type": "markdown",
   "metadata": {},
   "source": [
    "```python\n",
    "#import SparkContext\n",
    "from datetime import date\n",
    "from pyspark.sql import SparkSession\n",
    "from pyspark.sql.types import StructField, StringType, StructType, IntegerType, DateType, DecimalType\n",
    "from pyspark.sql.functions import year\n",
    "from decimal import Decimal\n",
    "#Connect to spark cluster on local\n",
    "sc = SparkSession.builder.config('spark.driver.host','localhost').appName('My_Pyspark_Test').getOrCreate()\n",
    "#define dataframe schema\n",
    "df_schema = StructType([\n",
    "    StructField('sno', IntegerType(), False),\n",
    "    StructField('name', StringType(), False),\n",
    "    StructField('deptid', IntegerType(), True),\n",
    "    StructField('doj', DateType(), False),\n",
    "    StructField('salary', DecimalType(), True)\n",
    "])\n",
    "#define dataframe data\n",
    "df_data = [\n",
    "    (1, 'Patrick', 10, date(2015, 2, 15), Decimal(1000.00)),\n",
    "    (2, 'Lisbon', 10, date(2015, 10, 2), Decimal(1500.00)),\n",
    "    (3, 'Cho', 20, date(2016, 4, 10), Decimal(800.00)),\n",
    "    (4, 'Rigsby', 20, date(2017, 11, 14), Decimal(200.00)),\n",
    "    (5, 'VanPelt', 30, date(2017, 12, 2), Decimal(8000.00)),\n",
    "    (6, 'Charlotte', 30, date(2017, 5, 6), Decimal(5000.00)),\n",
    "    (7, 'Bertrum', 10, date(2019, 3, 9), Decimal(20000.00)),\n",
    "    (8, 'Fisher', 20, date(2019, 7, 2), Decimal(10000.00)),\n",
    "    (9, 'Dennis', 30, date(2020, 11, 11), Decimal(50000.00))\n",
    "]\n",
    "#create dataframe\n",
    "spark_df = sc.createDataFrame(data = df_data, schema = df_schema)\n",
    "#create a udf which returns Y if the salary is greater than 2000\n",
    "def checkSalary(x):\n",
    "    if (x.salary > 2000):\n",
    "        return (x.sno, x.name, x.deptid, x.doj, x.salary, \"Y\")\n",
    "    else:\n",
    "        return (x.sno, x.name, x.deptid, x.doj, x.salary, \"N\")\n",
    "#map the udf to the rdd    \n",
    "spark_rdd = spark_df.rdd.map(lambda x: checkSalary(x))\n",
    "#convert rdd to spark dataframe\n",
    "spark_df = spark_rdd.toDF()\n",
    "#show the spark dataframe\n",
    "spark_df.show(truncate=False)\n",
    "#stop the spark session\n",
    "sc.stop()\n",
    "```"
   ]
  },
  {
   "cell_type": "markdown",
   "metadata": {},
   "source": [
    "# Decorators\n",
    "\n",
    "- 함수를 수정하지 않고도 **기존 함수나 메서드의 기능을 확장** 하거나 **행동을 변경**할 수 있다\n",
    "\n",
    "- 데코레이터는 다른 함수를 인자로 받아 그 함수에 새로운 기능을 추가한 뒤, **변경된 함수를 반환**하는 함수\n",
    "\n",
    "**데코레이터의 기본 개념:**\n",
    "\n",
    "1. **함수를 감싸는 함수**: 데코레이터는 다른 함수를 인자로 받아서 그 함수를 감싸고, 새로운 로직을 추가한 뒤, 수정된 함수를 반환합니다.\n",
    "\n",
    "2. **문법 사용**: 파이썬에서는 데코레이터를 쉽게 적용하기 위해 **@데코레이터 이름**을 함수 정의 위에 붙여서 사용합니다.\n",
    "\n",
    "3. **코드 재사용성 증가**: 데코레이터를 통해 코드 중복을 줄이고 공통된 기능을 여러 함수에 쉽게 적용할 수 있습니다."
   ]
  },
  {
   "cell_type": "code",
   "execution_count": 26,
   "metadata": {},
   "outputs": [
    {
     "name": "stdout",
     "output_type": "stream",
     "text": [
      "함수 실행 전입니다.\n",
      "안녕하세요!\n",
      "함수 실행 후입니다.\n"
     ]
    }
   ],
   "source": [
    "@my_decorator\n",
    "def say_hello():\n",
    "    print(\"안녕하세요!\")\n",
    "\n",
    "def my_decorator(func):\n",
    "    def wrapper():\n",
    "        print(\"함수 실행 전입니다.\")\n",
    "        func()  # 원래 함수를 호출\n",
    "        print(\"함수 실행 후입니다.\")\n",
    "    return wrapper\n",
    "    \n",
    "\n",
    "#수동 실행\n",
    "# wrap_func = my_decorator(say_hello)\n",
    "# wrap_func()\n",
    "\n",
    "@my_decorator\n",
    "def say_hello_2():\n",
    "    print(\"안녕하세요!\")\n",
    "\n",
    "say_hello()"
   ]
  },
  {
   "cell_type": "code",
   "execution_count": 27,
   "metadata": {},
   "outputs": [
    {
     "name": "stdout",
     "output_type": "stream",
     "text": [
      "함수 실행 전입니다.\n",
      "함수 실행 후입니다.\n",
      "결과: 8\n"
     ]
    }
   ],
   "source": [
    "# 파라미터가 있어야 하므로 가변인자를 사용해야 한다\n",
    "def my_decorator(func):\n",
    "    def wrapper(*args, **kwargs):  # 모든 인자를 받아 처리\n",
    "        print(\"함수 실행 전입니다.\")\n",
    "        result = func(*args, **kwargs)  # 원래 함수를 호출\n",
    "        print(\"함수 실행 후입니다.\")\n",
    "        return result\n",
    "    return wrapper\n",
    "\n",
    "@my_decorator\n",
    "def add(a, b):\n",
    "    return a + b\n",
    "\n",
    "result = add(3, 5)\n",
    "print(\"결과:\", result)"
   ]
  },
  {
   "cell_type": "markdown",
   "metadata": {},
   "source": [
    "데커레이터 실전 사용\n",
    "\n",
    "라우팅 함수를 데커레이터로 작성후 사용자에게 프레임워크 편의성을 제공할수 있다.\n",
    "\n",
    "[fastapi 에제](https://github.com/fastapi/fastapi#create-it)"
   ]
  },
  {
   "cell_type": "markdown",
   "metadata": {},
   "source": [
    "# Namespaces and Scope"
   ]
  },
  {
   "cell_type": "code",
   "execution_count": 26,
   "metadata": {},
   "outputs": [],
   "source": [
    "animal = 'fruitbat' # 전역 변수"
   ]
  },
  {
   "cell_type": "code",
   "execution_count": 27,
   "metadata": {},
   "outputs": [
    {
     "name": "stdout",
     "output_type": "stream",
     "text": [
      "at the top level: fruitbat\n",
      "inside print_global: fruitbat\n"
     ]
    }
   ],
   "source": [
    "def print_global():\n",
    "    print('inside print_global:', animal) # 함수내에서 animal 변수를 수정하지 않았으므로 전역 변수를 참조\n",
    "print('at the top level:', animal)\n",
    "print_global()\n"
   ]
  },
  {
   "cell_type": "code",
   "execution_count": 28,
   "metadata": {},
   "outputs": [
    {
     "ename": "UnboundLocalError",
     "evalue": "cannot access local variable 'animal' where it is not associated with a value",
     "output_type": "error",
     "traceback": [
      "\u001b[0;31m---------------------------------------------------------------------------\u001b[0m",
      "\u001b[0;31mUnboundLocalError\u001b[0m                         Traceback (most recent call last)",
      "Cell \u001b[0;32mIn[28], line 6\u001b[0m\n\u001b[1;32m      3\u001b[0m     animal \u001b[38;5;241m=\u001b[39m \u001b[38;5;124m'\u001b[39m\u001b[38;5;124mwombat\u001b[39m\u001b[38;5;124m'\u001b[39m\n\u001b[1;32m      4\u001b[0m     \u001b[38;5;28mprint\u001b[39m(\u001b[38;5;124m'\u001b[39m\u001b[38;5;124mafter the change:\u001b[39m\u001b[38;5;124m'\u001b[39m, animal)\n\u001b[0;32m----> 6\u001b[0m \u001b[43mchange_and_print_global\u001b[49m\u001b[43m(\u001b[49m\u001b[43m)\u001b[49m \u001b[38;5;66;03m# 에러\u001b[39;00m\n",
      "Cell \u001b[0;32mIn[28], line 2\u001b[0m, in \u001b[0;36mchange_and_print_global\u001b[0;34m()\u001b[0m\n\u001b[1;32m      1\u001b[0m \u001b[38;5;28;01mdef\u001b[39;00m \u001b[38;5;21mchange_and_print_global\u001b[39m():\n\u001b[0;32m----> 2\u001b[0m     \u001b[38;5;28mprint\u001b[39m(\u001b[38;5;124mf\u001b[39m\u001b[38;5;124m'\u001b[39m\u001b[38;5;124minside change_and_print_global: \u001b[39m\u001b[38;5;132;01m{\u001b[39;00m\u001b[43manimal\u001b[49m\u001b[38;5;132;01m}\u001b[39;00m\u001b[38;5;124m'\u001b[39m) \u001b[38;5;66;03m# 함수내에서 animal를 수정하므로 지역변수로 인식\u001b[39;00m\n\u001b[1;32m      3\u001b[0m     animal \u001b[38;5;241m=\u001b[39m \u001b[38;5;124m'\u001b[39m\u001b[38;5;124mwombat\u001b[39m\u001b[38;5;124m'\u001b[39m\n\u001b[1;32m      4\u001b[0m     \u001b[38;5;28mprint\u001b[39m(\u001b[38;5;124m'\u001b[39m\u001b[38;5;124mafter the change:\u001b[39m\u001b[38;5;124m'\u001b[39m, animal)\n",
      "\u001b[0;31mUnboundLocalError\u001b[0m: cannot access local variable 'animal' where it is not associated with a value"
     ]
    }
   ],
   "source": [
    "def change_and_print_global():\n",
    "    print(f'inside change_and_print_global: {animal}') # 함수내에서 animal를 수정하므로 지역변수로 인식\n",
    "    animal = 'wombat'\n",
    "    print('after the change:', animal)\n",
    "\n",
    "change_and_print_global() # 에러"
   ]
  },
  {
   "cell_type": "code",
   "execution_count": 29,
   "metadata": {},
   "outputs": [
    {
     "name": "stdout",
     "output_type": "stream",
     "text": [
      "inside change_local: animal = 'wombat', id(animal) = 4885877104\n",
      "animal = 'fruitbat', id(animal) = 4577874032\n"
     ]
    }
   ],
   "source": [
    "def change_local():\n",
    "    animal = 'wombat'\n",
    "    print(f'inside change_local: {animal = }, {id(animal) = }')\n",
    "    \n",
    "change_local()\n",
    "\n",
    "print(f\"{animal = }, {id(animal) = }\")"
   ]
  },
  {
   "cell_type": "code",
   "execution_count": 30,
   "metadata": {},
   "outputs": [
    {
     "name": "stdout",
     "output_type": "stream",
     "text": [
      "inside change_and_print_global: animal = 'fruitbat', id(animal) = 4577874032\n",
      "after the change: animal = 'wombat', id(animal) = 4885877104\n",
      "animal = 'wombat', id(animal) = 4885877104\n"
     ]
    }
   ],
   "source": [
    "def change_and_print_global():\n",
    "    global animal    # 전역변수를 사용하고 싶다면 global 키워드 사용\n",
    "    print(f'inside change_and_print_global: {animal = }, {id(animal) = }') # 함수내에서 animal를 수정하므로 지역변수로 인식\n",
    "    animal = 'wombat'\n",
    "    print(f'after the change: {animal = }, {id(animal) = }')\n",
    "\n",
    "change_and_print_global()\n",
    "print(f\"{animal = }, {id(animal) = }\")"
   ]
  },
  {
   "cell_type": "markdown",
   "metadata": {},
   "source": []
  }
 ],
 "metadata": {
  "kernelspec": {
   "display_name": "Python 3 (ipykernel)",
   "language": "python",
   "name": "python3"
  },
  "language_info": {
   "codemirror_mode": {
    "name": "ipython",
    "version": 3
   },
   "file_extension": ".py",
   "mimetype": "text/x-python",
   "name": "python",
   "nbconvert_exporter": "python",
   "pygments_lexer": "ipython3",
   "version": "3.11.8"
  }
 },
 "nbformat": 4,
 "nbformat_minor": 4
}
