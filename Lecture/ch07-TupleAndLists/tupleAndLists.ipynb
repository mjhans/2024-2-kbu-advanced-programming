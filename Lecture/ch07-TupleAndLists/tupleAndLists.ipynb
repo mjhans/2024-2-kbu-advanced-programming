{
 "cells": [
  {
   "cell_type": "markdown",
   "metadata": {},
   "source": [
    "# Overview\n",
    "\n",
    "파이썬의 기본 데이터 타입 : booleans, integers, floats, strings\n",
    "\n",
    "자료구조 : 기본 데이터 타입을 잘 활용 가능한 형태로 만드는 것 \n",
    "\n",
    "- 자료 구조가 중요한 이유 : 자료 구조를 어떻게 만드는지에 따라 프로그램의 성능과 복잡성이 갈린다.\n",
    "\n",
    "- 콘서트나 스포츠 티켓 예매시 사람이 한번에 몰리는데 어떻게 처리할것인가?\n",
    "\n",
    "## Sequence와 Collections\n",
    "\n",
    "* Collections : 여러개의 요소를 갖는 데이터 타입 또는 자료구조\n",
    "\n",
    "  * 종류 : list, set, tuple, dict\n",
    "\n",
    "* Sequence : 순서가 존재하는 데이터 타입\n",
    "\n",
    "* 문자열은 우리가 처음 접하는 Python Sequence이다. \n",
    "\n",
    "  * 인덱스로 접근 가능\n",
    "  \n",
    "  * flat sequence, container sequence로 구분\n",
    "  \n",
    "    * flat : string, byte 등과 같이 데이터 형이 같은 형태\n",
    "  \n",
    "    * container : 객체의 참조값이 들어갈수 있다 (tuple, list등)\n",
    "\n",
    "파이썬에서 제공하는 시퀀스 : tuple과 list"
   ]
  },
  {
   "cell_type": "markdown",
   "metadata": {},
   "source": [
    "# Tuple\n",
    "\n",
    "- 튜플이라고 읽고, 튜플은 immutable(불변)이다.\n",
    "\n",
    "- 값을 중간에 추가하거나 뺄수 없음\n",
    "\n",
    "  - 자바에서는 record 타입이 비슷한 역할을 한다"
   ]
  },
  {
   "cell_type": "markdown",
   "metadata": {},
   "source": [
    "## Create with Commas and ()\n",
    "\n",
    "- 생성법이 많은데, 괄호와 쉼표를 같이 쓰는 형태로 쓰는게 명확해서 추천"
   ]
  },
  {
   "cell_type": "code",
   "execution_count": 5,
   "metadata": {},
   "outputs": [
    {
     "name": "stdout",
     "output_type": "stream",
     "text": [
      "empty_tuple = (), type(empty_tuple) = <class 'tuple'>\n",
      "one_marx = ('Groucho', 'Chico'), type(one_marx) = <class 'tuple'>\n",
      "('Groucho',), type('Groucho',) = <class 'str'>\n",
      "one_marx = ('Groucho',), type(one_marx) = <class 'tuple'>\n",
      "one_marx = (1,), type(one_marx) = <class 'tuple'>\n",
      "one_marx = 'Groucho', type(one_marx) = <class 'str'>\n"
     ]
    }
   ],
   "source": [
    "empty_tuple = ()\n",
    "print(f\"{empty_tuple = }, {type(empty_tuple) = }\")\n",
    "\n",
    "one_marx = 'Groucho', 'Chico' # 이 방법은 생성만 가능, 함수의 인수로 넘겨줄수 없음\n",
    "\n",
    "print(f\"{one_marx = }, {type(one_marx) = }\")\n",
    "print(f\"{'Groucho',}, {type('Groucho',) = }\")\n",
    "\n",
    "# 추천하는 생성법\n",
    "one_marx = ('Groucho',) \n",
    "print(f\"{one_marx = }, {type(one_marx) = }\")\n",
    "one_marx = (1,)\n",
    "print(f\"{one_marx = }, {type(one_marx) = }\")\n",
    "\n",
    "# 쉽표 없이 괄호만 쓸 경우, 문자열로 인식\n",
    "one_marx = ('Groucho')\n",
    "print(f\"{one_marx = }, {type(one_marx) = }\")"
   ]
  },
  {
   "cell_type": "markdown",
   "metadata": {},
   "source": [
    "unpacking : 튜플로 한 번에 여러 변수 할당 가능"
   ]
  },
  {
   "cell_type": "code",
   "execution_count": 7,
   "metadata": {},
   "outputs": [
    {
     "name": "stdout",
     "output_type": "stream",
     "text": [
      "latitude = 33.9425, longitude = -118.408056\n",
      "a = 'Groucho', b = 'Chico', c = 'Harpo'\n",
      "x = 3, y = 10\n",
      "x = 10, y = 3\n"
     ]
    }
   ],
   "source": [
    "lax_coordinates = (33.9425, -118.408056) # LA 국제 공항의 위도와 경도\n",
    "latitude, longitude = lax_coordinates # 튜플 언패킹\n",
    "print(f\"{latitude = }, {longitude = }\")\n",
    "\n",
    "marx_tuple = ('Groucho', 'Chico', 'Harpo')\n",
    "a, b, c = marx_tuple\n",
    "print(f\"{a = }, {b = }, {c = }\")\n",
    "\n",
    "# 이런 튜플의 성질을 이용해서 변수의 값 바꾸는것이 가능\n",
    "x = 3\n",
    "y = 10\n",
    "print(f\"{x = }, {y = }\")\n",
    "y, x = x, y # 대입연산자 기준으로 오른쪽이 튜플이 된다. 튜플이 언패킹 되면서 변수에 값을 swap 하는 효과\n",
    "print(f\"{x = }, {y = }\")\n",
    "\n",
    "y, x = (x, y,)"
   ]
  },
  {
   "cell_type": "markdown",
   "metadata": {},
   "source": [
    "## Create with tuple()\n",
    "\n",
    "- 다른 객체(sequence)를 tuple로 만들어준다"
   ]
  },
  {
   "cell_type": "code",
   "execution_count": 8,
   "metadata": {},
   "outputs": [
    {
     "name": "stdout",
     "output_type": "stream",
     "text": [
      "type(a) = <class 'tuple'>, type(marx_list) = <class 'list'>\n",
      "('G', 'r', 'o', 'u', 'c', 'h', 'o')\n"
     ]
    }
   ],
   "source": [
    "marx_list = ['Groucho', 'Chico', 'Harpo']\n",
    "a = tuple(marx_list) # 리스트를 튜플로 변환\n",
    "print(f\"{type(a) = }, {type(marx_list) = }\")\n",
    "\n",
    "# 문자열\n",
    "str1 = 'Groucho'\n",
    "print(tuple(str1))"
   ]
  },
  {
   "cell_type": "markdown",
   "metadata": {},
   "source": [
    "## Combine Tuples by Using `+`\n",
    "\n",
    "```python\n",
    "print(('Groucho',) + ('Chico', 'Harpo'))\n",
    "# 결과 : ('Groucho', 'Chico', 'Harpo')\n",
    "```\n",
    "\n",
    "## Duplicate Items with `*`\n",
    "```python\n",
    "print(('yada',) * 3)\n",
    "# 결과 : ('yada', 'yada', 'yada')\n",
    "```\n",
    " "
   ]
  },
  {
   "cell_type": "code",
   "execution_count": 9,
   "metadata": {},
   "outputs": [
    {
     "name": "stdout",
     "output_type": "stream",
     "text": [
      "('Groucho', 'Chico', 'Harpo')\n",
      "('yada', 'yada', 'yada')\n"
     ]
    }
   ],
   "source": [
    "print(('Groucho',) + ('Chico', 'Harpo'))\n",
    "\n",
    "print(('yada',) * 3)\n"
   ]
  },
  {
   "cell_type": "markdown",
   "metadata": {},
   "source": [
    "## Compare Tuples\n",
    "\n",
    "- 두 시퀀스 사이에 같지 않은 값이 처음 나오는 값으로 비교가 정해진다.\n",
    "\n",
    "``` text\n",
    "When two sequences of the same type are compared to check if one is greater than or less than the other, \n",
    "the first non-equal value determines the outcome\n",
    "```\n",
    "\n",
    "- [참고자료](https://realpython.com/python-sequences/#comparing-values-with-sequences)"
   ]
  },
  {
   "cell_type": "code",
   "execution_count": 11,
   "metadata": {},
   "outputs": [
    {
     "name": "stdout",
     "output_type": "stream",
     "text": [
      "False\n",
      "True\n",
      "True\n",
      "False\n",
      "True\n",
      "True\n",
      "False\n",
      "False\n",
      "False\n"
     ]
    }
   ],
   "source": [
    "a = (7, 2)\n",
    "b = (7, 2, 9)\n",
    "print(a == b) # False\n",
    "print(a <= b) # True\n",
    "print(a < b)  # True\n",
    "\n",
    "a = (2, 7, 9) \n",
    "b = (9, 7, 2)\n",
    "print(a == b) #  False\n",
    "print(a <= b) # True\n",
    "print(a < b)  # True\n",
    "\n",
    "a = (2, 9,)\n",
    "b = (2, 7, 2)\n",
    "print(a == b)  # False\n",
    "print(a <= b)  # False\n",
    "print(a < b)   # False"
   ]
  },
  {
   "cell_type": "markdown",
   "metadata": {},
   "source": [
    "## Iterate with `for` and `in`\n",
    "\n",
    "- for문을 이용해서 순회한다. \n",
    "\n",
    "- while 문보다는 for문의 사용비율이 더 많은듯"
   ]
  },
  {
   "cell_type": "code",
   "execution_count": 12,
   "metadata": {},
   "outputs": [
    {
     "name": "stdout",
     "output_type": "stream",
     "text": [
      "fresh\n",
      "out\n",
      "of\n",
      "ideas\n",
      "t\n",
      "h\n",
      "u\n",
      "d\n"
     ]
    }
   ],
   "source": [
    "words = ('fresh','out', 'of', 'ideas')\n",
    "for word in words:\n",
    "\tprint(word)\n",
    "\n",
    "word = 'thud'\n",
    "for letter in word:\n",
    "\tprint(letter)"
   ]
  },
  {
   "cell_type": "markdown",
   "metadata": {},
   "source": [
    "## Modify a Tuple\n",
    "\n",
    "- 튜플은 불변(immutable) 객체"
   ]
  },
  {
   "cell_type": "code",
   "execution_count": 17,
   "metadata": {},
   "outputs": [
    {
     "name": "stdout",
     "output_type": "stream",
     "text": [
      "t1[0] = 'Fee'\n"
     ]
    },
    {
     "ename": "TypeError",
     "evalue": "'tuple' object does not support item assignment",
     "output_type": "error",
     "traceback": [
      "\u001b[0;31m---------------------------------------------------------------------------\u001b[0m",
      "\u001b[0;31mTypeError\u001b[0m                                 Traceback (most recent call last)",
      "Cell \u001b[0;32mIn[17], line 3\u001b[0m\n\u001b[1;32m      1\u001b[0m t1 \u001b[38;5;241m=\u001b[39m (\u001b[38;5;124m'\u001b[39m\u001b[38;5;124mFee\u001b[39m\u001b[38;5;124m'\u001b[39m, \u001b[38;5;124m'\u001b[39m\u001b[38;5;124mFie\u001b[39m\u001b[38;5;124m'\u001b[39m, \u001b[38;5;124m'\u001b[39m\u001b[38;5;124mFoe\u001b[39m\u001b[38;5;124m'\u001b[39m)\n\u001b[1;32m      2\u001b[0m \u001b[38;5;28mprint\u001b[39m(\u001b[38;5;124mf\u001b[39m\u001b[38;5;124m\"\u001b[39m\u001b[38;5;132;01m{\u001b[39;00mt1[\u001b[38;5;241m0\u001b[39m]\u001b[38;5;250m \u001b[39m\u001b[38;5;132;01m= }\u001b[39;00m\u001b[38;5;124m\"\u001b[39m)\n\u001b[0;32m----> 3\u001b[0m \u001b[43mt1\u001b[49m\u001b[43m[\u001b[49m\u001b[38;5;241;43m0\u001b[39;49m\u001b[43m]\u001b[49m \u001b[38;5;241m=\u001b[39m \u001b[38;5;124m\"\u001b[39m\u001b[38;5;124mq\u001b[39m\u001b[38;5;124m\"\u001b[39m \u001b[38;5;66;03m# 값을 변경할수 없다. TypeError: 'tuple' object does not support item assignment\u001b[39;00m\n",
      "\u001b[0;31mTypeError\u001b[0m: 'tuple' object does not support item assignment"
     ]
    }
   ],
   "source": [
    "t1 = ('Fee', 'Fie', 'Foe')\n",
    "print(f\"{t1[0] = }\")\n",
    "t1[0] = \"q\" # 값을 변경할수 없다. TypeError: 'tuple' object does not support item assignment\n"
   ]
  },
  {
   "cell_type": "code",
   "execution_count": 19,
   "metadata": {},
   "outputs": [
    {
     "name": "stdout",
     "output_type": "stream",
     "text": [
      "t1 + t2 = ('Fee', 'Fie', 'Foe', 'Flop'), t1 = ('Fee', 'Fie', 'Foe'), t2 = ('Flop',)\n",
      "id(t1) = 4373951104, id(t2) = 4369743776\n",
      "t1 = ('Fee', 'Fie', 'Foe', 'Flop'), t2 = ('Flop',)\n",
      "id(t1) = 4374279760, id(t2) = 4369743776\n"
     ]
    }
   ],
   "source": [
    "# 튜플을 합칠때 새로운 튜플을 생성한다.\n",
    "t1 = ('Fee', 'Fie', 'Foe')\n",
    "t2 = ('Flop', )\n",
    "print(f\"{t1 + t2 = }, {t1 = }, {t2 = }\")\n",
    "print(f\"{id(t1) = }, {id(t2) = }\")\n",
    "\n",
    "# t1 객체가 변경된것이 아니라. t1이 가르키는 객체가 변경된것이다.\n",
    "t1 += t2\n",
    "print(f\"{t1 = }, {t2 = }\")\n",
    "print(f\"{id(t1) = }, {id(t2) = }\")"
   ]
  },
  {
   "cell_type": "markdown",
   "metadata": {},
   "source": [
    "# Lists\n",
    "\n",
    "- 데이터를 순차적으로 파악하는 유용\n",
    "\n",
    "- 내용의 순서 변경 가능, 새로운 요소의 추가, 삭제 등 튜플보다 많은 기능을 "
   ]
  },
  {
   "cell_type": "markdown",
   "metadata": {},
   "source": [
    "## Create with []\n",
    "\n",
    "생성할때 대괄호를 이용한다\n",
    "\n",
    "- first_name은 리스트 값이 고유하지 않아도 됨을 보여준다\n",
    "\n",
    "- randomness 여러 객체가 들어가도 됨을 보여준다 "
   ]
  },
  {
   "cell_type": "code",
   "execution_count": 21,
   "metadata": {},
   "outputs": [],
   "source": [
    "empty_list = [ ]\n",
    "weekdays = ['Monday', 'Tuesday', 'Wednesday', 'Thursday', 'Friday']\n",
    "big_birds = ['emu', 'ostrich', 'cassowary']\n",
    "first_names = [('Graham', 'John'), 'Terry', 'Terry', 'Michael'] \n",
    "leap_years = [2000, 2004, 2008]\n",
    "randomness = [\"Punxsatawney\", {\"groundhog\": \"Phil\"}, \"Feb. 2\"]"
   ]
  },
  {
   "cell_type": "markdown",
   "metadata": {},
   "source": [
    "## Create or Convert with list()\n",
    "\n",
    "- list 함수로 빈 리스트를 만들수 있다\n",
    "\n",
    "- list 안에 sequence를 넣어주면 리스트의 요소로 변경한다"
   ]
  },
  {
   "cell_type": "code",
   "execution_count": 22,
   "metadata": {},
   "outputs": [
    {
     "name": "stdout",
     "output_type": "stream",
     "text": [
      "[]\n",
      "['c', 'a', 't']\n",
      "['ready', 'fire', 'aim']\n"
     ]
    }
   ],
   "source": [
    "another_empty_list = list()\n",
    "print(another_empty_list)\n",
    "\n",
    "print(list('cat'))\n",
    "\n",
    "a_tuple = ('ready', 'fire', 'aim')\n",
    "print(list(a_tuple))"
   ]
  },
  {
   "cell_type": "markdown",
   "metadata": {},
   "source": [
    "## Create from a String with split()\n",
    "\n",
    "- split함수는 문자열을 구분자 단위로 분할해서 리스트로 반환한다"
   ]
  },
  {
   "cell_type": "code",
   "execution_count": 23,
   "metadata": {},
   "outputs": [
    {
     "name": "stdout",
     "output_type": "stream",
     "text": [
      "['9', '19', '2019']\n",
      "['a', 'b', '', 'c', 'd', '', '', 'e']\n",
      "['a/b', 'c/d', '/e']\n"
     ]
    }
   ],
   "source": [
    "talk_like_a_pirate_day = '9/19/2019'\n",
    "print(talk_like_a_pirate_day.split('/'))\n",
    "\n",
    "splitme = 'a/b//c/d///e'\n",
    "print(splitme.split('/'))\n",
    "\n",
    "splitme = 'a/b//c/d///e'\n",
    "print(splitme.split('//'))"
   ]
  },
  {
   "cell_type": "markdown",
   "metadata": {},
   "source": [
    "## Get an Item by [ *offset* ]\n",
    "\n",
    "- offset을 지정해서 원하는 위치의 값을 조회할수 있다.\n",
    "\n",
    "- offest은 0부터 시작한다\n",
    "\n",
    "- 전체 길이보다 큰 offset을 지정하면 list index out of range 에러 발생\n",
    "\n",
    "- 튜플도 같은 기능을 갖고 있다."
   ]
  },
  {
   "cell_type": "code",
   "execution_count": 25,
   "metadata": {},
   "outputs": [
    {
     "name": "stdout",
     "output_type": "stream",
     "text": [
      "\n",
      "marxes[0] = 'Groucho'\n",
      "marxes[1] = 'Chico'\n",
      "marxes[2] = 'Harpo'\n",
      "marxes[-1] = 'Harpo'\n",
      "marxes[-2] = 'Chico'\n",
      "marxes[-3] = 'Groucho'\n",
      "\n",
      "\n",
      "type(tup_marxes) = <class 'tuple'>\n",
      "tup_marxes[0] = 'Groucho'\n",
      "tup_marxes[1] = 'Chico'\n",
      "tup_marxes[2] = 'Harpo'\n",
      "tup_marxes[-1] = 'Harpo'\n",
      "tup_marxes[-2] = 'Chico'\n",
      "tup_marxes[-3] = 'Groucho'\n",
      "\n"
     ]
    }
   ],
   "source": [
    "marxes = ['Groucho', 'Chico', 'Harpo']\n",
    "print(f\"\"\"\n",
    "{marxes[0] = }\n",
    "{marxes[1] = }\n",
    "{marxes[2] = }\n",
    "{marxes[-1] = }\n",
    "{marxes[-2] = }\n",
    "{marxes[-3] = }\n",
    "\"\"\")\n",
    "\n",
    "# marxes[5] # list index out of range\n",
    "\n",
    "tup_marxes = tuple(marxes)\n",
    "print(f\"\"\"\n",
    "{type(tup_marxes) = }\n",
    "{tup_marxes[0] = }\n",
    "{tup_marxes[1] = }\n",
    "{tup_marxes[2] = }\n",
    "{tup_marxes[-1] = }\n",
    "{tup_marxes[-2] = }\n",
    "{tup_marxes[-3] = }\n",
    "\"\"\")"
   ]
  },
  {
   "cell_type": "code",
   "execution_count": 26,
   "metadata": {},
   "outputs": [
    {
     "ename": "IndexError",
     "evalue": "list index out of range",
     "output_type": "error",
     "traceback": [
      "\u001b[0;31m---------------------------------------------------------------------------\u001b[0m",
      "\u001b[0;31mIndexError\u001b[0m                                Traceback (most recent call last)",
      "Cell \u001b[0;32mIn[26], line 1\u001b[0m\n\u001b[0;32m----> 1\u001b[0m \u001b[43mmarxes\u001b[49m\u001b[43m[\u001b[49m\u001b[38;5;241;43m5\u001b[39;49m\u001b[43m]\u001b[49m\n",
      "\u001b[0;31mIndexError\u001b[0m: list index out of range"
     ]
    }
   ],
   "source": [
    "marxes[5]"
   ]
  },
  {
   "cell_type": "markdown",
   "metadata": {},
   "source": [
    "## Get Items with a Slice\n",
    "\n",
    "- 5장에서 본 문자열처럼 슬라이스를 사용해서 SubSequence를 추출할수 있다\n",
    "\n",
    "- 새로운 객체를 생성해준다\n",
    "\n",
    "- 슬라이스로 접근시 잘못된 범위를 접근할 경우 예외를 발생하지 않는다.\n",
    "\n",
    "- 튜플도 가능하다"
   ]
  },
  {
   "cell_type": "code",
   "execution_count": 14,
   "metadata": {},
   "outputs": [
    {
     "name": "stdout",
     "output_type": "stream",
     "text": [
      "['Groucho', 'Chico']\n",
      "['Groucho', 'Harpo']\n",
      "['Harpo', 'Groucho']\n",
      "('Groucho', 'Chico')\n",
      "('Groucho', 'Harpo')\n",
      "('Harpo', 'Groucho')\n"
     ]
    }
   ],
   "source": [
    "# 슬라이스 사용하기\n",
    "\n",
    "marxes = ['Groucho', 'Chico', 'Harpo']\n",
    "print(marxes[0:2])\n",
    "print(marxes[::2])\n",
    "print(marxes[::-2])\n",
    "tup_marxes = tuple(marxes)\n",
    "print(tup_marxes[0:2])\n",
    "print(tup_marxes[::2])\n",
    "print(tup_marxes[::-2])\n",
    "\n"
   ]
  },
  {
   "cell_type": "code",
   "execution_count": 13,
   "metadata": {},
   "outputs": [
    {
     "name": "stdout",
     "output_type": "stream",
     "text": [
      "id(marxes) = 4372657472, marxes = ['Harpo', 'Chico', 'Groucho'], reversed_marxes = ['Groucho', 'Chico', 'Harpo'], id(reversed_marxes) = 4378878912\n",
      "id(marxes) = 4372657472, marxes = ['Groucho', 'Chico', 'Harpo'], reversed_marxes = None, id(reversed_marxes) = 4321333552\n",
      "['Groucho', 'Chico', 'Harpo']\n"
     ]
    }
   ],
   "source": [
    "# 슬라이스로 리스트를 역순으로 다시 정렬하는 방법\n",
    "reversed_marxes = marxes[::-1] # 새로운 객체가 생성되고, 그 객체를 reversed_marxes가 참조한다.\n",
    "print(f\"{id(marxes) = }, {marxes = }, {reversed_marxes = }, {id(reversed_marxes) = }\")\n",
    "\n",
    "# 리스트의 reverse 메서드를 사용하는 방법\n",
    "reversed_marxes = marxes.reverse() # marxes 객체가 변경된다. 반환값은 None이다.\n",
    "print(f\"{id(marxes) = }, {marxes = }, {reversed_marxes = }, {id(reversed_marxes) = }\")\n",
    "print(marxes) # marxes객체가 변경된다."
   ]
  },
  {
   "cell_type": "markdown",
   "metadata": {},
   "source": [
    "## Add an Item to the End with `append()`\n",
    "\n",
    "- 리스트의 마지막에 항목(객체)을 추가한다.\n",
    "\n",
    "- 튜플은 동작하지 않는다."
   ]
  },
  {
   "cell_type": "code",
   "execution_count": 29,
   "metadata": {},
   "outputs": [
    {
     "name": "stdout",
     "output_type": "stream",
     "text": [
      "['Groucho', 'Chico', 'Harpo', 'Zeppo']\n"
     ]
    }
   ],
   "source": [
    "marxes = ['Groucho', 'Chico', 'Harpo']\n",
    "marxes.append('Zeppo')\n",
    "print(marxes)"
   ]
  },
  {
   "cell_type": "code",
   "execution_count": 30,
   "metadata": {},
   "outputs": [
    {
     "ename": "AttributeError",
     "evalue": "'tuple' object has no attribute 'append'",
     "output_type": "error",
     "traceback": [
      "\u001b[0;31m---------------------------------------------------------------------------\u001b[0m",
      "\u001b[0;31mAttributeError\u001b[0m                            Traceback (most recent call last)",
      "Cell \u001b[0;32mIn[30], line 2\u001b[0m\n\u001b[1;32m      1\u001b[0m tup_marxes \u001b[38;5;241m=\u001b[39m \u001b[38;5;28mtuple\u001b[39m(marxes)\n\u001b[0;32m----> 2\u001b[0m \u001b[43mtup_marxes\u001b[49m\u001b[38;5;241;43m.\u001b[39;49m\u001b[43mappend\u001b[49m(\u001b[38;5;124m'\u001b[39m\u001b[38;5;124mZeppo\u001b[39m\u001b[38;5;124m'\u001b[39m)\n",
      "\u001b[0;31mAttributeError\u001b[0m: 'tuple' object has no attribute 'append'"
     ]
    }
   ],
   "source": [
    "tup_marxes = tuple(marxes)\n",
    "tup_marxes.append('Zeppo')"
   ]
  },
  {
   "cell_type": "markdown",
   "metadata": {},
   "source": [
    "## Add an Item by Offset with `insert()`\n",
    "\n",
    "- 리스트의 원하는 위치(offset)에 항목(객체)을 추가한다\n",
    "\n",
    "- 리스트의 범위를 넘어가는 offset이 지정되면, 리스트의 끝에 추가된다."
   ]
  },
  {
   "cell_type": "code",
   "execution_count": 17,
   "metadata": {},
   "outputs": [
    {
     "name": "stdout",
     "output_type": "stream",
     "text": [
      "['Gummo', 'Groucho', 'Chico', 'Harpo']\n",
      "['Gummo', 'Groucho', 'Gummo', 'Chico', 'Harpo']\n",
      "['Gummo', 'Groucho', 'Gummo', 'Chico', 'Harpo', 'Zeppo']\n"
     ]
    }
   ],
   "source": [
    "marxes = ['Groucho', 'Chico', 'Harpo']\n",
    "marxes.insert(0, 'Gummo')\n",
    "print(marxes)\n",
    "marxes.insert(2, 'Gummo')\n",
    "print(marxes)\n",
    "marxes.insert(10, 'Zeppo')\n",
    "print(marxes)"
   ]
  },
  {
   "cell_type": "markdown",
   "metadata": {},
   "source": [
    "## Duplicate All Items with `*`\n",
    "\n",
    "```python\n",
    "print([\"blah\"] * 3)\n",
    "# 결과 : ['blah', 'blah', 'blah']\n",
    "```"
   ]
  },
  {
   "cell_type": "markdown",
   "metadata": {},
   "source": [
    "## Combine Lists by Using extend() or `+`\n",
    "\n",
    "extend함수는 객체를 변경한다\n",
    "\n",
    "`+` 는 새로운 객체를 생성한다\n",
    "\n",
    "`+=`는 객체를 변경한다 "
   ]
  },
  {
   "cell_type": "code",
   "execution_count": 34,
   "metadata": {},
   "outputs": [
    {
     "name": "stdout",
     "output_type": "stream",
     "text": [
      "id(marxes) = 4374340224, marxes = ['Groucho', 'Chico', 'Harpo', 'Zeppo'], others = ['Gummo', 'Karl']\n",
      "id(marxes) = 4374340224, marxes = ['Groucho', 'Chico', 'Harpo', 'Zeppo', 'Gummo', 'Karl'], others = ['Gummo', 'Karl']\n"
     ]
    }
   ],
   "source": [
    "marxes = ['Groucho', 'Chico', 'Harpo', 'Zeppo']\n",
    "others = ['Gummo', 'Karl']\n",
    "print(f\"{id(marxes) = }, {marxes = }, {others = }\")\n",
    "marxes.extend(others)\n",
    "print(f\"{id(marxes) = }, {marxes = }, {others = }\")"
   ]
  },
  {
   "cell_type": "code",
   "execution_count": 35,
   "metadata": {},
   "outputs": [
    {
     "name": "stdout",
     "output_type": "stream",
     "text": [
      "id(marxes) = 4374336640, marxes = ['Groucho', 'Chico', 'Harpo', 'Zeppo'], id(others) = 4374333440, others = ['Gummo', 'Karl']\n",
      "id(marxes) = 4374062144, marxes = ['Groucho', 'Chico', 'Harpo', 'Zeppo', 'Gummo', 'Karl'], id(others) = 4374333440, others = ['Gummo', 'Karl']\n",
      "id(marxes) = 4374062144, marxes = ['Groucho', 'Chico', 'Harpo', 'Zeppo', 'Gummo', 'Karl', 'Gummo', 'Karl'], id(others) = 4374333440, others = ['Gummo', 'Karl']\n"
     ]
    }
   ],
   "source": [
    "marxes = ['Groucho', 'Chico', 'Harpo', 'Zeppo']\n",
    "others = ['Gummo', 'Karl']\n",
    "print(f\"{id(marxes) = }, {marxes = }, {id(others) = }, {others = }\")\n",
    "marxes = marxes + others # 새로운 리스트 객체가 생성되고 marxes는 새로운 객체를 가르킨다\n",
    "print(f\"{id(marxes) = }, {marxes = }, {id(others) = }, {others = }\")\n",
    "marxes += others # marxes가 가르키는 객체가 변경된다.\n",
    "print(f\"{id(marxes) = }, {marxes = }, {id(others) = }, {others = }\")"
   ]
  },
  {
   "cell_type": "code",
   "execution_count": 36,
   "metadata": {},
   "outputs": [
    {
     "name": "stdout",
     "output_type": "stream",
     "text": [
      "['Groucho', 'Chico', 'Harpo', 'Zeppo', ['Gummo', 'Karl']]\n"
     ]
    }
   ],
   "source": [
    "# append는 객체를 추가한다. 그래서 배열을 추가하면 배열 자체가 마지막 원소로 추가된다.\n",
    "marxes = ['Groucho', 'Chico', 'Harpo', 'Zeppo']\n",
    "others = ['Gummo', 'Karl']\n",
    "marxes.append(others)\n",
    "print(marxes)"
   ]
  },
  {
   "cell_type": "markdown",
   "metadata": {},
   "source": [
    "## Change an Item by `[ *offset* ]`\n",
    "\n",
    "- 문자열은 불변(immutable) 객체이기 때문에 값을 변경할수 없다.\n",
    "\n",
    "- 튜플도 불변(immutable) 객체이기 때문에 값을 변경할수 없다.\n",
    "\n",
    "- 리스트는 가변 객체이므로 항목 수, 항목 내용을 바꿀 수 있다"
   ]
  },
  {
   "cell_type": "code",
   "execution_count": 39,
   "metadata": {},
   "outputs": [
    {
     "name": "stdout",
     "output_type": "stream",
     "text": [
      "['Groucho', 'Chico', 'Wanda']\n"
     ]
    }
   ],
   "source": [
    "marxes = ['Groucho', 'Chico', 'Harpo']\n",
    "marxes[2] = 'Wanda'\n",
    "print(marxes)"
   ]
  },
  {
   "cell_type": "markdown",
   "metadata": {},
   "source": [
    "## **Change Items with a Slice**\n",
    "\n",
    "- 슬라이스를 이용해서 값 변경\n",
    "\n",
    "- 값을 넣어줄때 꼭 리스트가 아니어도 된다. python iterable이면 된다. "
   ]
  },
  {
   "cell_type": "code",
   "execution_count": 40,
   "metadata": {},
   "outputs": [
    {
     "name": "stdout",
     "output_type": "stream",
     "text": [
      "[1, 8, 9, 4]\n",
      "[1, 7, 8, 9, 4]\n",
      "[1, 4]\n"
     ]
    }
   ],
   "source": [
    "numbers = [1, 2, 3, 4]\n",
    "numbers[1:3] = [8, 9]\n",
    "print(numbers)\n",
    "\n",
    "# 항목의 수가 안맞아도 된다.\n",
    "numbers = [1, 2, 3, 4]\n",
    "numbers[1:3] = [7, 8, 9]\n",
    "print(numbers)\n",
    "\n",
    "numbers = [1, 2, 3, 4]\n",
    "numbers[1:3] = []\n",
    "print(numbers)"
   ]
  },
  {
   "cell_type": "code",
   "execution_count": 43,
   "metadata": {},
   "outputs": [
    {
     "name": "stdout",
     "output_type": "stream",
     "text": [
      "[1, 98, 99, 100, 4]\n",
      "[1, 'w', 'h', 'a', 't', '?', 100, 4]\n",
      "[1, 1, 'a', 't', '?', 100, 4]\n"
     ]
    }
   ],
   "source": [
    "# 이터러블 추가\n",
    "numbers = [1, 2, 3, 4]\n",
    "numbers[1:3] = (98, 99, 100)\n",
    "print(numbers)\n",
    "\n",
    "numbers[1:3] = 'what?'\n",
    "print(numbers)\n",
    "\n",
    "# numbers[1:3] = 1 # TypeError: can only assign an iterable\n",
    "numbers[1:3] = (1,)\n",
    "print(numbers)"
   ]
  },
  {
   "cell_type": "markdown",
   "metadata": {},
   "source": [
    "## Delete an Item by Offset with `del`\n",
    "\n",
    "- del은 파이썬 키워드이다.\n",
    "  \n",
    "- 할당 연산자 = 의 반대 역할"
   ]
  },
  {
   "cell_type": "code",
   "execution_count": 44,
   "metadata": {},
   "outputs": [
    {
     "name": "stdout",
     "output_type": "stream",
     "text": [
      "Karl\n",
      "['Groucho', 'Chico', 'Harpo', 'Gummo']\n"
     ]
    }
   ],
   "source": [
    "marxes = ['Groucho', 'Chico', 'Harpo', 'Gummo', 'Karl']\n",
    "print(marxes[-1])\n",
    "\n",
    "del marxes[-1]\n",
    "print(marxes)"
   ]
  },
  {
   "cell_type": "markdown",
   "metadata": {},
   "source": [
    "## Get an Item by Offset and Delete It with `pop()`\n",
    "\n",
    "- 리스트에서 항목을 가져오고, 삭제한다\n",
    "\n",
    "- pop(offset) : offset을 인수로 호출했다면, 해당 offset의 인수가 반환된다.\n",
    "\n",
    "- offset을 호출하지 않았다면 기본값은 -1 이다"
   ]
  },
  {
   "cell_type": "code",
   "execution_count": 45,
   "metadata": {},
   "outputs": [
    {
     "name": "stdout",
     "output_type": "stream",
     "text": [
      "Zeppo\n",
      "['Groucho', 'Chico', 'Harpo']\n",
      "Groucho\n",
      "['Chico', 'Harpo']\n"
     ]
    }
   ],
   "source": [
    "marxes = ['Groucho', 'Chico', 'Harpo', 'Zeppo']\n",
    "print(marxes.pop()) # marxes.pop(-1), pop(-1)은 리스트의 끝(tail)을 반환\n",
    "print(marxes)\n",
    "print(marxes.pop(0)) # pop(0)는 리스트의 머리(head)를 반환\n",
    "print(marxes)"
   ]
  },
  {
   "cell_type": "markdown",
   "metadata": {},
   "source": [
    "- append() 함수와 함께 스택(stack)과 큐(queue)를 구현할수 있다\n",
    "\n",
    "  -  queue : First In First Out 방식의 자료구조\n",
    "\n",
    "![queue](./images/queue.png)\n",
    "\n",
    "  - stack : Last In First Out 방식의 자료구조\n",
    "\n",
    "![stack](./images/stack.png)\n",
    "\n",
    "  - [그림 출처](https://www.getsuper.ai/post/how-to-learn-data-structure-algorithm-for-data-science-in-2024)"
   ]
  },
  {
   "cell_type": "code",
   "execution_count": 46,
   "metadata": {},
   "outputs": [
    {
     "name": "stdout",
     "output_type": "stream",
     "text": [
      "data = ['Groucho', 'Chico', 'Karl']\n",
      "data = ['Chico', 'Karl'], item = 'Groucho'\n",
      "data = ['Karl'], item = 'Chico'\n"
     ]
    }
   ],
   "source": [
    "# queue (FIFO)\n",
    "data = []\n",
    "data.append('Groucho')\n",
    "data.append('Chico')\n",
    "data.append('Karl') \n",
    "print(f\"{data = }\")\n",
    "item = data.pop(0)\n",
    "print(f\"{data = }, {item = }\")\n",
    "item = data.pop(0)\n",
    "print(f\"{data = }, {item = }\")"
   ]
  },
  {
   "cell_type": "code",
   "execution_count": 47,
   "metadata": {},
   "outputs": [
    {
     "name": "stdout",
     "output_type": "stream",
     "text": [
      "data = ['Groucho', 'Chico', 'Karl']\n",
      "data = ['Groucho', 'Chico'], item = 'Karl'\n",
      "data = ['Groucho'], item = 'Chico'\n"
     ]
    }
   ],
   "source": [
    "# stack\n",
    "data = []\n",
    "data.append('Groucho')\n",
    "data.append('Chico')\n",
    "data.append('Karl') \n",
    "print(f\"{data = }\")\n",
    "item = data.pop()\n",
    "print(f\"{data = }, {item = }\")\n",
    "item = data.pop()\n",
    "print(f\"{data = }, {item = }\")\n"
   ]
  },
  {
   "cell_type": "markdown",
   "metadata": {},
   "source": [
    "## 그외 list 함수\n",
    "\n",
    "* remove(value) : 리스트에 저장된 value를 찾아 지운다. 중복 값일  경우 첫번째 나오는 항목만 삭제\n",
    "\n",
    "* clear() : 리스트의 전체 항목을 지운다.\n",
    "\n",
    "* index(value) : 리스트에 저장된 항목중 처음으로 찾은 항목의 index를 반환한다.\n",
    "\n",
    "* in : 리스트안에 항목이 있는지 판단한다. ( `’a’ in a_list` )\n",
    "\n",
    "* count(value) : 리스트안에 해당 항목이 몇개 있는지 확인\n",
    "\n",
    "* join(list) : 문자열 함수, 모든 항목을 join 을 호출한 문자열을 구분자로 둔 문자열 로 반환\n",
    "\n",
    "    * 주의사항 : 리스트 안에 값은 문자열 이어야 함\n",
    "  \n",
    "        ```python\n",
    "        marxes = ['Groucho', 'Chico', 'Harpo', 'Zeppo']\n",
    "        sep1 = \",\"\n",
    "        print(sep1.join(marxes)) # 결과 : Groucho,Chico,Harpo,Zeppo\n",
    "        sep2 = \"*\"\n",
    "        print(sep2.join(marxes)) # 결과 : Groucho*Chico*Harpo*Zeppo\n",
    "        ```"
   ]
  },
  {
   "cell_type": "markdown",
   "metadata": {},
   "source": [
    "## Reorder Items with `sort()` or `sorted()`\n",
    "\n",
    "- sort() : 리스트의 함수로 리스트 자체를 내부적(in place)으로 정렬한다\n",
    "\n",
    "- sorted() : 파이썬의 내장 함수로 `sequence`의 정렬된 복사본을 반환한다.\n",
    "\n",
    "- 정렬 기준은 숫자형은 오름차순(ascending), 문자열은 알파벳 순서\n",
    "\n",
    "- 내림 차순 정렬을 하고 싶다면 `reverse=True`  를 인수로 넣어준다\n",
    "\n",
    "- 정렬 기준을 바꾸고 싶다면 `key=func()` 을 인수로 넣어준다"
   ]
  },
  {
   "cell_type": "code",
   "execution_count": 48,
   "metadata": {},
   "outputs": [
    {
     "name": "stdout",
     "output_type": "stream",
     "text": [
      "marxes = ['Groucho', 'Chico', 'Harpo'], sorted_marxes = ['Chico', 'Groucho', 'Harpo']\n",
      "marxes = ['Chico', 'Groucho', 'Harpo'], sorted_marxes = None\n"
     ]
    }
   ],
   "source": [
    "marxes = ['Groucho', 'Chico', 'Harpo']\n",
    "sorted_marxes = sorted(marxes)\n",
    "print(f\"{marxes = }, {sorted_marxes = }\")\n",
    "sorted_marxes = marxes.sort()\n",
    "print(f\"{marxes = }, {sorted_marxes = }\")"
   ]
  },
  {
   "cell_type": "code",
   "execution_count": 49,
   "metadata": {},
   "outputs": [
    {
     "name": "stdout",
     "output_type": "stream",
     "text": [
      "marxes = ['Groucho', 'Chico', 'Harpo', 'Gummo', 'Karl'], sorted_marxes = ['Karl', 'Harpo', 'Gummo', 'Groucho', 'Chico']\n",
      "marxes = ['Karl', 'Harpo', 'Gummo', 'Groucho', 'Chico'], sorted_marxes = None\n"
     ]
    }
   ],
   "source": [
    "marxes = ['Groucho', 'Chico', 'Harpo', 'Gummo', 'Karl']\n",
    "sorted_marxes = sorted(marxes, reverse = True)\n",
    "print(f\"{marxes = }, {sorted_marxes = }\")\n",
    "sorted_marxes = marxes.sort(reverse = True)\n",
    "print(f\"{marxes = }, {sorted_marxes = }\")\n"
   ]
  },
  {
   "cell_type": "code",
   "execution_count": 50,
   "metadata": {},
   "outputs": [
    {
     "name": "stdout",
     "output_type": "stream",
     "text": [
      "marxes = ['Groucho', 'Chico', 'Harpo', 'Gummo', 'Karl'], sorted_marxes = ['Groucho', 'Chico', 'Harpo', 'Gummo', 'Karl']\n",
      "marxes = ['Groucho', 'Chico', 'Harpo', 'Gummo', 'Karl'], sorted_marxes = None\n"
     ]
    }
   ],
   "source": [
    "marxes = ['Groucho', 'Chico', 'Harpo', 'Gummo', 'Karl']\n",
    "sorted_marxes = sorted(marxes, key = len, reverse = True)\n",
    "print(f\"{marxes = }, {sorted_marxes = }\")\n",
    "sorted_marxes = marxes.sort(key = len, reverse = True)\n",
    "print(f\"{marxes = }, {sorted_marxes = }\")"
   ]
  },
  {
   "cell_type": "code",
   "execution_count": 51,
   "metadata": {},
   "outputs": [
    {
     "name": "stdout",
     "output_type": "stream",
     "text": [
      "tup_marxes = ('Groucho', 'Chico', 'Harpo', 'Gummo', 'Karl'), sorted_marxes = ['Chico', 'Groucho', 'Gummo', 'Harpo', 'Karl']\n"
     ]
    }
   ],
   "source": [
    "tup_marxes = ('Groucho', 'Chico', 'Harpo', 'Gummo', 'Karl')\n",
    "sorted_marxes = sorted(marxes, reverse = False)\n",
    "print(f\"{tup_marxes = }, {sorted_marxes = }\")\n",
    "\n",
    "#tup_marxes.sort()\n"
   ]
  },
  {
   "cell_type": "code",
   "execution_count": 52,
   "metadata": {},
   "outputs": [
    {
     "name": "stdout",
     "output_type": "stream",
     "text": [
      "str_marxes = 'Groucho:Chico:Harpo:Gummo:Karl', sortec_str = [':', ':', ':', ':', 'C', 'G', 'G', 'H', 'K', 'a', 'a', 'c', 'c', 'h', 'h', 'i', 'l', 'm', 'm', 'o', 'o', 'o', 'o', 'o', 'p', 'r', 'r', 'r', 'u', 'u']\n"
     ]
    }
   ],
   "source": [
    "str_marxes = 'Groucho:Chico:Harpo:Gummo:Karl'\n",
    "sortec_str = sorted(str_marxes)\n",
    "print(f\"{str_marxes = }, {sortec_str = }\")"
   ]
  },
  {
   "cell_type": "markdown",
   "metadata": {},
   "source": [
    "## Get Length with `len()`\n",
    "\n",
    "- python의 내장 함수\n",
    "\n",
    "- sequence 내의 항목 전체 갯수 반환"
   ]
  },
  {
   "cell_type": "code",
   "execution_count": 53,
   "metadata": {},
   "outputs": [
    {
     "name": "stdout",
     "output_type": "stream",
     "text": [
      "len(marxes) = 3\n"
     ]
    }
   ],
   "source": [
    "marxes = ['Groucho', 'Chico', 'Harpo']\n",
    "print(f\"{len(marxes) = }\")"
   ]
  },
  {
   "cell_type": "markdown",
   "metadata": {},
   "source": [
    "## Assign with `=`\n",
    "\n",
    "- 하나의 리스트를 변수 두개에 할당"
   ]
  },
  {
   "cell_type": "code",
   "execution_count": 54,
   "metadata": {},
   "outputs": [
    {
     "name": "stdout",
     "output_type": "stream",
     "text": [
      "id(a) = 4372645952, [1, 2, 3]\n",
      "id(b) = 4372645952, b = [1, 2, 3]\n",
      "\n",
      "id(a) = 4372645952, ['surprise', 2, 3]\n",
      "id(b) = 4372645952, b = ['surprise', 2, 3]\n",
      "\n",
      "id(a) = 4372645952, ['surprise', 2, 'I hate surprise']\n",
      "id(b) = 4372645952, b = ['surprise', 2, 'I hate surprise']\n",
      "\n"
     ]
    }
   ],
   "source": [
    "a = [1, 2, 3]\n",
    "b = a\n",
    "print(f\"\"\"{id(a) = }, {a}\n",
    "{id(b) = }, {b = }\n",
    "\"\"\")\n",
    "\n",
    "a[0] = 'surprise'\n",
    "print(f\"\"\"{id(a) = }, {a}\n",
    "{id(b) = }, {b = }\n",
    "\"\"\")\n",
    "\n",
    "b[2] = 'I hate surprise'\n",
    "print(f\"\"\"{id(a) = }, {a}\n",
    "{id(b) = }, {b = }\n",
    "\"\"\")\n"
   ]
  },
  {
   "cell_type": "markdown",
   "metadata": {},
   "source": [
    "## Copy with copy(), list(), or a Slice\n",
    "\n",
    "- copy() : 리스트 내장함수로 원본 리스트의 내용을 복사해서 새로운 리스트를 만들어서 반환\n",
    "\n",
    "- list() : sequence를 list로 변환하는 함수\n",
    "\n",
    "- slice : 원본 리스트를 모두 슬라이스 해서 새로운 리스트로 만든다"
   ]
  },
  {
   "cell_type": "code",
   "execution_count": 54,
   "metadata": {},
   "outputs": [
    {
     "name": "stdout",
     "output_type": "stream",
     "text": [
      "id(a) = 4374699648,\n",
      "id(b) = 4374732608,\n",
      "id(c) = 4374683136,\n",
      "id(d) = 4374682944\n"
     ]
    }
   ],
   "source": [
    "a = [1, 2, 3]\n",
    "b = a.copy()\n",
    "c = list(a)\n",
    "d = a[:]\n",
    "print(f\"\"\"{id(a) = },\n",
    "{id(b) = },\n",
    "{id(c) = },\n",
    "{id(d) = }\"\"\")"
   ]
  },
  {
   "cell_type": "code",
   "execution_count": 55,
   "metadata": {},
   "outputs": [
    {
     "name": "stdout",
     "output_type": "stream",
     "text": [
      "a = ['list is mutable', 2, 3],\n",
      "b = [1, 2, 3],\n",
      "c = [1, 2, 3],\n",
      "d = [1, 2, 3]\n"
     ]
    }
   ],
   "source": [
    "a[0] = \"list is mutable\"\n",
    "print(f\"\"\"{a = },\n",
    "{b = },\n",
    "{c = },\n",
    "{d = }\"\"\")\n"
   ]
  },
  {
   "cell_type": "markdown",
   "metadata": {},
   "source": [
    "## Copy Everything with deepcopy()\n",
    "\n",
    "- 리스트의 값이 모두 불변(immutable)이면 copy는 제대로 동작한다\n",
    "\n",
    "- 리스트의 값 중 리스트, 딕셔너리와 같은 가변 객체가 있다면 의도와 다르게 동작한다"
   ]
  },
  {
   "cell_type": "code",
   "execution_count": 56,
   "metadata": {},
   "outputs": [
    {
     "name": "stdout",
     "output_type": "stream",
     "text": [
      "id(a) = 4374678528, a = [1, 2, [8, 9]]\n",
      "id(b) = 4374481088, b = [1, 2, [8, 9]]\n",
      "id(c) = 4374690240, c = [1, 2, [8, 9]]\n",
      "id(d) = 4374688384, d = [1, 2, [8, 9]]\n"
     ]
    }
   ],
   "source": [
    "a = [1, 2, [8, 9]]\n",
    "b = a.copy()\n",
    "c = list(a)\n",
    "d = a[:]\n",
    "print(f\"\"\"{id(a) = }, {a = }\n",
    "{id(b) = }, {b = }\n",
    "{id(c) = }, {c = }\n",
    "{id(d) = }, {d = }\"\"\")"
   ]
  },
  {
   "cell_type": "code",
   "execution_count": 57,
   "metadata": {},
   "outputs": [
    {
     "name": "stdout",
     "output_type": "stream",
     "text": [
      "id(a) = 4374678528, id(a[2]) = 4374072192, a = [1, 2, [10, 9]]\n",
      "id(b) = 4374481088, id(b[2]) = 4374072192, b = [1, 2, [10, 9]]\n",
      "id(c) = 4374690240, id(c[2]) = 4374072192, c = [1, 2, [10, 9]]\n",
      "id(d) = 4374688384, id(d[2]) = 4374072192, d = [1, 2, [10, 9]]\n"
     ]
    }
   ],
   "source": [
    "# 2번째 항목은 리스트, 2번째 항목의 리스트의 0번째 항목을 변경\n",
    "a[2][0] = 10\n",
    "print(f\"\"\"{id(a) = }, {id(a[2]) = }, {a = }\n",
    "{id(b) = }, {id(b[2]) = }, {b = }\n",
    "{id(c) = }, {id(c[2]) = }, {c = }\n",
    "{id(d) = }, {id(d[2]) = }, {d = }\"\"\")"
   ]
  },
  {
   "cell_type": "markdown",
   "metadata": {},
   "source": [
    "- a[2]의 값은 리스트이며, 항목을 변경 가능\n",
    "\n",
    "- 이런 copy를 shallow copy(얕은 복사)라고 한다\n",
    "\n",
    "- 이 문제를 해결하기 위해서 deep copy(깊은 복사)메서드를 제공\n",
    "\n",
    "    - 리스트내부의 구조가 복잡하고, 원소의 갯수가 많을수록 시간이 오래 걸린다"
   ]
  },
  {
   "cell_type": "code",
   "execution_count": 59,
   "metadata": {},
   "outputs": [
    {
     "name": "stdout",
     "output_type": "stream",
     "text": [
      "id(a) = 4374682816, id(a[2]) = 4374676672, a = [1, 2, [8, 9]]\n",
      "id(b) = 4374581120, id(b[2]) = 4374676800, b = [1, 2, [8, 9]]\n",
      "id(a) = 4374682816, id(a[2]) = 4374676672, a = [1, 2, [10, 9]]\n",
      "id(b) = 4374581120, id(b[2]) = 4374676800, b = [1, 2, [8, 9]]\n"
     ]
    }
   ],
   "source": [
    "import copy\n",
    "a = [1, 2, [8, 9]]\n",
    "b = copy.deepcopy(a)\n",
    "print(f\"\"\"{id(a) = }, {id(a[2]) = }, {a = }\n",
    "{id(b) = }, {id(b[2]) = }, {b = }\"\"\")\n",
    "\n",
    "a[2][0] = 10\n",
    "print(f\"\"\"{id(a) = }, {id(a[2]) = }, {a = }\n",
    "{id(b) = }, {id(b[2]) = }, {b = }\"\"\")"
   ]
  },
  {
   "cell_type": "markdown",
   "metadata": {},
   "source": [
    "## Compare Lists\n",
    "\n",
    "- 튜플의 compare와 동일하게 동작\n",
    "\n",
    "## Iterate with `for` and `in`\n",
    "\n",
    "- 튜플의 for in문과 동일하게 동작"
   ]
  },
  {
   "cell_type": "markdown",
   "metadata": {},
   "source": [
    "## Iterate Multiple Sequences with zip()\n",
    "\n",
    "- 여러 시퀀스를 병렬로 순회\n",
    "\n",
    "- 가장 짧은 리스트가 기준"
   ]
  },
  {
   "cell_type": "code",
   "execution_count": 60,
   "metadata": {},
   "outputs": [
    {
     "name": "stdout",
     "output_type": "stream",
     "text": [
      "Monday : drink coffee - eat banana - enjoy tiramisu\n",
      "Tuesday : drink tea - eat orange - enjoy ice cream\n",
      "Wednesday : drink beer - eat peach - enjoy pie\n"
     ]
    }
   ],
   "source": [
    "days = ['Monday', 'Tuesday', 'Wednesday']\n",
    "fruits = ['banana', 'orange', 'peach']\n",
    "drinks = ['coffee', 'tea', 'beer']\n",
    "desserts = ['tiramisu', 'ice cream', 'pie', 'pudding'] # 4개의 원소가 있지만, days, fruits, drinks는 3개의 원소만 있다.\n",
    "\n",
    "for day, fruit, drink, dessert in zip(days, fruits, drinks, desserts):\n",
    "\tprint(day, \": drink\", drink, \"- eat\", fruit, \"- enjoy\", dessert)"
   ]
  },
  {
   "cell_type": "code",
   "execution_count": 61,
   "metadata": {},
   "outputs": [
    {
     "name": "stdout",
     "output_type": "stream",
     "text": [
      "type(zip_dictionary) = <class 'zip'>, zip_dictionary = <zip object at 0x104c0a5c0>\n",
      "[('Monday', 'Lundi'), ('Tuesday', 'Mardi'), ('Wednesday', 'Mercredi')]\n",
      "{}\n",
      "{'Monday': 'Lundi', 'Tuesday': 'Mardi', 'Wednesday': 'Mercredi'}\n"
     ]
    }
   ],
   "source": [
    "english = ('Monday', 'Tuesday', 'Wednesday')\n",
    "french = ['Lundi', 'Mardi', 'Mercredi']\n",
    "zip_dictionary = zip(english, french) # 지연 실행 객체\n",
    "print(f\"{type(zip_dictionary) = }, {zip_dictionary = }\")\n",
    "print(list(zip_dictionary))\n",
    "\n",
    "print(dict(zip_dictionary)) # zip 객체는 한번 소비하면 재사용 불가능\n",
    "\n",
    "zip_dictionary = zip(english, french)\n",
    "print(dict(zip_dictionary))"
   ]
  },
  {
   "cell_type": "markdown",
   "metadata": {},
   "source": [
    "## Create a List with a Comprehension\n",
    "\n",
    "- List Comprehesion, 지능형 리스트 라고 말한다.\n",
    "\n",
    "- for in문의 순회 기능이 있는 list의 표현식"
   ]
  },
  {
   "cell_type": "code",
   "execution_count": 62,
   "metadata": {},
   "outputs": [
    {
     "name": "stdout",
     "output_type": "stream",
     "text": [
      "[1, 2, 3, 4, 5]\n"
     ]
    }
   ],
   "source": [
    "# list 1 to 5 \n",
    "number_list = []\n",
    "number_list.append(1)\n",
    "number_list.append(2)\n",
    "number_list.append(3)\n",
    "number_list.append(4)\n",
    "number_list.append(5)\n",
    "print(number_list)\n",
    "\n",
    "number_list = []\n",
    "for number in range(1, 6):\n",
    "    number_list.append(number)\n",
    "print(number_list)\n",
    "\n",
    "# 제일 많이 쓰는 방법\n",
    "number_list = list(range(1, 6))\n",
    "print(number_list)"
   ]
  },
  {
   "cell_type": "markdown",
   "metadata": {},
   "source": [
    "- 리스트 컴프리헨션을 쓰는것이 조금 더 파이써닉한 방식이다.\n",
    "  \n",
    "    - `[expression for item in iterable]`\n",
    "  \n",
    "    - `[표현식 for 항목 in 순회 가능한 객체]`"
   ]
  },
  {
   "cell_type": "code",
   "execution_count": 78,
   "metadata": {},
   "outputs": [
    {
     "name": "stdout",
     "output_type": "stream",
     "text": [
      "[1, 2, 3, 4, 5]\n"
     ]
    }
   ],
   "source": [
    "number_list = [number for number in range(1,6)]\n",
    "print(number_list)"
   ]
  },
  {
   "cell_type": "code",
   "execution_count": 63,
   "metadata": {},
   "outputs": [
    {
     "name": "stdout",
     "output_type": "stream",
     "text": [
      "[1, 4, 9, 16, 25]\n",
      "['1', '4', '9', '16', '25']\n"
     ]
    }
   ],
   "source": [
    "\n",
    "# 표현식 자리에는 연산자, 함수를 사용할수 있다\n",
    "number_list = [number * number for number in range(1,6)]\n",
    "print(number_list)\n",
    "\n",
    "number_list = [str(number * number) for number in range(1,6)]\n",
    "print(number_list)"
   ]
  },
  {
   "cell_type": "markdown",
   "metadata": {},
   "source": [
    "- 리스트 컴프리헨션은 중첩이 가능하다\n",
    "  \n",
    "  ![list_comprehension](./images/list_comp.png)"
   ]
  },
  {
   "cell_type": "code",
   "execution_count": 64,
   "metadata": {},
   "outputs": [
    {
     "name": "stdout",
     "output_type": "stream",
     "text": [
      "(1, 1)\n",
      "(1, 2)\n",
      "(2, 1)\n",
      "(2, 2)\n",
      "(3, 1)\n",
      "(3, 2)\n"
     ]
    }
   ],
   "source": [
    "# (1, 1) ~ (4, 3)까지 출력\n",
    "# 이중 for 문\n",
    "rows = range(1,4)\n",
    "cols = range(1,3)\n",
    "for row in rows:\n",
    "\tfor col in cols:\n",
    "\t\tprint(f\"{(row, col, )}\")"
   ]
  },
  {
   "cell_type": "code",
   "execution_count": 65,
   "metadata": {},
   "outputs": [
    {
     "name": "stdout",
     "output_type": "stream",
     "text": [
      "(1, 1)\n",
      "(1, 2)\n",
      "(2, 1)\n",
      "(2, 2)\n",
      "(3, 1)\n",
      "(3, 2)\n",
      "row = 1, col = 1\n",
      "row = 1, col = 2\n",
      "row = 2, col = 1\n",
      "row = 2, col = 2\n",
      "row = 3, col = 1\n",
      "row = 3, col = 2\n"
     ]
    }
   ],
   "source": [
    "\n",
    "# 컴프리헨션 사용\n",
    "rows = range(1,4)\n",
    "cols = range(1,3)\n",
    "\n",
    "cells = [(row, col) for row in rows \n",
    "                    for col in cols]\n",
    "\n",
    "for cell in cells:\n",
    "\tprint(cell)\n",
    "\n",
    "# 튜플 언패킹\n",
    "for row, col in cells:\n",
    "\tprint(f\"{row = }, {col = }\")"
   ]
  },
  {
   "cell_type": "markdown",
   "metadata": {},
   "source": [
    "## Lists of Lists\n",
    "\n",
    "- 리스트 안에 리스트를 항목으로 넣을수 있다"
   ]
  },
  {
   "cell_type": "code",
   "execution_count": 66,
   "metadata": {},
   "outputs": [
    {
     "name": "stdout",
     "output_type": "stream",
     "text": [
      "[['hummingbird', 'finch'], ['dodo', 'passenger pigeon', 'Norwegian Blue'], 'macaw', [3, 'French hens', 2, 'turtledoves']]\n"
     ]
    }
   ],
   "source": [
    "small_birds = ['hummingbird', 'finch']\n",
    "extinct_birds = ['dodo', 'passenger pigeon', 'Norwegian Blue']\n",
    "carol_birds = [3, 'French hens', 2, 'turtledoves']\n",
    "all_birds = [small_birds, extinct_birds, 'macaw', carol_birds]\n",
    "\n",
    "print(all_birds)"
   ]
  },
  {
   "cell_type": "markdown",
   "metadata": {},
   "source": []
  },
  {
   "cell_type": "markdown",
   "metadata": {},
   "source": [
    "# Tuples Versus Lists\n",
    "\n",
    "\n",
    "| 특징               | **List**                              | **Tuple**                              |\n",
    "|--------------------|---------------------------------------|----------------------------------------|\n",
    "| **가변성 (Mutability)** | 가변적 (요소를 변경, 추가, 삭제 가능)     | 불변적 (요소를 변경, 추가, 삭제 불가능)  |\n",
    "| **문법**            | `[ ]` 대괄호 사용                      | `( )` 소괄호 사용                      |\n",
    "| **성능**            | 요소 추가 및 삭제에 시간이 더 소요됨         | 불변성이므로 성능이 더 좋음                |\n",
    "| **메모리 사용**      | 더 많은 메모리를 사용함                   | 더 적은 메모리를 사용함                   |\n",
    "| **용도**            | 데이터가 자주 변경될 때 사용               | 데이터가 고정되거나 변경되지 않을 때 사용  |\n",
    "| **내장 메서드**      | 다양한 메서드 제공 (`append`, `remove` 등) | 제한된 메서드 제공 (`count`, `index`만 지원) |\n",
    "| **복사**            | 얕은 복사 시 원본 영향 가능               | 얕은 복사 시 원본 영향 없음                |\n"
   ]
  },
  {
   "cell_type": "markdown",
   "metadata": {},
   "source": [
    "# Tuples Are Not Just Immutable Lists\n",
    "\n",
    "- 불변 리스트\n",
    "\n",
    "- 필드명이 없는 레코드\n",
    "  \n",
    "    - 튜플의 각 항목은 레코드의 필드(attribute value) 하나를 의미\n",
    "  \n",
    "    ![attribute](./images/attr.png)\n",
    "\n",
    "    - tuple의 항목 순서가 의미를 갖게 된다.\n",
    "\n",
    "    - unpacking 을 활용한 데이터 처리"
   ]
  },
  {
   "cell_type": "code",
   "execution_count": 68,
   "metadata": {},
   "outputs": [
    {
     "name": "stdout",
     "output_type": "stream",
     "text": [
      "latitude = 33.9425, longitude = -118.408056\n",
      "city = 'Tokyo', year = 2003, pop = 32450, chg = 0.66, area = 8014\n",
      "country_code = 'BRA', passport_number = 'CE342567'\n",
      "country_code = 'ESP', passport_number = 'XDA205856'\n",
      "country_code = 'USA', passport_number = '31195855'\n",
      "                |  latitude | longitude\n",
      "Mexico City     |   19.4333 |  -99.1333\n",
      "New York-Newark |   40.8086 |  -74.0204\n",
      "São Paulo       |  -23.5478 |  -46.6358\n"
     ]
    }
   ],
   "source": [
    "lax_coordinates = (33.9425, -118.408056) # LA 국제 공항의 위도와 경도\n",
    "latitude, longitude = lax_coordinates # 튜플 언패킹\n",
    "print(f\"{latitude = }, {longitude = }\")\n",
    "\n",
    "# 도쿄에 대한 데이터\n",
    "# 도시이름, 측정연도, 백만단위 인구수, 인구변화율, 제곰킬로미터 단위 면적\n",
    "city, year, pop, chg, area = ('Tokyo', 2003, 32_450, 0.66, 8014)\n",
    "print(f\"{city = }, {year = }, {pop = }, {chg = }, {area = }\") \n",
    "\n",
    "# 국가코드와 여권번호의 튜플을 저장하는 리스트\n",
    "traveler_ids = [\n",
    "\t('USA', '31195855'), \n",
    "\t('BRA', 'CE342567'), \n",
    "\t('ESP', 'XDA205856')\n",
    "]\n",
    "for country_code, passport_number in sorted(traveler_ids):\n",
    "\tprint(f\"{country_code = }, {passport_number = }\")"
   ]
  },
  {
   "cell_type": "code",
   "execution_count": 69,
   "metadata": {},
   "outputs": [
    {
     "name": "stdout",
     "output_type": "stream",
     "text": [
      "                |  latitude | longitude\n",
      "Mexico City     |   19.4333 |  -99.1333\n",
      "New York-Newark |   40.8086 |  -74.0204\n",
      "São Paulo       |  -23.5478 |  -46.6358\n"
     ]
    }
   ],
   "source": [
    "# 리스트와 튜플로 데이터 저장\n",
    "# 도시별 철도 정보\n",
    "# 도시 이름, 국가 코드, 평균 이용자 수, 위치 좌표의 쌍\n",
    "metro_areas = [\n",
    "    ('Tokyo', 'JP', 36.933, (35.689722, 139.691667)),\n",
    "    ('Delhi NCR', 'IN', 21.935, (28.613889, 77.208889)),\n",
    "    ('Mexico City', 'MX', 20.142, (19.433333, -99.133333)),\n",
    "    ('New York-Newark', 'US', 20.104, (40.808611, -74.020386)),\n",
    "    ('São Paulo', 'BR', 19.649, (-23.547778, -46.635833)),\n",
    "]\n",
    "\n",
    "print(f'{\"\":15} | {\"latitude\":>9} | {\"longitude\":>9}')\n",
    "# 언패킹하고 필요없는 값은 _로 할당해서 사용하지 않는다.\n",
    "for name, _, _, (lat, lon) in metro_areas:\n",
    "\tif lon <= 0:  # 서반구의 값\n",
    "\t\tprint(f'{name:15} | {lat:9.4f} | {lon:9.4f}')"
   ]
  },
  {
   "cell_type": "markdown",
   "metadata": {},
   "source": [
    "## Unpacking Sequences and Iterables"
   ]
  },
  {
   "cell_type": "code",
   "execution_count": 70,
   "metadata": {},
   "outputs": [
    {
     "name": "stdout",
     "output_type": "stream",
     "text": [
      "latitude = 33.9425, longitude = -118.408056\n",
      "a = 0, b = 1, rest = [2, 3, 4]\n",
      "a = 0, b = 1, rest = [2]\n",
      "a = 0, b = 1, rest = []\n",
      "a = 0, body = [1, 2], c = 3, d = 4\n",
      "head = [0, 1], b = 2, c = 3, d = 4\n"
     ]
    }
   ],
   "source": [
    "# 튜플의 언패킹\n",
    "lax_coordinates = (33.9425, -118.408056) # LA 국제 공항의 위도와 경도\n",
    "latitude, longitude = lax_coordinates # 튜플 언패킹\n",
    "print(f\"{latitude = }, {longitude = }\")\n",
    "\n",
    "a, b, *rest = range(5)\n",
    "print(f\"{a = }, {b = }, {rest = }\")\n",
    "\n",
    "a, b, *rest = range(3)\n",
    "print(f\"{a = }, {b = }, {rest = }\")\n",
    "\n",
    "a, b, *rest = range(2)\n",
    "print(f\"{a = }, {b = }, {rest = }\")\n",
    "\n",
    "a, *body, c, d = range(5)\n",
    "print(f\"{a = }, {body = }, {c = }, {d = }\")\n",
    "\n",
    "*head, b, c, d = range(5)\n",
    "print(f\"{head = }, {b = }, {c = }, {d = }\")"
   ]
  },
  {
   "cell_type": "markdown",
   "metadata": {},
   "source": [
    "# Builtin function : Sum\n",
    "\n",
    "- [Sum 함수 설명문서](https://docs.python.org/3/library/functions.html#sum)\n",
    "\n",
    "- 이터러블의 시작과 항목을 왼쪽에서 오른쪽으로 합산하여 합계를 반환합니다.\n",
    "\n",
    "- 이터러블의 항목은 일반적으로 숫자이며, 시작 값은 문자열이 될 수 없습니다."
   ]
  },
  {
   "cell_type": "code",
   "execution_count": 71,
   "metadata": {},
   "outputs": [
    {
     "name": "stdout",
     "output_type": "stream",
     "text": [
      "sum(a) = 5050\n",
      "sum(tuple(a)) = 5050\n",
      "sum(range(1, 101)) = 5050\n",
      "str_a = '123456789101112131415161718192021222324252627282930313233343536373839404142434445464748495051525354555657585960616263646566676869707172737475767778798081828384858687888990919293949596979899100'\n",
      "sum(map(int, str_a)) = 901\n",
      "sum([int(num) for num in str_a]) = 901\n",
      "<class 'generator'>\n",
      "sum(number_thing) = 5050\n"
     ]
    }
   ],
   "source": [
    "# 1~100까지의 합\n",
    "a = list(range(1, 101)) \n",
    "print(f\"{sum(a) = }\")               # 리스트로 변환해서 sum 함수를 사용\n",
    "print(f\"{sum(tuple(a)) = }\")        # 튜플로 변환해서 sum 함수를 사용\n",
    "print(f\"{sum(range(1, 101)) = }\")   # range 객체를 사용\n",
    "\n",
    "str_a = \"\".join(map(str, a))        # 리스트를 문자열로 변환\n",
    "print(f\"{str_a = }\")\n",
    "# 문자열은 sum을 사용할 수 없다.\n",
    "# print(f\"{sum(str_a) = }\")\n",
    "# 다만 map 함수, 또는 list comprehension을 이용해서 리스트로 변환하면 가능하다.\n",
    "print(f\"{sum(map(int, str_a)) = }\") # map 함수를 사용해서 문자열을 숫자로 변환하고 sum 함수를 사용\n",
    "print(f\"{sum([int(num) for num in str_a]) = }\") # list comprehension을 사용해서 문자열을 숫자로 변환하고 sum 함수를 사용\n"
   ]
  },
  {
   "cell_type": "code",
   "execution_count": 73,
   "metadata": {},
   "outputs": [
    {
     "name": "stdout",
     "output_type": "stream",
     "text": [
      "<class 'generator'>\n",
      "sum(number_thing) = 5050\n"
     ]
    }
   ],
   "source": [
    "# There Are No Tuple Comprehensions\n",
    "# generator도 동작한다.\n",
    "number_thing = (number for number in range(1, 101))\n",
    "print(type(number_thing))\n",
    "print(f\"{sum(number_thing) = }\")\n"
   ]
  },
  {
   "cell_type": "code",
   "execution_count": null,
   "metadata": {},
   "outputs": [],
   "source": []
  }
 ],
 "metadata": {
  "kernelspec": {
   "display_name": "python-class",
   "language": "python",
   "name": "python3"
  },
  "language_info": {
   "codemirror_mode": {
    "name": "ipython",
    "version": 3
   },
   "file_extension": ".py",
   "mimetype": "text/x-python",
   "name": "python",
   "nbconvert_exporter": "python",
   "pygments_lexer": "ipython3",
   "version": "3.11.8"
  }
 },
 "nbformat": 4,
 "nbformat_minor": 2
}
