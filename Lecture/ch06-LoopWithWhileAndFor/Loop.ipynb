{
 "cells": [
  {
   "cell_type": "markdown",
   "id": "000055da",
   "metadata": {},
   "source": [
    "# Overview\n",
    "\n",
    "- 반복 작업이 필요할때 사용\n",
    "\n",
    "- 반복문의 종류\n",
    "\n",
    "  - for : 종료 조건이 명확할때 사용\n",
    "\n",
    "  - while : 종료 조건이 내부 연산에 따라 바뀌거나 할때 사용하면 조금 더 명확하다. \n"
   ]
  },
  {
   "cell_type": "markdown",
   "id": "b5cee176",
   "metadata": {},
   "source": [
    "# Repeat with while\n",
    "\n",
    "```python\n",
    "while condition: \n",
    "    statement1\n",
    "    statement2\n",
    "```\n",
    "\n",
    "statement에 종료 조건을 위한 표현식(expression)이 있어야 함\n",
    "무한 루프 반복"
   ]
  },
  {
   "cell_type": "code",
   "execution_count": null,
   "id": "97ec9159",
   "metadata": {},
   "outputs": [],
   "source": [
    "# 나무를 10번 찍어야 넘어간다\n",
    "\n",
    "treeHit = 0\n",
    "while treeHit < 10:\n",
    "    treeHit = treeHit + 1  # = treeHit += 1, treeHit++이 없다\n",
    "    print(\"나무를 %d번 찍었습니다.\" % treeHit)\n",
    "    if treeHit == 10:\n",
    "        print(\"나무 넘어갑니다.\")"
   ]
  },
  {
   "cell_type": "markdown",
   "id": "34c5f700",
   "metadata": {},
   "source": [
    "**while문의 동작 방법**\n",
    "\n",
    "|treeHit | 조건문 | 조건 판단 | 수행하는 문장 | while문 |\n",
    "|---     |---   |---      |---         |---     |\n",
    "|0 | 0 < 10\t | 참 |\t나무를 1번 찍었습니다. (treeHit += 1)\t| 반복 |\n",
    "|1 | 1 < 10\t | 참 |\t나무를 2번 찍었습니다. (treeHit += 1)\t| 반복 |\n",
    "|2 | 2 < 10\t | 참 |\t나무를 3번 찍었습니다. (treeHit += 1)\t| 반복 |\n",
    "|3 | 3 < 10\t | 참 |\t나무를 4번 찍었습니다. (treeHit += 1)\t| 반복 |\n",
    "|4 | 4 < 10\t | 참 |\t나무를 5번 찍었습니다. (treeHit += 1)\t| 반복 |\n",
    "|5 | 5 < 10\t | 참 |\t나무를 6번 찍었습니다. (treeHit += 1)\t| 반복 |\n",
    "|6 | 6 < 10\t | 참 |\t나무를 7번 찍었습니다. (treeHit += 1)\t| 반복 |\n",
    "|7 | 7 < 10\t | 참 |\t나무를 8번 찍었습니다. (treeHit += 1)\t| 반복 |\n",
    "|8 | 8 < 10\t | 참 |\t나무를 9번 찍었습니다. (treeHit += 1)\t| 반복 |\n",
    "|9 | 9 < 10\t | 참 |\t나무를 10번 찍었습니다. 나무 넘어갑니다. (treeHit += 1) | 반복 |\n",
    "|10 | 10 < 10 | 거짓 |\t| 종료 |"
   ]
  },
  {
   "cell_type": "markdown",
   "id": "c062b852",
   "metadata": {},
   "source": [
    "## break 문의 사용\n",
    "\n",
    "반복문 실행시 특정 조건일 경우 반복을 **종료** 한다"
   ]
  },
  {
   "cell_type": "code",
   "execution_count": 2,
   "id": "44511a42",
   "metadata": {},
   "outputs": [],
   "source": [
    "while True:\n",
    "\tstuff = input(\"String to capitalize [type q to quit]: \")\n",
    "\tif stuff == \"q\":\n",
    "\t\tbreak\n",
    "\tprint(stuff.capitalize())"
   ]
  },
  {
   "cell_type": "markdown",
   "id": "d02eaefc",
   "metadata": {},
   "source": [
    "#### [문제 #1] \n",
    "\n",
    "커피를 10잔만 파는 자판기가 있다 1잔에 300원일 경우 현금을 받아서 커피를 준다고 했을때, 아래의 조건을 만족하는 프로그램을 만들어라. \n",
    "\n",
    "``` text\n",
    "    1. 현금을 받는건 input 함수를 이용해서 입력 받는다.\n",
    "    2. 300원 이상이면 거스름돈과 함께 커피를 준다\n",
    "    3. 300원 이면 커피만 준다\n",
    "    4. 300원 미만이면 동전이 부족하다고 출력하고, 돈을 반환한다.\n",
    "    5. 커피가 다 떨어지면 종료한다\n",
    "\n",
    "```\n"
   ]
  },
  {
   "cell_type": "code",
   "execution_count": null,
   "id": "78f17d77-b1e0-4e7a-b855-3fb1764c862a",
   "metadata": {},
   "outputs": [],
   "source": [
    "# money 값 입력받기\n",
    "coffee_count = 10\n",
    "coffee_price = 300\n",
    "\n"
   ]
  },
  {
   "cell_type": "markdown",
   "id": "8c7b6260",
   "metadata": {},
   "source": [
    "## Skip Ahead with continue\n",
    "\n",
    "반복을 수행중에, 어떤 때는 반복을 수행하지 않고 다음으로 넘어가야 할 때 사용\n",
    "\n",
    "인위적으로 반복을 건너뛸때 사용한다."
   ]
  },
  {
   "cell_type": "code",
   "execution_count": null,
   "id": "b99f766e",
   "metadata": {},
   "outputs": [],
   "source": [
    "# 입력받은 숫자가 홀수일경우에만 제곱을 하는 연산\n",
    "while True:\n",
    "\tvalue = input(\"Integer, please [q to quit]: \")\n",
    "\tif value == 'q':      # quit\n",
    "\t\tbreak\n",
    "\tnumber = int(value)\n",
    "\tif number % 2 == 0:   # 짝수일경우에는 반복을 하지 않음\n",
    "\t\tcontinue\n",
    "\tprint(number, \"squared is\", number*number)"
   ]
  },
  {
   "cell_type": "markdown",
   "id": "7c383408",
   "metadata": {},
   "source": [
    "#### [문제 #2] \n",
    "\n",
    "커피를 10잔을 파는 자판기가 있다. 1잔에 300원일 경우 현금을 받아서 커피를 준다고 했을때, 아래의 조건을 만족하는 프로그램을 만들어라. \n",
    "\n",
    "```text\n",
    "    1. 현금을 받는건 input 함수를 이용해서 입력 받는다.\n",
    "    2. 300원 이상이면 거스름돈과 함께 커피를 준다\n",
    "    3. 300원 이면 커피만 준다\n",
    "    4. 300원 미만이면 동전이 부족하다고 출력하고, 돈을 반환한다.\n",
    "    5. 커피가 다 떨어지면 커피를 다시 채웠는지 확인한다. (커피를 채웠는지 여부는 관리자에게 입력받는다.)\n",
    "    6. 커피가 다시 채워졌으면, 판매를 계속하고 커피가 채워지지 않았으면 판매를 종료한다\n",
    "\n",
    "```"
   ]
  },
  {
   "cell_type": "code",
   "execution_count": null,
   "id": "48c1866d",
   "metadata": {},
   "outputs": [],
   "source": [
    "# money 값 입력받기\n",
    "coffee_count = 10\n",
    "coffee_price = 300\n"
   ]
  },
  {
   "cell_type": "markdown",
   "id": "e2983a39",
   "metadata": {},
   "source": [
    "## Check break Use with else\n",
    "\n",
    "break문이 실행이 안되면 else문 실행\n",
    "\n",
    "거의 사용하지 않는다\n",
    "\n",
    "```python\n",
    "numbers = [1, 3, 5]\n",
    "position = 0\n",
    "while position < len(numbers):\n",
    "\tnumber = numbers[position]\n",
    "\tif number % 2 == 0:\n",
    "\t\tprint('Found even number', number)\n",
    "\t\tbreak\n",
    "\tposition += 1\n",
    "else:  # break not called\n",
    "\tprint('No even number found')\n",
    "```"
   ]
  },
  {
   "cell_type": "markdown",
   "id": "4fd0b9cb",
   "metadata": {},
   "source": [
    "# Iterate with for and in (for in 문)\n",
    "\n",
    "파이썬에서 iterator는 유용하게 자주 쓰인다.\n",
    "\n",
    "- iterator : iterable을 반복시키기 위한 연산자\n",
    "- iterable : 반복이 가능한 형태의  파이썬의 컬렉션은 모두 iterable이다.\n",
    "\n",
    "우리가 현재까지 배운 파이썬 iterable은 text string 뿐이라 문자열로 순회하는 방법을 살펴본다"
   ]
  },
  {
   "cell_type": "code",
   "execution_count": 5,
   "id": "cd095070-1563-4020-8f5e-da886cf497cc",
   "metadata": {},
   "outputs": [
    {
     "name": "stdout",
     "output_type": "stream",
     "text": [
      "t\n",
      "h\n",
      "u\n",
      "d\n"
     ]
    }
   ],
   "source": [
    "word = 'thud'\n",
    "offset = 0\n",
    "while offset < len(word):\n",
    "\tprint(word[offset])\n",
    "\toffset += 1"
   ]
  },
  {
   "cell_type": "markdown",
   "id": "3bc1f363",
   "metadata": {},
   "source": [
    "파이썬스럽게 (Pythonic way) for in문을 이용\n",
    "\n",
    "in 뒤에는 iterable 한 객체면 뭐든 가능\n",
    "\n",
    "for 뒤에는 iterable한 객체의 하나의 요소(item)를 받을 수 있는 변수 할당"
   ]
  },
  {
   "cell_type": "code",
   "execution_count": 9,
   "id": "086de440-7a04-40eb-9605-317597ee93a7",
   "metadata": {},
   "outputs": [
    {
     "name": "stdout",
     "output_type": "stream",
     "text": [
      "t\n",
      "h\n",
      "u\n",
      "d\n"
     ]
    }
   ],
   "source": [
    "word = 'thud'\n",
    "for letter in word:\n",
    "\tprint(letter)\n",
    "\n",
    "# 더 간편한 방법\n",
    "#print(*word, sep='\\n')"
   ]
  },
  {
   "cell_type": "markdown",
   "id": "4d56070f",
   "metadata": {},
   "source": [
    "## Break와 Continue\n",
    "\n",
    "for 문의 break와 continue는 while문의 break와 continue 문과 똑같이 동작한다\n",
    "\n",
    "```python\n",
    "word = 'thud'\n",
    "for letter in word:\n",
    "\tif letter == 'u':\n",
    "\t\tbreak\n",
    "\tif letter == 't':\n",
    "\t\tcontinue\n",
    "\tprint(letter)\n",
    "```"
   ]
  },
  {
   "cell_type": "markdown",
   "id": "400cecf0-12ab-4648-b9a8-865d7bb64901",
   "metadata": {},
   "source": [
    "## Check break Use with else\n",
    "\n",
    "for문에서 break문이 호출되지 않으면 else문이 실행된다.\n",
    "거의 사용하지 않는다.\n",
    "\n",
    "```python\n",
    "word = 'thud'\n",
    "for letter in word:\n",
    "\tif letter == 'x':\n",
    "\t\tprint(\"Eek! An 'x'!\")\n",
    "\t\tbreak\n",
    "\tprint(letter)\n",
    "else:\n",
    "\tprint(\"No 'x' in there.\")\n",
    "```"
   ]
  },
  {
   "cell_type": "markdown",
   "id": "cdf1ad2d",
   "metadata": {},
   "source": [
    "# Generate Number Sequences with range()\n",
    "- [range 문서](https://docs.python.org/3.11/library/stdtypes.html#typesseq-range)\n",
    "\n",
    "- range() : 특정범위내의 숫자 iterable을 만들어 준다\n",
    "\n",
    "- range([start=0], stop, [step=1])의 형태로 쓸수 있다. \n",
    "\n",
    "  - start : 옵션, 기본값 0\n",
    "  - stop : 필수, 범위의 마지막 다음값(element의 갯수)\n",
    "  - step : 옵션, 기본값 1, start와 stop 사이의 주기값, 슬라이스와 똑같이 동작\n"
   ]
  },
  {
   "cell_type": "code",
   "execution_count": null,
   "id": "3c72fd8c-d1e7-4282-aaef-fee18a811668",
   "metadata": {},
   "outputs": [],
   "source": [
    "# 0 ~ 2까지 출력\n",
    "for x in range(0,3):\n",
    "\tprint(x)\n",
    "\t\n",
    "# 10부터 0까지 역순으로 출력\n",
    "for x in range(10, -1, -1):\n",
    "\tprint(x)\n",
    "\n",
    "# 1~10 사이의 짝수 출력하기\n",
    "for x in range(1, 11):\n",
    "\tif x % 2 == 0:\n",
    "\t\tprint(x)\n",
    "\n",
    "# 1~10 사이의 짝수 출력하기\n",
    "for x in range(2, 11, 2):\n",
    "\tprint(x)"
   ]
  },
  {
   "cell_type": "code",
   "execution_count": 8,
   "id": "9c4f468e",
   "metadata": {},
   "outputs": [
    {
     "name": "stdout",
     "output_type": "stream",
     "text": [
      "a = range(0, 10), type(a) = <class 'range'>\n",
      "b = [0, 1, 2, 3, 4, 5, 6, 7, 8, 9], type(b) = <class 'list'>\n"
     ]
    }
   ],
   "source": [
    "# range는 호출시 값을 계산하는 방식이다. \n",
    "a = range(10)        # 연산 준비만 해두고 있다\n",
    "b = list(range(10))  # 값을 모두 계산해서 메모리에 저장\n",
    "\n",
    "print(f\"{a = }, {type(a) = }\")\n",
    "print(f\"{b = }, {type(b) = }\")"
   ]
  }
 ],
 "metadata": {
  "kernelspec": {
   "display_name": "Python 3 (ipykernel)",
   "language": "python",
   "name": "python3"
  },
  "language_info": {
   "codemirror_mode": {
    "name": "ipython",
    "version": 3
   },
   "file_extension": ".py",
   "mimetype": "text/x-python",
   "name": "python",
   "nbconvert_exporter": "python",
   "pygments_lexer": "ipython3",
   "version": "3.11.8"
  }
 },
 "nbformat": 4,
 "nbformat_minor": 5
}
