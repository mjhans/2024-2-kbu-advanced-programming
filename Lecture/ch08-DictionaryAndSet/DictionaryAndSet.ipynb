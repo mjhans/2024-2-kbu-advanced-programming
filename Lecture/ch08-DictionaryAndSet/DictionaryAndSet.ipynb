{
 "cells": [
  {
   "cell_type": "markdown",
   "metadata": {},
   "source": [
    "# Dictionary\n",
    "\n",
    "![dict_pic](./images/dict_pic3.jpeg)\n",
    "\n",
    "대응 관계 자료구조\n",
    "\n",
    "Key-Value 쌍을 갖는다.\n",
    "\n",
    "자바는 hashmap이라는 collections 패키지에 포함, 보통 Map 자료형이라고 한다.\n",
    "\n",
    "파이썬의 Dictionary는 json과 높은 호환성\n",
    "\n",
    "key값을 변경할수 없는 값만 가능 \n",
    "- List는 안됨\n",
    "- tuple 가능\n",
    "\n",
    "value는 어떤 데이터 형도 가능\n",
    "\n",
    "데이터를 담는 역할을한다.\n",
    "\n",
    "키는 중복될수 없다"
   ]
  },
  {
   "cell_type": "markdown",
   "metadata": {},
   "source": [
    "## Create with {}\n",
    "\n",
    "- Key와 Value의 쌍 여러 개 (Key : Value)가 { }로 둘러싸임\n",
    "- 각 요소는 쉼표(,)로 구분됨"
   ]
  },
  {
   "cell_type": "code",
   "execution_count": null,
   "metadata": {},
   "outputs": [],
   "source": [
    "empty_dict = {}\n",
    "\n",
    "bierce = {\n",
    "\t\"day\": \"A period of twenty-four hours, mostly misspent\",\n",
    "\t\"positive\": \"Mistaken at the top of one's voice\",\n",
    "\t\"misfortune\": \"The kind of fortune that never misses\",\n",
    "}"
   ]
  },
  {
   "cell_type": "markdown",
   "metadata": {},
   "source": [
    "## Create with dict()"
   ]
  },
  {
   "cell_type": "code",
   "execution_count": 1,
   "metadata": {},
   "outputs": [
    {
     "ename": "SyntaxError",
     "evalue": "invalid syntax. Perhaps you forgot a comma? (12910001.py, line 4)",
     "output_type": "error",
     "traceback": [
      "\u001b[0;36m  Cell \u001b[0;32mIn[1], line 4\u001b[0;36m\u001b[0m\n\u001b[0;31m    acme_customer = dict(first=\"Wile\", midd le=\"E\", last=\"Coyote\")\u001b[0m\n\u001b[0m                                       ^\u001b[0m\n\u001b[0;31mSyntaxError\u001b[0m\u001b[0;31m:\u001b[0m invalid syntax. Perhaps you forgot a comma?\n"
     ]
    }
   ],
   "source": [
    "acme_customer = dict(first=\"Wile\", middle=\"E\", last=\"Coyote\")\n",
    "\n",
    "# 키에 예약어 또는 공백이 없어야 한다.\n",
    "acme_customer = dict(first=\"Wile\", midd le=\"E\", last=\"Coyote\")\n",
    "\n",
    "acme_customer = dict(first=\"Wile\", middle=\"E\", def=\"Coyote\")"
   ]
  },
  {
   "cell_type": "markdown",
   "metadata": {},
   "source": [
    "## Convert with dict()\n",
    "\n",
    "두 값으로 이루어진 시퀀스를 딕셔너리로 변환할수 있다."
   ]
  },
  {
   "cell_type": "code",
   "execution_count": 3,
   "metadata": {},
   "outputs": [
    {
     "name": "stdout",
     "output_type": "stream",
     "text": [
      "lol={'a': 'b', 'c': 'd', 'e': 'f'}\n",
      "lot={'a': 'b', 'c': 'd', 'e': 'f'}\n",
      "tol={'a': 'b', 'c': 'd', 'e': 'f'}\n",
      "los={'a': 'b', 'c': 'd', 'e': 'f'}\n"
     ]
    }
   ],
   "source": [
    "lol = dict([ ['a', 'b'], ['c', 'd'], ['e', 'f'] ])\n",
    "print(f\"{lol=}\")\n",
    "\n",
    "lot = dict([ ('a', 'b'), ('c', 'd'), ('e', 'f') ])\n",
    "print(f\"{lot=}\")\n",
    "\n",
    "tol = dict(( ['a', 'b'], ['c', 'd'], ['e', 'f'] ))\n",
    "print(f\"{tol=}\")\n",
    "\n",
    "los = dict([ 'ab', 'cd', 'ef' ])\n",
    "print(f\"{los=}\")\n",
    "\n"
   ]
  },
  {
   "cell_type": "markdown",
   "metadata": {},
   "source": [
    "## Add or Change an Item\n",
    "\n",
    "### By [key]\n",
    "\n",
    "키에 참조되는 항목에 값을 할당하면\n",
    "\n",
    "- 키가 있는 경우 value 가 업데이트\n",
    "- 키가 없다면, 새로운 키 생성 후 value 추가"
   ]
  },
  {
   "cell_type": "code",
   "execution_count": 4,
   "metadata": {},
   "outputs": [],
   "source": [
    "pythons = {\n",
    "\t'Chapman': 'Graham',\n",
    "\t'Cleese': 'John',\n",
    "\t'Idle': 'Eric',\n",
    "\t'Jones': 'Terry',\n",
    "\t'Palin': 'Michael',\n",
    "}\n",
    "\n",
    "pythons['Gilliam'] = 'Gerry' # 키를 새로 생성\n",
    "\n",
    "pythons['Gilliam'] = 'Terry' # 기존 키 없데이트"
   ]
  },
  {
   "cell_type": "code",
   "execution_count": 5,
   "metadata": {},
   "outputs": [],
   "source": [
    "some_pythons = {\n",
    "\t'Graham': 'Chapman',\n",
    "\t'John': 'Cleese',\n",
    "\t'Eric': 'Idle',\n",
    "\t'Terry': 'Gilliam',\n",
    "\t'Michael': 'Palin',\n",
    "\t'Terry': 'Jones',      # 마지막에 설정된 값을 사용한다.\n",
    "}"
   ]
  },
  {
   "cell_type": "markdown",
   "metadata": {},
   "source": [
    "### By get()\n",
    "\n",
    "키가 없을 경우 에러 발생"
   ]
  },
  {
   "cell_type": "code",
   "execution_count": null,
   "metadata": {},
   "outputs": [],
   "source": [
    "some_pythons['John'] # Cleese가 나온다.\n",
    "some_pythons['Groucho'] # 에러 발생"
   ]
  },
  {
   "cell_type": "code",
   "execution_count": null,
   "metadata": {},
   "outputs": [],
   "source": [
    "# 키가 존재하는지 테스트한 뒤 키로 접근하는 방법이 있다.\n",
    "if 'Groucho' in some_pythons:\n",
    "\tsome_pythons['Groucho']\n",
    "else:\n",
    "\tprint('not exist key')"
   ]
  },
  {
   "cell_type": "code",
   "execution_count": null,
   "metadata": {},
   "outputs": [],
   "source": [
    "# get 함수를 이용해서 키가 없을 경우 default 값을 할당 하도록 한다.\n",
    "some_pythons.get('John')\n",
    "some_pythons.get('Groucho', 'Not a Python')\n",
    "some_pythons.get('Groucho') # 에러가 나지 않고 None을 반환"
   ]
  },
  {
   "cell_type": "markdown",
   "metadata": {},
   "source": [
    "## Get all items in Dictionary\n",
    "\n",
    "- 반환값은 리스트와 같이 메모리에 할당된 값이 아닌, iterable이다."
   ]
  },
  {
   "cell_type": "code",
   "execution_count": 7,
   "metadata": {},
   "outputs": [
    {
     "name": "stdout",
     "output_type": "stream",
     "text": [
      "signals.keys() = dict_keys(['green', 'yellow', 'red'])\n",
      "signals.values() = dict_values(['go', 'go faster', 'smile for the camera'])\n",
      "signals.items() = dict_items([('green', 'go'), ('yellow', 'go faster'), ('red', 'smile for the camera')])\n"
     ]
    }
   ],
   "source": [
    "signals = {'green': 'go', 'yellow': 'go faster', 'red': 'smile for the camera'}\n",
    "\n",
    "print(f\"{signals.keys() = }\") # 키값만 iterable로 반홤\n",
    "\n",
    "print(f\"{signals.values() = }\") # value만 iterable로 반환\n",
    "print(f\"{signals.items() = }\") # k, v 튜플로 구성된 iterable로 반환"
   ]
  },
  {
   "cell_type": "markdown",
   "metadata": {},
   "source": [
    "## Get Length with len()\n",
    "\n",
    "key-value 쌍의 값을 구할수 있다."
   ]
  },
  {
   "cell_type": "code",
   "execution_count": 8,
   "metadata": {},
   "outputs": [
    {
     "data": {
      "text/plain": [
       "3"
      ]
     },
     "execution_count": 8,
     "metadata": {},
     "output_type": "execute_result"
    }
   ],
   "source": [
    "len(signals)"
   ]
  },
  {
   "cell_type": "markdown",
   "metadata": {},
   "source": [
    "## Combine Dictionaries\n",
    "\n",
    "- 3.5 이상부터 가능한 방법 : Shallow Copy"
   ]
  },
  {
   "cell_type": "code",
   "execution_count": null,
   "metadata": {},
   "outputs": [],
   "source": [
    "first = {'a': 'agony', 'b': 'bliss'}\n",
    "second = {'b': 'bagels', 'c': 'candy'}\n",
    "combine = {**first, **second}"
   ]
  },
  {
   "cell_type": "markdown",
   "metadata": {},
   "source": [
    "- update 함수를 사용한 방법\n",
    "    - key와 value를 복사해서 다른 dict에 붙여준다"
   ]
  },
  {
   "cell_type": "code",
   "execution_count": 9,
   "metadata": {},
   "outputs": [],
   "source": [
    "pythons = {\n",
    "\t'Chapman': 'Graham',\n",
    "\t'Cleese': 'John',\n",
    "\t'Gilliam': 'Terry',\n",
    "\t'Idle': 'Eric',\n",
    "\t'Jones': 'Terry',\n",
    "\t'Palin': 'Michael',\n",
    "}\n",
    "others = { 'Marx': 'Groucho', 'Howard': 'Moe' }\n",
    "\n",
    "pythons.update(others) # key가 중복되는 경우 두번째 dict기준으로 보인다."
   ]
  },
  {
   "cell_type": "markdown",
   "metadata": {},
   "source": [
    "## Delete an Item by Key with del\n",
    "\n",
    "- 리스트와 비슷하게 동작\n",
    "- Dict는 index가 아닌 key로 원하는 항목을 삭제"
   ]
  },
  {
   "cell_type": "code",
   "execution_count": 10,
   "metadata": {},
   "outputs": [
    {
     "name": "stdout",
     "output_type": "stream",
     "text": [
      "{'Chapman': 'Graham', 'Cleese': 'John', 'Gilliam': 'Terry', 'Idle': 'Eric', 'Jones': 'Terry', 'Palin': 'Michael', 'Howard': 'Moe'}\n"
     ]
    }
   ],
   "source": [
    "del pythons['Marx']\n",
    "print(pythons)"
   ]
  },
  {
   "cell_type": "markdown",
   "metadata": {},
   "source": [
    "## Test for a Key with in\n",
    "\n",
    "- in 키워드로 key가 존재하는지 확인"
   ]
  },
  {
   "cell_type": "code",
   "execution_count": null,
   "metadata": {},
   "outputs": [],
   "source": [
    "pythons = {'Chapman': 'Graham', 'Cleese': 'John', 'Jones': 'Terry', 'Palin': 'Michael', 'Idle': 'Eric'}\n",
    "\n",
    "'Chapman' in pythons # True\n",
    "'Gilliam' in pythons # False\n"
   ]
  },
  {
   "cell_type": "markdown",
   "metadata": {},
   "source": [
    "## 기타 함수들\n",
    "\n",
    "- pop\n",
    "- clear\n",
    "- copy\n",
    "- deepcopy"
   ]
  },
  {
   "cell_type": "markdown",
   "metadata": {},
   "source": [
    "## Compare Dictionaries\n",
    "\n",
    "* ==, !=  만 지원\n",
    "* 비교 연산자는 사용할수 없다"
   ]
  },
  {
   "cell_type": "code",
   "execution_count": 1,
   "metadata": {},
   "outputs": [
    {
     "name": "stdout",
     "output_type": "stream",
     "text": [
      "True\n",
      "True\n"
     ]
    }
   ],
   "source": [
    "a = {1:1, 2:2, 3:3}\n",
    "b = {3:3, 1:1, 2:2}\n",
    "print(f\"{a == b}\")\n",
    "\n",
    "a = {1:1, 2:2, 3:4}\n",
    "b = {3:3, 1:1, 2:2}\n",
    "print(f\"{a != b}\")\n",
    "\n",
    "# print(a <= b)\n"
   ]
  },
  {
   "cell_type": "markdown",
   "metadata": {},
   "source": [
    "* key - value의 순서에 상관없이 키와 값을 하나씩 비교"
   ]
  },
  {
   "cell_type": "code",
   "execution_count": null,
   "metadata": {},
   "outputs": [],
   "source": [
    "a = {1: [1, 2], 2: [1], 3:[1]}\n",
    "b = {1: [2, 1], 2: [1], 3:[1]} # value가 리스트\n",
    "print(f\"{a == b}\")\n",
    "\n",
    "a = {1: {\"a\": 1,  \"b\": 2}, 2: [1], 3:[1]}\n",
    "b = {1: {\"b\": 2,  \"a\": 1}, 2: [1], 3:[1]} # value가 dict\n",
    "print(f\"{a == b}\")"
   ]
  },
  {
   "cell_type": "markdown",
   "metadata": {},
   "source": [
    "## Iterate with for and in\n",
    "\n",
    "- keys() : 딕셔너리의 키를 순회\n",
    "    - 딕셔너리 자체를 순회할경우에도 key를 반환\n",
    "- values() : 딕셔너리의 값을 순회\n",
    "- items() : key, value 모든 쌍을 tuple로 순회"
   ]
  },
  {
   "cell_type": "code",
   "execution_count": 2,
   "metadata": {},
   "outputs": [
    {
     "name": "stdout",
     "output_type": "stream",
     "text": [
      "room\n",
      "weapon\n",
      "person\n",
      "ballroom\n",
      "lead pipe\n",
      "Col. Mustard\n",
      "('room', 'ballroom')\n",
      "('weapon', 'lead pipe')\n",
      "('person', 'Col. Mustard')\n",
      "Card room has the contents ballroom\n",
      "Card weapon has the contents lead pipe\n",
      "Card person has the contents Col. Mustard\n"
     ]
    }
   ],
   "source": [
    "# 보드게임 클루(https://namu.wiki/w/Clue)의 카드 유형\n",
    "accusation = {'room': 'ballroom', 'weapon': 'lead pipe', 'person': 'Col. Mustard'}\n",
    "\n",
    "for card in accusation.keys():  #  or, for card in accusation:\n",
    "\tprint(card)\n",
    "\t\n",
    "for value in accusation.values():\n",
    "\tprint(value)\n",
    "\t\n",
    "for item in accusation.items():\n",
    "\tprint(item)\n",
    "\n",
    "#unpacking\n",
    "for card, contents in accusation.items():\n",
    "\tprint(f'Card {card} has the contents {contents}')"
   ]
  },
  {
   "cell_type": "markdown",
   "metadata": {},
   "source": [
    "## Dictionary Comprehensions\n",
    "\n",
    "- Basic\n",
    "\n",
    "`{key_expression : value_expression for expression in iterable}`"
   ]
  },
  {
   "cell_type": "code",
   "execution_count": 3,
   "metadata": {},
   "outputs": [
    {
     "name": "stdout",
     "output_type": "stream",
     "text": [
      "{'l': 1, 'e': 2, 't': 2, 'r': 1, 's': 1}\n"
     ]
    }
   ],
   "source": [
    "word = 'letters'\n",
    "letter_counts = {letter: word.count(letter) for letter in word}\n",
    "print(letter_counts)"
   ]
  },
  {
   "cell_type": "markdown",
   "metadata": {},
   "source": [
    "- 조건문을 포함\n",
    "\n",
    "`{key_expression : value_expression for expression in iterable if condition}`"
   ]
  },
  {
   "cell_type": "code",
   "execution_count": 6,
   "metadata": {},
   "outputs": [
    {
     "name": "stdout",
     "output_type": "stream",
     "text": [
      "{'e': 1, 'o': 4, 'a': 2, 'i': 1}\n"
     ]
    }
   ],
   "source": [
    "vowels = 'aeiou'\n",
    "word = 'onomatopoeia'\n",
    "vowel_counts = {\n",
    "        letter: word.count(letter) \n",
    "        for letter in set(word)\n",
    "\t        if letter in vowels\n",
    "         }\n",
    "\n",
    "print(vowel_counts)"
   ]
  },
  {
   "cell_type": "markdown",
   "metadata": {},
   "source": [
    "# Sets\n",
    "\n",
    "* 값이 유일한 list와 같다\n",
    "\n",
    "* 수학의 집합과 같은 개념\n",
    "\n",
    "![set_pic](./images/set_pic.png)"
   ]
  },
  {
   "cell_type": "markdown",
   "metadata": {},
   "source": [
    "## Create with set()\n",
    "\n",
    "- set() 함수를 하용하거나, `{}` 를 이용\n",
    "\n",
    "- 값은 순서와 상관없다"
   ]
  },
  {
   "cell_type": "code",
   "execution_count": 10,
   "metadata": {},
   "outputs": [
    {
     "name": "stdout",
     "output_type": "stream",
     "text": [
      "set(), <class 'set'>\n",
      "{}, <class 'dict'>\n",
      "{0, 2, 4, 6, 8}, <class 'set'>\n",
      "{1, 3, 5, 7, 9}, <class 'set'>\n"
     ]
    }
   ],
   "source": [
    "empty_set = set()\n",
    "print(f\"{empty_set}, {type(empty_set)}\")\n",
    "\n",
    "# dictionary가 먼저 나와서 {}로 표현\n",
    "empty_set = {}\n",
    "print(f\"{empty_set}, {type(empty_set)}\")\n",
    "\n",
    "even_numbers = {0, 2, 4, 6, 8}\n",
    "print(f\"{even_numbers}, {type(even_numbers)}\")\n",
    "\n",
    "odd_numbers = {1, 3, 5, 7, 9}\n",
    "print(f\"{odd_numbers}, {type(odd_numbers)}\")\n",
    "\n",
    "# odd_number[0] # 각 원소에 접근할수 없다."
   ]
  },
  {
   "cell_type": "markdown",
   "metadata": {},
   "source": [
    "## Convert with set()"
   ]
  },
  {
   "cell_type": "code",
   "execution_count": 11,
   "metadata": {},
   "outputs": [
    {
     "name": "stdout",
     "output_type": "stream",
     "text": [
      "{'t', 'l', 'e', 's', 'r'}, <class 'set'>\n",
      "{'Dancer', 'Prancer', 'Dasher', 'Mason-Dixon'}, <class 'set'>\n",
      "{'Echoes', 'Atom Heart Mother', 'Ummagumma'}, <class 'set'>\n"
     ]
    }
   ],
   "source": [
    "# 시퀀스\n",
    "\n",
    "s = set( 'letters' )     # 문자열\n",
    "print(f\"{s}, {type(s)}\")\n",
    "\n",
    "s = set( ['Dasher', 'Dancer', 'Prancer', 'Mason-Dixon'] ) # list\n",
    "print(f\"{s}, {type(s)}\")\n",
    "\n",
    "s = set( ('Ummagumma', 'Echoes', 'Atom Heart Mother') ) # tuple\n",
    "print(f\"{s}, {type(s)}\")"
   ]
  },
  {
   "cell_type": "code",
   "execution_count": 12,
   "metadata": {},
   "outputs": [
    {
     "name": "stdout",
     "output_type": "stream",
     "text": [
      "{'orange', 'apple', 'cherry'}, <class 'set'>\n"
     ]
    }
   ],
   "source": [
    "# dictionary는 키만 들고온다\n",
    "\n",
    "s = set( {'apple': 'red', 'orange': 'orange', 'cherry': 'red'} )\n",
    "print(f\"{s}, {type(s)}\")"
   ]
  },
  {
   "cell_type": "markdown",
   "metadata": {},
   "source": [
    "## Set 사용하기\n",
    "\n",
    "- len() : 전체길이, 파이썬 내장함수\n",
    "    \n",
    "    ```python\n",
    "    len(set_a)\n",
    "    ```\n",
    "    \n",
    "- add(<item>) : 항목 추가\n",
    "- remove(<item>) : 항목 제거\n",
    "- for .. in … : 다른 시퀀스 순회하기로 동일"
   ]
  },
  {
   "cell_type": "markdown",
   "metadata": {},
   "source": [
    "## Test for a Value with in"
   ]
  },
  {
   "cell_type": "code",
   "execution_count": 13,
   "metadata": {},
   "outputs": [
    {
     "name": "stdout",
     "output_type": "stream",
     "text": [
      "martini\n",
      "black russian\n",
      "white russian\n",
      "screwdriver\n"
     ]
    }
   ],
   "source": [
    "# 키 : 음료의 이름\n",
    "# 값 : 각 음료에 필요한 재료의 Sets\n",
    "drinks = {\n",
    "\t'martini': {'vodka', 'vermouth'},\n",
    "\t'black russian': {'vodka', 'kahlua'},\n",
    "\t'white russian': {'cream', 'kahlua', 'vodka'},\n",
    "\t'manhattan': {'rye', 'vermouth', 'bitters'},\n",
    "\t'screwdriver': {'orange juice', 'vodka'}\n",
    "}\n",
    "\n",
    "# 보드카가 포함된 음료\n",
    "for name, contents in drinks.items():\n",
    "\tif 'vodka' in contents:\n",
    "\t\tprint(name)"
   ]
  },
  {
   "cell_type": "markdown",
   "metadata": {},
   "source": [
    "* 보드카가 섞인 음료를 마시고 싶은데, \n",
    "  \n",
    "* 젖당(lactose) 알레르기가 있어서 Cream이 들어간건 먹을수 없고, \n",
    "  \n",
    "* vermouth가 들어간 건 마시고 싶지 않다"
   ]
  },
  {
   "cell_type": "code",
   "execution_count": 14,
   "metadata": {},
   "outputs": [
    {
     "name": "stdout",
     "output_type": "stream",
     "text": [
      "black russian\n",
      "screwdriver\n"
     ]
    }
   ],
   "source": [
    "for name, contents in drinks.items():\n",
    "\tif 'vodka' in contents and not ('vermouth' in contents or 'cream' in contents):\n",
    "\t\tprint(name)"
   ]
  },
  {
   "cell_type": "markdown",
   "metadata": {},
   "source": [
    "## Combinations and Operators"
   ]
  },
  {
   "cell_type": "code",
   "execution_count": 19,
   "metadata": {},
   "outputs": [
    {
     "name": "stdout",
     "output_type": "stream",
     "text": [
      "{'vodka', 'kahlua'} {'cream', 'kahlua', 'vodka'}\n"
     ]
    }
   ],
   "source": [
    "# 두 음료의 재료 셋을 변수에 저장\n",
    "\n",
    "bruss = drinks['black russian']\n",
    "wruss = drinks['white russian']\n",
    "\n",
    "print(bruss, wruss)"
   ]
  },
  {
   "cell_type": "markdown",
   "metadata": {},
   "source": [
    "### intersection (교집합) : `&` "
   ]
  },
  {
   "cell_type": "code",
   "execution_count": 21,
   "metadata": {},
   "outputs": [
    {
     "name": "stdout",
     "output_type": "stream",
     "text": [
      "{2}\n",
      "{2}\n",
      "{'vodka', 'kahlua'}\n"
     ]
    }
   ],
   "source": [
    "a = {1, 2}\n",
    "b = {2, 3}\n",
    "\n",
    "print(a & b)\n",
    "print(a.intersection(b))\n",
    "\n",
    "print(bruss & wruss)\n"
   ]
  },
  {
   "cell_type": "code",
   "execution_count": null,
   "metadata": {},
   "outputs": [],
   "source": [
    "# 위의 문제를 풀어보면\n",
    "for name, contents in drinks.items():\n",
    "\tif 'vodka' in contents and not contents & {'vermouth', 'cream'}:\n",
    "\t\tprint(name)"
   ]
  },
  {
   "cell_type": "markdown",
   "metadata": {},
   "source": [
    "### Union(합집합) : `|` "
   ]
  },
  {
   "cell_type": "code",
   "execution_count": 22,
   "metadata": {},
   "outputs": [
    {
     "name": "stdout",
     "output_type": "stream",
     "text": [
      "{1, 2, 3}\n",
      "{1, 2, 3}\n",
      "{'cream', 'vodka', 'kahlua'}\n"
     ]
    }
   ],
   "source": [
    "a = {1, 2}\n",
    "b = {2, 3}\n",
    "\n",
    "print(a | b)\n",
    "print(a.union(b))\n",
    "\n",
    "print(bruss | wruss)"
   ]
  },
  {
   "cell_type": "markdown",
   "metadata": {},
   "source": [
    "### 그외\n",
    "\n",
    "* 차집합 `bruss - wruss`\n",
    "  \n",
    "* 부분집합 `bruss <= wruss`\n",
    "\n",
    "* 대칭 차집합 `bruss ^ wruss`"
   ]
  },
  {
   "cell_type": "markdown",
   "metadata": {},
   "source": [
    "## Set Comprehensions\n",
    "\n",
    "`{ expression for expression in iterable }`\n",
    "\n",
    "`{ expression for expression in iterable if condition }`\n",
    "\n",
    "\n",
    "* list comprehension에서 [] 가 {} 로 바뀐것 말고는 다른점이 없다"
   ]
  },
  {
   "cell_type": "markdown",
   "metadata": {},
   "source": [
    "## Create an Immutable Set with frozenset()"
   ]
  },
  {
   "cell_type": "code",
   "execution_count": 32,
   "metadata": {},
   "outputs": [
    {
     "name": "stdout",
     "output_type": "stream",
     "text": [
      "frozenset({1, 2, 3}), <class 'frozenset'>\n",
      "frozenset({1, 2, 3}), <class 'frozenset'>\n",
      "frozenset({1, 2, 3}), <class 'frozenset'>\n",
      "frozenset({1, 2, 3}), <class 'frozenset'>\n"
     ]
    }
   ],
   "source": [
    "a = frozenset([3, 2, 1])\n",
    "print(f\"{a}, {type(a)}\")\n",
    "\n",
    "a = frozenset(set([2, 1, 3]))\n",
    "print(f\"{a}, {type(a)}\")\n",
    "\n",
    "a = frozenset({3, 1, 2})\n",
    "print(f\"{a}, {type(a)}\")\n",
    "\n",
    "a = frozenset( (2, 3, 1) )\n",
    "print(f\"{a}, {type(a)}\")\n",
    "\n",
    "#a.add(4) # 에러"
   ]
  },
  {
   "cell_type": "markdown",
   "metadata": {},
   "source": [
    "# Data Structures So Far\n",
    "\n",
    "- A list by using square brackets (`[]`)\n",
    "  \n",
    "- A tuple by using commas and optional parentheses\n",
    "  \n",
    "- A dictionary or set by using curly brackets (`{}`)"
   ]
  },
  {
   "cell_type": "markdown",
   "metadata": {},
   "source": [
    "# Make Bigger Data Structures"
   ]
  },
  {
   "cell_type": "code",
   "execution_count": 34,
   "metadata": {},
   "outputs": [
    {
     "name": "stdout",
     "output_type": "stream",
     "text": [
      "{'Marxes': ['Groucho', 'Chico', 'Harpo'], 'Pythons': ['Chapman', 'Cleese', 'Gilliam', 'Jones', 'Palin'], 'Stooges': ['Moe', 'Curly', 'Larry']}\n"
     ]
    }
   ],
   "source": [
    "marxes = ['Groucho', 'Chico', 'Harpo']\n",
    "pythons = ['Chapman', 'Cleese', 'Gilliam', 'Jones', 'Palin']\n",
    "stooges = ['Moe', 'Curly', 'Larry']\n",
    "\n",
    "dict_of_lists = {'Marxes': marxes, 'Pythons': pythons, 'Stooges': stooges}\n",
    "\n",
    "print(dict_of_lists)"
   ]
  },
  {
   "cell_type": "markdown",
   "metadata": {},
   "source": [
    "* dict의 키는 불변한 객체면 모두 가능"
   ]
  },
  {
   "cell_type": "code",
   "execution_count": 36,
   "metadata": {},
   "outputs": [
    {
     "name": "stdout",
     "output_type": "stream",
     "text": [
      "{(44.79, -93.14, 285): 'My House', (38.89, -77.03, 13): 'The White House'}\n"
     ]
    }
   ],
   "source": [
    "# 위도와 경도의 튜플이 키\n",
    "# 문자열이 값\n",
    "houses = {\n",
    "        (44.79, -93.14, 285): 'My House',\n",
    "        (38.89, -77.03, 13): 'The White House'\n",
    "        }\n",
    "\n",
    "print(houses)"
   ]
  },
  {
   "cell_type": "markdown",
   "metadata": {},
   "source": []
  },
  {
   "cell_type": "code",
   "execution_count": null,
   "metadata": {},
   "outputs": [],
   "source": []
  }
 ],
 "metadata": {
  "kernelspec": {
   "display_name": "python-class",
   "language": "python",
   "name": "python3"
  },
  "language_info": {
   "codemirror_mode": {
    "name": "ipython",
    "version": 3
   },
   "file_extension": ".py",
   "mimetype": "text/x-python",
   "name": "python",
   "nbconvert_exporter": "python",
   "pygments_lexer": "ipython3",
   "version": "3.11.8"
  }
 },
 "nbformat": 4,
 "nbformat_minor": 2
}
