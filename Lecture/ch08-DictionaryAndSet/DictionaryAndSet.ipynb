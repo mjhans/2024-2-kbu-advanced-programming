{
 "cells": [
  {
   "cell_type": "markdown",
   "metadata": {},
   "source": [
    "# Dictionary\n",
    "\n",
    "대응 관계 자료구조\n",
    "\n",
    "dict라고 부른다\n",
    "\n",
    "Key-Value 쌍을 갖는다.\n",
    "\n",
    "자바는 hashmap이라는 collections 패키지에 포함, 보통 Map 자료형이라고 한다.\n",
    "\n",
    "파이썬의 Dictionary는 json과 높은 호환성\n",
    "\n",
    "key값을 변경할수 없는 값만 가능 \n",
    "- List는 안됨\n",
    "- tuple 가능\n",
    "\n",
    "value는 어떤 데이터 형도 가능\n",
    "\n",
    "데이터를 담는 역할을한다.\n",
    "\n",
    "키는 중복될수 없다"
   ]
  },
  {
   "cell_type": "markdown",
   "metadata": {},
   "source": [
    "## Create with {}\n",
    "\n",
    "- Key와 Value의 쌍 여러 개 (Key : Value)가 { }로 둘러싸임\n",
    "- 각 요소는 쉼표(,)로 구분됨"
   ]
  },
  {
   "cell_type": "code",
   "execution_count": null,
   "metadata": {},
   "outputs": [],
   "source": [
    "empty_dict = {}\n",
    "\n",
    "bierce = {\n",
    "\t\"day\": \"A period of twenty-four hours, mostly misspent\",\n",
    "\t\"positive\": \"Mistaken at the top of one's voice\",\n",
    "\t\"misfortune\": \"The kind of fortune that never misses\",\n",
    "}"
   ]
  },
  {
   "cell_type": "markdown",
   "metadata": {},
   "source": [
    "## Create with dict()"
   ]
  },
  {
   "cell_type": "code",
   "execution_count": 1,
   "metadata": {},
   "outputs": [
    {
     "ename": "SyntaxError",
     "evalue": "invalid syntax. Perhaps you forgot a comma? (12910001.py, line 4)",
     "output_type": "error",
     "traceback": [
      "\u001b[0;36m  Cell \u001b[0;32mIn[1], line 4\u001b[0;36m\u001b[0m\n\u001b[0;31m    acme_customer = dict(first=\"Wile\", midd le=\"E\", last=\"Coyote\")\u001b[0m\n\u001b[0m                                       ^\u001b[0m\n\u001b[0;31mSyntaxError\u001b[0m\u001b[0;31m:\u001b[0m invalid syntax. Perhaps you forgot a comma?\n"
     ]
    }
   ],
   "source": [
    "acme_customer = dict(first=\"Wile\", middle=\"E\", last=\"Coyote\")\n",
    "\n",
    "# 키에 예약어 또는 공백이 없어야 한다.\n",
    "acme_customer = dict(first=\"Wile\", midd le=\"E\", last=\"Coyote\")\n",
    "\n",
    "acme_customer = dict(first=\"Wile\", middle=\"E\", def=\"Coyote\")"
   ]
  },
  {
   "cell_type": "markdown",
   "metadata": {},
   "source": [
    "## Convert with dict()\n",
    "\n",
    "두 값으로 이루어진 시퀀스를 딕셔너리로 변환할수 있다."
   ]
  },
  {
   "cell_type": "code",
   "execution_count": 3,
   "metadata": {},
   "outputs": [
    {
     "name": "stdout",
     "output_type": "stream",
     "text": [
      "lol={'a': 'b', 'c': 'd', 'e': 'f'}\n",
      "lot={'a': 'b', 'c': 'd', 'e': 'f'}\n",
      "tol={'a': 'b', 'c': 'd', 'e': 'f'}\n",
      "los={'a': 'b', 'c': 'd', 'e': 'f'}\n"
     ]
    }
   ],
   "source": [
    "lol = dict([ ['a', 'b'], ['c', 'd'], ['e', 'f'] ])\n",
    "print(f\"{lol=}\")\n",
    "\n",
    "lot = dict([ ('a', 'b'), ('c', 'd'), ('e', 'f') ])\n",
    "print(f\"{lot=}\")\n",
    "\n",
    "tol = dict(( ['a', 'b'], ['c', 'd'], ['e', 'f'] ))\n",
    "print(f\"{tol=}\")\n",
    "\n",
    "los = dict([ 'ab', 'cd', 'ef' ])\n",
    "print(f\"{los=}\")\n",
    "\n"
   ]
  },
  {
   "cell_type": "markdown",
   "metadata": {},
   "source": [
    "## Add or Change an Item\n",
    "\n",
    "### By [key]\n",
    "\n",
    "키에 참조되는 항목에 값을 할당하면\n",
    "\n",
    "- 키가 있는 경우 value 가 업데이트\n",
    "- 키가 없다면, 새로운 키 생성 후 value 추가"
   ]
  },
  {
   "cell_type": "code",
   "execution_count": 4,
   "metadata": {},
   "outputs": [],
   "source": [
    "pythons = {\n",
    "\t'Chapman': 'Graham',\n",
    "\t'Cleese': 'John',\n",
    "\t'Idle': 'Eric',\n",
    "\t'Jones': 'Terry',\n",
    "\t'Palin': 'Michael',\n",
    "}\n",
    "\n",
    "pythons['Gilliam'] = 'Gerry' # 키를 새로 생성\n",
    "\n",
    "pythons['Gilliam'] = 'Terry' # 기존 키 없데이트"
   ]
  },
  {
   "cell_type": "code",
   "execution_count": 5,
   "metadata": {},
   "outputs": [],
   "source": [
    "some_pythons = {\n",
    "\t'Graham': 'Chapman',\n",
    "\t'John': 'Cleese',\n",
    "\t'Eric': 'Idle',\n",
    "\t'Terry': 'Gilliam',\n",
    "\t'Michael': 'Palin',\n",
    "\t'Terry': 'Jones',      # 마지막에 설정된 값을 사용한다.\n",
    "}"
   ]
  },
  {
   "cell_type": "markdown",
   "metadata": {},
   "source": [
    "### By get()\n",
    "\n",
    "키가 없을 경우 에러 발생"
   ]
  },
  {
   "cell_type": "code",
   "execution_count": null,
   "metadata": {},
   "outputs": [],
   "source": [
    "some_pythons['John'] # Cleese가 나온다.\n",
    "some_pythons['Groucho'] # 에러 발생"
   ]
  },
  {
   "cell_type": "code",
   "execution_count": null,
   "metadata": {},
   "outputs": [],
   "source": [
    "# 키가 존재하는지 테스트한 뒤 키로 접근하는 방법이 있다.\n",
    "if 'Groucho' in some_pythons:\n",
    "\tsome_pythons['Groucho']\n",
    "else:\n",
    "\tprint('not exist key')"
   ]
  },
  {
   "cell_type": "code",
   "execution_count": null,
   "metadata": {},
   "outputs": [],
   "source": [
    "# get 함수를 이용해서 키가 없을 경우 default 값을 할당 하도록 한다.\n",
    "some_pythons.get('John')\n",
    "some_pythons.get('Groucho', 'Not a Python')\n",
    "some_pythons.get('Groucho') # 에러가 나지 않고 None을 반환"
   ]
  },
  {
   "cell_type": "markdown",
   "metadata": {},
   "source": [
    "## Get all items in Dictionary\n",
    "\n",
    "- 반환값은 리스트와 같이 메모리에 할당된 값이 아닌, iterable이다."
   ]
  },
  {
   "cell_type": "code",
   "execution_count": 7,
   "metadata": {},
   "outputs": [
    {
     "name": "stdout",
     "output_type": "stream",
     "text": [
      "signals.keys() = dict_keys(['green', 'yellow', 'red'])\n",
      "signals.values() = dict_values(['go', 'go faster', 'smile for the camera'])\n",
      "signals.items() = dict_items([('green', 'go'), ('yellow', 'go faster'), ('red', 'smile for the camera')])\n"
     ]
    }
   ],
   "source": [
    "signals = {'green': 'go', 'yellow': 'go faster', 'red': 'smile for the camera'}\n",
    "\n",
    "print(f\"{signals.keys() = }\") # 키값만 iterable로 반홤\n",
    "\n",
    "print(f\"{signals.values() = }\") # value만 iterable로 반환\n",
    "print(f\"{signals.items() = }\") # k, v 튜플로 구성된 iterable로 반환"
   ]
  },
  {
   "cell_type": "markdown",
   "metadata": {},
   "source": [
    "## Get Length with len()\n",
    "\n",
    "key-value 쌍의 값을 구할수 있다."
   ]
  },
  {
   "cell_type": "code",
   "execution_count": 8,
   "metadata": {},
   "outputs": [
    {
     "data": {
      "text/plain": [
       "3"
      ]
     },
     "execution_count": 8,
     "metadata": {},
     "output_type": "execute_result"
    }
   ],
   "source": [
    "len(signals)"
   ]
  },
  {
   "cell_type": "markdown",
   "metadata": {},
   "source": [
    "## Combine Dictionaries\n",
    "\n",
    "- 3.5 이상부터 가능한 방법 : Shallow Copy"
   ]
  },
  {
   "cell_type": "code",
   "execution_count": null,
   "metadata": {},
   "outputs": [],
   "source": [
    "first = {'a': 'agony', 'b': 'bliss'}\n",
    "second = {'b': 'bagels', 'c': 'candy'}\n",
    "combine = {**first, **second}"
   ]
  },
  {
   "cell_type": "markdown",
   "metadata": {},
   "source": [
    "- update 함수를 사용한 방법\n",
    "    - key와 value를 복사해서 다른 dict에 붙여준다"
   ]
  },
  {
   "cell_type": "code",
   "execution_count": 9,
   "metadata": {},
   "outputs": [],
   "source": [
    "pythons = {\n",
    "\t'Chapman': 'Graham',\n",
    "\t'Cleese': 'John',\n",
    "\t'Gilliam': 'Terry',\n",
    "\t'Idle': 'Eric',\n",
    "\t'Jones': 'Terry',\n",
    "\t'Palin': 'Michael',\n",
    "}\n",
    "others = { 'Marx': 'Groucho', 'Howard': 'Moe' }\n",
    "\n",
    "pythons.update(others) # key가 중복되는 경우 두번째 dict기준으로 보인다."
   ]
  },
  {
   "cell_type": "markdown",
   "metadata": {},
   "source": [
    "## Delete an Item by Key with del\n",
    "\n",
    "- 리스트와 비슷하게 동작\n",
    "- Dict는 index가 아닌 key로 원하는 항목을 삭제"
   ]
  },
  {
   "cell_type": "code",
   "execution_count": 10,
   "metadata": {},
   "outputs": [
    {
     "name": "stdout",
     "output_type": "stream",
     "text": [
      "{'Chapman': 'Graham', 'Cleese': 'John', 'Gilliam': 'Terry', 'Idle': 'Eric', 'Jones': 'Terry', 'Palin': 'Michael', 'Howard': 'Moe'}\n"
     ]
    }
   ],
   "source": [
    "del pythons['Marx']\n",
    "print(pythons)"
   ]
  },
  {
   "cell_type": "markdown",
   "metadata": {},
   "source": [
    "## Test for a Key with in\n",
    "\n",
    "- in 키워드로 key가 존재하는지 확인"
   ]
  },
  {
   "cell_type": "code",
   "execution_count": null,
   "metadata": {},
   "outputs": [],
   "source": [
    "pythons = {'Chapman': 'Graham', 'Cleese': 'John', 'Jones': 'Terry', 'Palin': 'Michael', 'Idle': 'Eric'}\n",
    "\n",
    "'Chapman' in pythons # True\n",
    "'Gilliam' in pythons # False\n"
   ]
  },
  {
   "cell_type": "markdown",
   "metadata": {},
   "source": [
    "## 기타 함수들\n",
    "\n",
    "- pop\n",
    "- clear\n",
    "- copy\n",
    "- deepcopy"
   ]
  },
  {
   "cell_type": "markdown",
   "metadata": {},
   "source": []
  }
 ],
 "metadata": {
  "kernelspec": {
   "display_name": "python-class",
   "language": "python",
   "name": "python3"
  },
  "language_info": {
   "codemirror_mode": {
    "name": "ipython",
    "version": 3
   },
   "file_extension": ".py",
   "mimetype": "text/x-python",
   "name": "python",
   "nbconvert_exporter": "python",
   "pygments_lexer": "ipython3",
   "version": "3.11.8"
  }
 },
 "nbformat": 4,
 "nbformat_minor": 2
}
